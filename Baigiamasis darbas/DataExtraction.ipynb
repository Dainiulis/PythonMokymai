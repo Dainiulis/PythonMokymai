{
 "cells": [
  {
   "cell_type": "code",
   "execution_count": 86,
   "metadata": {},
   "outputs": [],
   "source": [
    "import pandas as pd\n",
    "import os\n",
    "import PyPDF2\n",
    "import re\n",
    "import shutil"
   ]
  },
  {
   "cell_type": "code",
   "execution_count": 80,
   "metadata": {},
   "outputs": [],
   "source": [
    "df = pd.read_clipboard()"
   ]
  },
  {
   "cell_type": "code",
   "execution_count": 81,
   "metadata": {},
   "outputs": [],
   "source": [
    "def get_pages_text_list(pdf_file):\n",
    "    file = open(pdf_file, 'rb')\n",
    "    file_reader = PyPDF2.PdfFileReader(file)\n",
    "    file_reader.numPages\n",
    "    pages_text_list = [file_reader.getPage(i).extractText() for i in range(file_reader.NumPages)]\n",
    "    return pages_text_list    "
   ]
  },
  {
   "cell_type": "code",
   "execution_count": 82,
   "metadata": {},
   "outputs": [],
   "source": [
    "i = 10\n",
    "pdfs = [os.path.join(df.robo_dok_folder_path[i], f) for f in os.listdir(df.robo_dok_folder_path[i]) if f.lower().endswith('pdf')]\n",
    "pdfs.sort(key=lambda x: os.stat(x).st_size, reverse=True)\n",
    "pdf_file = pdfs[0]"
   ]
  },
  {
   "cell_type": "code",
   "execution_count": 83,
   "metadata": {},
   "outputs": [],
   "source": [
    "def get_pages_text_list(pdf_file):\n",
    "    file = open(pdf_file, 'rb')\n",
    "    file_reader = PyPDF2.PdfFileReader(file)\n",
    "    pages_text_list = [file_reader.getPage(i).extractText() for i in range(file_reader.numPages)]\n",
    "    if any('rejestras' in txt.lower().replace(' ', '') for txt in pages_text_list):\n",
    "        return pages_text_list\n",
    "    else:\n",
    "        return []"
   ]
  },
  {
   "cell_type": "code",
   "execution_count": 84,
   "metadata": {},
   "outputs": [],
   "source": [
    "pages_text_list = get_pages_text_list(pdf_file)"
   ]
  },
  {
   "cell_type": "code",
   "execution_count": 85,
   "metadata": {},
   "outputs": [
    {
     "data": {
      "text/plain": [
       "['\\nR E J E S T R A S\\nEil. \\nNr.\\nDokumento pavadinimasDokumento Nr.\\nsk.\\nPastabos\\n1Rejestras\\nb/n12\\nb/n33\\nE1N10463651\\n4Schema\\nb/n15\\n\\n\\nE1N10463651\\n6\\n\\n\\n\\ntikrinimo protokolas\\nE1N10463651\\n7\\n\\n\\nE1N10463652\\n\\\\8\\n\\n\\nE1N10463651\\n9\\nE1N10463651\\n\\n7/20/2020\\n\\n                                             \\n\\n\\n\\n\\n\\n\\n\\n\\nNV',\n",
       " '\\n\\n˘ˇˆ˙˝˛˚˜ \\n\\n˘ˇˆ˙˝˛!\"!˝˛˚\"˛ˆ˝ˆ˚ˆ#$!%˙˝&˜ \\n\\n\\n\\n˘ˇˆˇ˙˘˝˙˛˚˜ˇ ˇ!ˇ\"˙\\n˚#$%˚&$\\'()*˜\\n+**&\\n,-%%%./*&.0(.(\\n\\'(˙\"˛!)˚*˚#ˆ˝ˆ%˚˜ \\n˛1˝1˙˛2˙2˙˛\\n\\'(˙\"˛!˚#+˙˜˚˜ \\n˚#$%˚&$\\'()*˜\\n+**&\\n˝*˙˜˛ˆ,ˆ˝ˆ!)+!(˙\"˛!+ \\n3!4-5\\n˘ˇˆ˙˝˛!)˚+˚ˆ-\"!˜+\\n#$!%˙˝&˜\\n3*(*+/\\n678\\n!+*+/678\\n-*ˆ˜!ˇ˙ˆ˜˛ˆ˝!(ˆ˝˚$#!˛ˆ.˚ˇˆ˚\\n/\"01 \\n2ˇ˙\"˛+!˜˙˝˙+.ˆ(!˜˛ˆ˙\"ˆ%!)˚˛ˆ\"ˆ%$%!\\n\"˚˛˙.!+ˆ(˚\\n3˛*˚#!˛ˆ)˚˜\\n/*ˆ˙˝4˚5ˆ˜6\\n˛+ˆ4˚5ˆ˜1\\n\\n\\n547˜9:*\\n29:*\\n+ˆ4˚5ˆ˜\\n˚(.;*)***)**)&\\nˇ#()*\\n!+<*=\\n89ˆ!˜)+ˆ($˝.ˆ%!˜:ˇ&.!˜ˆ-#$!#˚%!˜\\n˚>*?˚#$%˚&$\\n\\'()*˜+**&)+(+)\\n˙@A3***=()+*B6+C\\n@/&;8**($$$1>*D\\n$)+(+)*)(+*)+(\\n#**<&D.E+*(+*\\n/+*\\n$!˜˚*&\\';˜ˆ+˛$+˛!˙\"˜)ˇ!˚˛˚*ˆ%!+ˆ\\'˚˝$˜˛˚˛!%˚\\n3*$+*&=>;*>\\n+*=>6D&/8)#(.\\n;*)***)*6˚˙˛8D*&>&/\\n*\\n*F)+(=>$\\n\\n˘ˇˆ˙˝˛!*˙ˆ\"˜%˚ˆ<.&*˙˝#ˆ˝˚˝˛\\'(˙\"˛!)+ˆ($˝.ˆ%: \\n\\n˘ˇˆ˙\\nˆ˝˛˚\\n˛˜˘˘˛\\n˚\\n\\n   !˘\\n˜\"\\n#$˚\\n%\\n&\\'˙˚˘(\\n)˚*˚˜+,-˘ˆ\\n\\n)ˇ.˘ˆ˝˘˙/˛/\\n01\"2˙%ˇ.\\n1ˆ˘˛˝˚!˚3ˆ\\n˚$+,-˘()˚\\n*ˆ/˛\\n2-)4˛/,˛\\n˚ˇ.5˘˝˘\\n*+,-/˘ˆ˙/˜\\n5˘˚\\n   !!˘..!\\n˘/()6\\n˘/()6\\n˘/()6\\n˘/()6\\n\\n7˚\\n˚-\\n89\\n˘ˇˆ˙˝˛=˚)˛˚+˝˚*ˆ%˚˜\\n\\n@/&;&\"G*$*(*/+(**;*\\n+*)>;<**;*)/*/*;\\n9(.)\"G*$*(*\\n/+($&=(*F=**+*+****&#\\n*>(@/&;**&;HHH*\\n\\n>%!˝;˜+˙\"*ˆ5ˆ˛˚ˆ\\n˚$)&(I5>I%I5J\\n\\n!((**+($I5\\n\\n!((/+$*+(I4\\n\\n˛&;HHH*\\n˙@A3***=()+*B\\n˙+$4-˜+*K+&\\n3)90*\\n\\n\"+/*(*/*-45-%\\n\\n˜\\'/*K2I\\n\\n˘*&=*˜L˘*$.*\\n\\n3)*=(*-45-%\\nJˇ**+(*)(*(*)=#\\n)+*)\\nD+*\\n',\n",
       " 'ˆ-ˆ-\\nˇ/˝ˆ+*\\n/˘ˆ)-\\n˘ˇ˘˝ˆ/-˘˙/˛\\n\\n/\\n˘ˆ:\\n\\n/ˆ(\\n,$˙˚ˆ\\n2\\n--\\n-˙ˆ˚\\n˚ˆ7˘\\nˆ$ˆ˙\\n˘\\n&˙*˚˙\\n˘\\n\\'+\\n,˛˚$˚˜\\n˘˘˛\\n   !˘\\n1ˆ˘˛˘˚$˚˚\\n\\n\\n\\n;0˚\\n$˙\\n˛\\n˙,?˝ˆ˝ˆ˚ˆ˜)+˙˝#ˆ%˚ˆ3@A2˝˙+.ˆ(!˜˜\"ˆ+˜˛&%!!)˙\\n+˚˛!+ˆ$˜B˙ˇ˙\"˛+!˜˛ˆ˝\"ˇ!#˚ˇˆ˚ˆ\\n43*(F(.;*)***)F˚˙˛I-#\\n*9(;*-*?F*\\nKI(*!IM)*D9:N(.\\nN)***)F6+˚˙˛8*+9:+A B\\n.E**˙+(+++)*\\n**+6˚*!---\\n˙>!5%1>!%I-8\\n4˚˙˛)+((\\n**)G&&/+\\n4-!+**+*#(+\\n˘ˆ˛˚ˆ˝4!+%˚,ˆ(˚\\n\\n53**)+().*F*\\n>;˙@A3***=()+*B\\n*&**&;+F*\\nHHH*\\n*=\\n˝+++*9(.*/;*D\\n$)+((*$<*$>$˙@\\nA3***=()+*B($)*+$\\n*\\nHHH*\\n>*+<$\\n)&(9+\\n8C\\n˛(>+?)(*()\"G*$)*=#\\n)+*(F9F(;()F\\n)&ˇ<+*2˙\\'˙O˙P˛˚ˇ3!QK˙ˇ\\'P2Q\\n);ˇ<+*2˙\\'˙O˙P˛˚ˇ3!QK˙ˇ\\'P2Q\\n˘ˇˆ˙˝˛=˚)˛˚+˝˚*ˆ%˚˜\\n\\n@/&;&\"G*$*(*/+(**;*\\n+*)>;<**;*)/*/*;\\n9(.)\"G*$*(*\\n/+($&=(*F=**+*+****&#\\n*>(@/&;**&;HHH*\\n\\n>%!˝;˜+˙\"*ˆ5ˆ˛˚ˆ\\n˚$)&(I5>I%I5J\\n\\n!((**+($I5\\n\\n!((/+$*+(I4\\n\\n˛&;HHH*\\n˙@A3***=()+*B\\n˙+$4-˜+*K+&\\n3)90*\\n\\n\"+/*(*/*-45-%\\n\\n˜\\'/*K2I\\n\\n˘*&=*˜L˘*$.*\\n\\n3)*=(*-45-%\\nJˇ**+(*)(*(*)=#\\n)+*)\\nD+*\\n',\n",
       " '+ˆ˙#˚˜)+ˆ˙)+ˆ($˝.ˆ%!˜:ˇ&.=+\\n\\n2+()+**(**+(*\\n˘ˇˆ˙˝˛=˚)˛˚+˝˚*ˆ%˚˜\\n\\n@/&;&\"G*$*(*/+(**;*\\n+*)>;<**;*)/*/*;\\n9(.)\"G*$*(*\\n/+($&=(*F=**+*+****&#\\n*>(@/&;**&;HHH*\\n\\n>%!˝;˜+˙\"*ˆ5ˆ˛˚ˆ\\n˚$)&(I5>I%I5J\\n\\n!((**+($I5\\n\\n!((/+$*+(I4\\n\\n˛&;HHH*\\n˙@A3***=()+*B\\n˙+$4-˜+*K+&\\n3)90*\\n\\n\"+/*(*/*-45-%\\n\\n˜\\'/*K2I\\n\\n˘*&=*˜L˘*$.*\\n\\n3)*=(*-45-%\\nJˇ**+(*)(*(*)=#\\n)+*)\\nD+*\\n',\n",
       " '\\n\\n\\n\\nTelefonas:+370 447 70120 \\n\\nFaksas:+370 447 70128  \\nAB ESO Vilniaus regiono TVD\\nVilnius\\n\\n(pareigos)\\n\\n\\n\\nE1N1046365\\nRangovo atstovas\\n\\n(objekto pavadinimas)\\n\\n\\n\\n\\n\\n\\n(data)\\n(val.)\\nPastaba:\\n\\n',\n",
       " '',\n",
       " '',\n",
       " '\\n\\n\\n\\nTelefonas:+370 447 70120 \\n\\nFaksas:+370 447 70128  \\nAB ESO Vilniaus regiono TVD\\nVilnius\\ngam. Nr.\\n\\n\\n12<0,05\\n\\ngera\\nPastaba:\\n\\n\\n\\nKAS-28236\\n\\n\\n\\n\\n\\n\\n\\n\\n\\n\\n\\n\\n\\n\\n\\nEil.  Nr.\\nMatavimo \\n\\n\\n\\n\\niki \\n\\n\\nMatavimo atlikimo data:\\nMatavimo prietaiso pavadinimas ir numeris:\\n\\n7/20/2020\\nMI3102H \\n150708762021.01.31\\n\\nprijungimo\\n\\nObjekto pavadinimas \\n',\n",
       " '\\n\\n\\n\\nTelefonas:+370 447 70120 \\n\\nFaksas:+370 447 70128  \\nAB ESO Vilniaus regiono TVD\\nVilnius\\nE1N1046365\\nObjektas: \\n\\ngam. Nr.\\n15070876\\n1KAS-28236\\n9.210\\nPastaba:\\n\\n\\n\\n\\n\\n\\n\\n\\n\\n\\n\\n\\n\\n\\n\\n\\n\\n\\n\\n\\n(pavadinimas)\\n\\nmolis; sausa\\nMI3102H \\n7/20/2020\\n\\nrezultatai\\n\\nEil.  Nr.\\n\\nMatavimo prietaiso pavadinimas ir numeris:\\n\\nMatavimo ir patikros  rezultatai\\n2021.01.31\\n\\n\\n\\napsauginis\\n\\n',\n",
       " '\\n\\n\\n\\nTelefonas:+370 447 70120 \\n\\nFaksas:+370 447 70128  \\nAB ESO Vilniaus regiono TVD\\nVilnius\\nObjekto pavadinimas \\n\\n\\nAtr.Nr.208/2KAS-28236\\n\\n\\n\\n\\n(pavadinimas, projektuotojas, nuokrypos, suderinimai)\\n\\n\\nE1N1046365\\n\\nCinkuota juosta 30x4\\nSujungimas -sumaunant\\n',\n",
       " '\\n\\n\\n\\nTelefonas:+370 447 70120 \\n\\nFaksas:+370 447 70128  \\nAB ESO Vilniaus regiono TVD\\nVilnius\\n\\nProfilis\\nMatmenys\\nKiekis\\n\\ncinkuotas \\nstrypas\\napvalus\\n16x1,5\\nm34.5sumaunant\\n:--:\\ncinkuota \\njuosta\\n\\n30x41-\\n\\n:--:\\n\\nRangovo atstovasAB \"Energijos skirstymo operatorius\" atstovas\\n\\n\\nPastabos\\n\\n\\nAtr.Nr.208/2, \\ngiluminis\\n\\n\\n(pareigos)\\n(pareigos)\\n\\n\\n\\n\\n\\n\\n\\n(giluminis, \\ngriovyje, \\npanaudoti \\n\\n\\n\\n\\nsujungimo \\n\\n\\n',\n",
       " '\\n\\n\\n\\nTelefonas:+370 447 70120 \\n\\nFaksas:+370 447 70128  \\nAB ESO Vilniaus regiono TVD\\nVilnius\\n0.4TipasKiekis\\nTipasKiekisTipasKiekis\\n123456789\\n1011121314\\nesamas\\nesamas\\nesamasesamas\\n\\nRangovo atstovas\\nAB \"Energijos skirstymo operatorius\" atstovas\\nesamas\\n\\n\\n(pavadinimas)\\n\\nAtramos \\nNr.Atramos \\ntipas\\nStiebas\\n\\n\\nkiekis ir \\n\\nTarpatra\\nmio ilgis, \\nmLaido \\n(oro \\nkabelio) \\n\\nIzoliatoriai\\n\\n\\ntvirtinimo \\n\\nAtramoje \\n\\n\\n\\n(senas) \\natramos \\nNr.esamas\\nesamas\\nesamas\\n\\n\\n\\n\\n(pareigos)\\n(pareigos)\\n\\n\\n208/2esamas\\nesamas\\nesamas\\n',\n",
       " '\\n\\n\\n\\nTelefonas:+370 447 70120 \\n\\nFaksas:+370 447 70128  \\nAB ESO Vilniaus regiono TVD\\nVilnius\\n\\n\\n\\nplotas, mm\\n2Ilgis, m\\n1234567\\n208/2\\n\\nk., Marijampolio \\n\\nsen., Vilniaus r. sav.\\nAMKA3x16+25\\n10\\nKAS-28236\\nRangovo atstovas\\nAB \"Energijos skirstymo operatorius\" atstovas\\n(pareigos)\\n\\n\\n\\n(pareigos)\\n\\n\\n\\n\\n(pavadinimas)\\nATVADAI\\n\\n\\nspintos tipas\\nPastabos\\nSkaitiklio/abonento \\nnumeris\\nAtramos \\nNr.\\nAtvado laidai, kabeliai\\n',\n",
       " '']"
      ]
     },
     "execution_count": 85,
     "metadata": {},
     "output_type": "execute_result"
    }
   ],
   "source": [
    "i = 0\n",
    "path\n",
    "for row in df.iterrows():\n",
    "    investicinis_nr = row['investicinis_nr']\n",
    "    robo_dok_folder_path = row['robo_dok_folder_path']\n",
    "    pdfs = [os.path.join(robo_dok_folder_path, f) for f in os.listdir(robo_dok_folder_path) if f.lower().endswith('pdf')]\n",
    "    pdfs.sort(key=lambda x: os.stat(x).st_size, reverse=True)\n",
    "    for pdf_file in pdfs:\n",
    "        if get_pages_text_list(pdf_file):\n",
    "            i += 1\n",
    "            break"
   ]
  },
  {
   "cell_type": "code",
   "execution_count": 87,
   "metadata": {},
   "outputs": [
    {
     "data": {
      "text/plain": [
       "Index(['ID', 'uzduoties_nr', 'investicinis_nr', 'ada_ivykdymo_data', 'rusis',\n",
       "       'dok_rusis', 'dok_porusis', 'created_on', 'ada_ivykdymo_data.1',\n",
       "       'robo_dok_folder_path', 'tivis_url', 'robo_dok_uploaded_on', 'pastaba'],\n",
       "      dtype='object')"
      ]
     },
     "execution_count": 87,
     "metadata": {},
     "output_type": "execute_result"
    }
   ],
   "source": [
    "df.columns"
   ]
  },
  {
   "cell_type": "code",
   "execution_count": null,
   "metadata": {},
   "outputs": [],
   "source": []
  }
 ],
 "metadata": {
  "kernelspec": {
   "display_name": "Python 3",
   "language": "python",
   "name": "python3"
  },
  "language_info": {
   "codemirror_mode": {
    "name": "ipython",
    "version": 3
   },
   "file_extension": ".py",
   "mimetype": "text/x-python",
   "name": "python",
   "nbconvert_exporter": "python",
   "pygments_lexer": "ipython3",
   "version": "3.8.3"
  }
 },
 "nbformat": 4,
 "nbformat_minor": 4
}
