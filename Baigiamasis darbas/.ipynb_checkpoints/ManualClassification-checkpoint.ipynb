{
 "cells": [
  {
   "cell_type": "code",
   "execution_count": 1,
   "metadata": {},
   "outputs": [],
   "source": [
    "from pigeon import annotate\n",
    "from IPython.display import display, Image\n",
    "\n",
    "import os"
   ]
  },
  {
   "cell_type": "code",
   "execution_count": 15,
   "metadata": {},
   "outputs": [
    {
     "data": {
      "application/vnd.jupyter.widget-view+json": {
       "model_id": "916958a816fa4c97b0a6aed7af2e8e34",
       "version_major": 2,
       "version_minor": 0
      },
      "text/plain": [
       "HTML(value='0 examples annotated, 101 examples left')"
      ]
     },
     "metadata": {},
     "output_type": "display_data"
    },
    {
     "data": {
      "application/vnd.jupyter.widget-view+json": {
       "model_id": "3932dc9425fe476c9f186298f0ceedbf",
       "version_major": 2,
       "version_minor": 0
      },
      "text/plain": [
       "HBox(children=(Button(description='principine', style=ButtonStyle()), Button(description='rangovo', style=Butt…"
      ]
     },
     "metadata": {},
     "output_type": "display_data"
    },
    {
     "data": {
      "application/vnd.jupyter.widget-view+json": {
       "model_id": "0d09382d0aca4a44a624be6a20e7339f",
       "version_major": 2,
       "version_minor": 0
      },
      "text/plain": [
       "Output()"
      ]
     },
     "metadata": {},
     "output_type": "display_data"
    },
    {
     "name": "stdout",
     "output_type": "stream",
     "text": [
      "Annotation done.\n"
     ]
    }
   ],
   "source": [
    "folder = r'C:\\Users\\daimzn\\Asmeniniai\\Schemos\\Schemos'\n",
    "options = ['principine', 'rangovo', 'nzn']\n",
    "files = [os.path.join(folder, file) for file in os.listdir(folder) if file.lower().endswith('.png')]\n",
    "annotations = annotate(\n",
    "  files[0:100],\n",
    "    shuffle=False,\n",
    "    include_skip=True,\n",
    "  options=options,\n",
    "  display_fn=lambda filename: display(Image(filename, width = 600, height = 600))\n",
    ")"
   ]
  },
  {
   "cell_type": "code",
   "execution_count": 16,
   "metadata": {
    "scrolled": true
   },
   "outputs": [],
   "source": [
    "for file, classifier in annotations:\n",
    "    file_name = os.path.basename(file)\n",
    "    new_file = os.path.join(folder, classifier, file_name)\n",
    "    os.rename(file, new_file)"
   ]
  },
  {
   "cell_type": "code",
   "execution_count": 4,
   "metadata": {},
   "outputs": [
    {
     "data": {
      "text/plain": [
       "[('C:\\\\Users\\\\daimzn\\\\Asmeniniai\\\\Schemos\\\\Schemos\\\\1878_EU-CR-2005669_6_PDF.png',\n",
       "  'principine'),\n",
       " ('C:\\\\Users\\\\daimzn\\\\Asmeniniai\\\\Schemos\\\\Schemos\\\\1879_EU-CR-2005690_5_PDF.png',\n",
       "  'rangovo'),\n",
       " ('C:\\\\Users\\\\daimzn\\\\Asmeniniai\\\\Schemos\\\\Schemos\\\\187_EU-CR-2002276_6_PDF.png',\n",
       "  'rangovo')]"
      ]
     },
     "execution_count": 4,
     "metadata": {},
     "output_type": "execute_result"
    }
   ],
   "source": []
  }
 ],
 "metadata": {
  "kernelspec": {
   "display_name": "Python 3",
   "language": "python",
   "name": "python3"
  },
  "language_info": {
   "codemirror_mode": {
    "name": "ipython",
    "version": 3
   },
   "file_extension": ".py",
   "mimetype": "text/x-python",
   "name": "python",
   "nbconvert_exporter": "python",
   "pygments_lexer": "ipython3",
   "version": "3.8.3"
  }
 },
 "nbformat": 4,
 "nbformat_minor": 4
}
