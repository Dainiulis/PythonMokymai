{
  "nbformat": 4,
  "nbformat_minor": 0,
  "metadata": {
    "kernelspec": {
      "display_name": "Python 3",
      "language": "python",
      "name": "python3"
    },
    "language_info": {
      "codemirror_mode": {
        "name": "ipython",
        "version": 3
      },
      "file_extension": ".py",
      "mimetype": "text/x-python",
      "name": "python",
      "nbconvert_exporter": "python",
      "pygments_lexer": "ipython3",
      "version": "3.8.3"
    },
    "colab": {
      "name": "ModelCreation.ipynb",
      "provenance": [],
      "collapsed_sections": []
    },
    "accelerator": "GPU"
  },
  "cells": [
    {
      "cell_type": "code",
      "metadata": {
        "id": "OqCJIOA9OfJA"
      },
      "source": [
        "#Įsikeliame reikalingas bibliotekas\n",
        "import matplotlib.pyplot as plt\n",
        "import numpy as np\n",
        "from sklearn.model_selection import train_test_split\n",
        "\n",
        "import keras\n",
        "\n",
        "from pylab import rcParams\n",
        "rcParams['figure.figsize'] = 10, 10\n",
        "\n",
        "from keras.models import Sequential\n",
        "from keras.utils import np_utils\n",
        "from keras.preprocessing.image import ImageDataGenerator\n",
        "from keras.layers import Dense, Activation, Flatten, Dropout, BatchNormalization\n",
        "from keras.layers import Conv2D, MaxPooling2D\n",
        "from keras import regularizers\n",
        "from keras.callbacks import LearningRateScheduler\n",
        "\n",
        "from sklearn.metrics import confusion_matrix\n",
        "import seaborn as sn\n",
        "import pandas as pd\n",
        "\n",
        "import pickle\n",
        "import os\n",
        "import cv2\n",
        "from datetime import datetime"
      ],
      "execution_count": 1,
      "outputs": []
    },
    {
      "cell_type": "code",
      "metadata": {
        "colab": {
          "base_uri": "https://localhost:8080/"
        },
        "id": "FUbtEuWGaKmu",
        "outputId": "61f8d1fa-afef-4feb-b170-d5181fde185a"
      },
      "source": [
        "from google.colab import drive\n",
        "drive.mount('/content/drive')"
      ],
      "execution_count": 2,
      "outputs": [
        {
          "output_type": "stream",
          "text": [
            "Mounted at /content/drive\n"
          ],
          "name": "stdout"
        }
      ]
    },
    {
      "cell_type": "code",
      "metadata": {
        "id": "h3yrfXVJxBE1"
      },
      "source": [
        "# generatoriaus klasė\n",
        "class DataGenerator(keras.utils.Sequence):\n",
        "    'Generates data for Keras'\n",
        "    def __init__(self, list_IDs, labels, batch_size=32, dim=(32,32,32), n_channels=1,\n",
        "                 n_classes=10, shuffle=True):\n",
        "        'Initialization'\n",
        "        self.dim = dim\n",
        "        self.batch_size = batch_size\n",
        "        self.labels = labels\n",
        "        self.list_IDs = list_IDs\n",
        "        self.n_channels = n_channels\n",
        "        self.n_classes = n_classes\n",
        "        self.shuffle = shuffle\n",
        "        self.on_epoch_end()\n",
        "\n",
        "    def __len__(self):\n",
        "        'Denotes the number of batches per epoch'\n",
        "        return int(np.floor(len(self.list_IDs) / self.batch_size))\n",
        "\n",
        "    def __getitem__(self, index):\n",
        "        'Generate one batch of data'\n",
        "        # Generate indexes of the batch\n",
        "        indexes = self.indexes[index*self.batch_size:(index+1)*self.batch_size]\n",
        "\n",
        "        # Find list of IDs\n",
        "        list_IDs_temp = [self.list_IDs[k] for k in indexes]\n",
        "\n",
        "        # Generate data\n",
        "        X, y = self.__data_generation(list_IDs_temp)\n",
        "\n",
        "        return X, y\n",
        "\n",
        "    def on_epoch_end(self):\n",
        "        'Updates indexes after each epoch'\n",
        "        self.indexes = np.arange(len(self.list_IDs))\n",
        "        if self.shuffle == True:\n",
        "            np.random.shuffle(self.indexes)\n",
        "\n",
        "    def __data_generation(self, list_IDs_temp):\n",
        "        'Generates data containing batch_size samples' # X : (n_samples, *dim, n_channels)\n",
        "        # Initialization\n",
        "        X = np.empty((self.batch_size, *self.dim))\n",
        "        y = np.empty((self.batch_size), dtype=int)\n",
        "\n",
        "        # Generate data\n",
        "        for i, ID in enumerate(list_IDs_temp):\n",
        "            # Store sample\n",
        "            # Konvertuojam paveikslėlį\n",
        "            img = cv2.imread(ID)\n",
        "            img = cv2.resize(img, (self.dim[0], self.dim[0]))\n",
        "            img = cv2.cvtColor(img, cv2.COLOR_BGR2GRAY)\n",
        "            img = np.expand_dims(img, axis=-1)\n",
        "            X[i,] = img / 255\n",
        "\n",
        "            # Store class\n",
        "            y[i] = self.labels[ID]\n",
        "\n",
        "        return X, y"
      ],
      "execution_count": 3,
      "outputs": []
    },
    {
      "cell_type": "code",
      "metadata": {
        "id": "yCJ1EMFiOfJC"
      },
      "source": [
        "# užkraunam duomenis\n",
        "train_dir = 'Train_data'\n",
        "test_dir = 'Test_data'\n",
        "path_to_images = '/content/drive/My Drive/Schemu atpazinimas/'"
      ],
      "execution_count": 4,
      "outputs": []
    },
    {
      "cell_type": "code",
      "metadata": {
        "id": "Q2L20dHMC8fy"
      },
      "source": [
        "# užkraunami duomenys\n",
        "classes = ['Ne_schemos', 'Schemos']\n",
        "partition = {}\n",
        "labels = {}\n",
        "train_files = []\n",
        "X_test = []\n",
        "train_classes = []\n",
        "for root, _, files in os.walk(path_to_images):\n",
        "  if files and (classes[0] in root or classes[1] in root):\n",
        "    dir_name = os.path.basename(root)\n",
        "    class_num = classes.index(dir_name)\n",
        "    for file_name in files:\n",
        "      file_path = os.path.join(root, file_name)\n",
        "      labels[file_path] = class_num\n",
        "      if train_dir in root:\n",
        "        train_classes.append(class_num)\n",
        "        train_files.append(file_path)\n",
        "      elif test_dir in root:\n",
        "        X_test.append(file_path)\n"
      ],
      "execution_count": 5,
      "outputs": []
    },
    {
      "cell_type": "code",
      "metadata": {
        "id": "k3cZQI7uC9PO"
      },
      "source": [
        "# suskirstomi duomenys mokymui ir testavimui\n",
        "X_train, X_valid, _, _ = (train_test_split(train_files, train_classes, test_size=0.2, shuffle=True))\n",
        "partition['train'] = X_train\n",
        "partition['validation'] = X_valid\n",
        "partition['test'] = X_test"
      ],
      "execution_count": 6,
      "outputs": []
    },
    {
      "cell_type": "code",
      "metadata": {
        "id": "A_5kGTU-KDaH"
      },
      "source": [
        ""
      ],
      "execution_count": 6,
      "outputs": []
    },
    {
      "cell_type": "code",
      "metadata": {
        "id": "087lmbN60TQ4"
      },
      "source": [
        "import keras\n",
        "import numpy as np\n",
        "import keras.backend as K\n",
        "from keras.utils import np_utils\n",
        "from keras.datasets import cifar10\n",
        "from keras.models import Sequential\n",
        "from keras.models import load_model\n",
        "from keras import regularizers, optimizers\n",
        "from keras.layers import Conv2D, MaxPooling2D\n",
        "from keras.preprocessing.image import ImageDataGenerator\n",
        "from keras.initializers import glorot_normal, RandomNormal, Zeros\n",
        "from keras.layers import Dense, Activation, Flatten, Dropout, BatchNormalization"
      ],
      "execution_count": 7,
      "outputs": []
    },
    {
      "cell_type": "code",
      "metadata": {
        "id": "hn1QwdFgzVfx"
      },
      "source": [
        "# create model\n",
        "def create_model(s = 2, weight_decay = 1e-2, act=\"relu\"):\n",
        "    model = Sequential()\n",
        "\n",
        "    # Block 1\n",
        "    model.add(Conv2D(64, (3,3), padding='same', kernel_regularizer=regularizers.l2(0.005), kernel_initializer=glorot_normal(), input_shape=params['dim']))\n",
        "    model.add(BatchNormalization())\n",
        "    model.add(Activation(act))\n",
        "    model.add(Dropout(0.2)) # mokantis ismeta nurodyta skaiciu neuronu. (leidzia isvengti overfitting)\n",
        "    \n",
        "    # Block 2\n",
        "    model.add(Conv2D(128, (3,3), padding='same', kernel_regularizer=regularizers.l2(0.005), kernel_initializer=glorot_normal()))\n",
        "    model.add(BatchNormalization())\n",
        "    model.add(Activation(act))\n",
        "    model.add(Dropout(0.2))\n",
        "    \n",
        "    # Block 3\n",
        "    model.add(Conv2D(128, (3,3), padding='same', kernel_regularizer=regularizers.l2(0.005), kernel_initializer=RandomNormal(stddev=0.01)))\n",
        "    model.add(BatchNormalization())\n",
        "    model.add(Activation(act))\n",
        "    model.add(Dropout(0.2))\n",
        "    \n",
        "    # Block 4\n",
        "    model.add(Conv2D(128, (3,3), padding='same', kernel_regularizer=regularizers.l2(0.005), kernel_initializer=RandomNormal(stddev=0.01)))\n",
        "    model.add(BatchNormalization())\n",
        "    model.add(Activation(act))\n",
        "    # First Maxpooling\n",
        "    model.add(MaxPooling2D(pool_size=(2,2), strides=s))\n",
        "    model.add(Dropout(0.2))\n",
        "    \n",
        "    \n",
        "    # Block 5\n",
        "    model.add(Conv2D(128, (3,3), padding='same', kernel_regularizer=regularizers.l2(0.005), kernel_initializer=RandomNormal(stddev=0.01)))\n",
        "    model.add(BatchNormalization())\n",
        "    model.add(Activation(act))\n",
        "    model.add(Dropout(0.2))\n",
        "    \n",
        "    # Block 6\n",
        "    model.add(Conv2D(128, (3,3), padding='same', kernel_regularizer=regularizers.l2(0.005), kernel_initializer=glorot_normal()))\n",
        "    model.add(BatchNormalization())\n",
        "    model.add(Activation(act))\n",
        "    model.add(Dropout(0.2))\n",
        "    \n",
        "    # Block 7\n",
        "    model.add(Conv2D(256, (3,3), padding='same', kernel_regularizer=regularizers.l2(0.005), kernel_initializer=glorot_normal()))\n",
        "    # Second Maxpooling\n",
        "    model.add(MaxPooling2D(pool_size=(2,2), strides=s))\n",
        "    model.add(BatchNormalization())\n",
        "    model.add(Activation(act))\n",
        "    model.add(Dropout(0.2))\n",
        "    \n",
        "    \n",
        "    # Block 8\n",
        "    model.add(Conv2D(256, (3,3), padding='same', kernel_regularizer=regularizers.l2(0.005), kernel_initializer=glorot_normal()))\n",
        "    model.add(BatchNormalization())\n",
        "    model.add(Activation(act))\n",
        "    model.add(Dropout(0.2))\n",
        "    \n",
        "    # Block 9\n",
        "    model.add(Conv2D(256, (3,3), padding='same', kernel_regularizer=regularizers.l2(0.005), kernel_initializer=glorot_normal()))\n",
        "    model.add(BatchNormalization())\n",
        "    model.add(Activation(act))\n",
        "    model.add(Dropout(0.2))\n",
        "    # Third Maxpooling\n",
        "    model.add(MaxPooling2D(pool_size=(2,2), strides=s))\n",
        "    \n",
        "    \n",
        "    # Block 10\n",
        "    model.add(Conv2D(512, (3,3), padding='same', kernel_regularizer=regularizers.l2(0.005), kernel_initializer=glorot_normal()))\n",
        "    model.add(BatchNormalization())\n",
        "    model.add(Activation(act))\n",
        "    model.add(Dropout(0.2))\n",
        "\n",
        "    # Block 11  \n",
        "    model.add(Conv2D(2048, (1,1), padding='same', kernel_regularizer=regularizers.l2(0.005), kernel_initializer=glorot_normal()))\n",
        "    model.add(Activation(act))\n",
        "    model.add(Dropout(0.2))\n",
        "    \n",
        "    # Block 12  \n",
        "    model.add(Conv2D(256, (1,1), padding='same', kernel_regularizer=regularizers.l2(0.005), kernel_initializer=glorot_normal()))\n",
        "    model.add(Activation(act))\n",
        "    # Fourth Maxpooling\n",
        "    model.add(MaxPooling2D(pool_size=(2,2), strides=s))\n",
        "    model.add(Dropout(0.2))\n",
        "\n",
        "\n",
        "    # Block 13\n",
        "    model.add(Conv2D(256, (3,3), padding='same', kernel_regularizer=regularizers.l2(0.005), kernel_initializer=glorot_normal()))\n",
        "    model.add(Activation(act))\n",
        "    # Fifth Maxpooling\n",
        "    model.add(MaxPooling2D(pool_size=(2,2), strides=s))\n",
        "\n",
        "    # Final Classifier\n",
        "    model.add(Flatten())\n",
        "    model.add(Dense(1, activation='sigmoid'))\n",
        "\n",
        "    return model"
      ],
      "execution_count": 8,
      "outputs": []
    },
    {
      "cell_type": "code",
      "metadata": {
        "colab": {
          "base_uri": "https://localhost:8080/"
        },
        "id": "Xl4R6CASzYFi",
        "outputId": "4bff326b-09eb-437e-8ba6-e7841b01054f"
      },
      "source": [
        "batch_size = 32\n",
        "epochs = 25\n",
        "train = {}\n",
        "# Parameters\n",
        "params = {'dim': (200, 200, 1),\n",
        "          'batch_size': batch_size,\n",
        "          'n_classes': 2,\n",
        "          'n_channels': 1,\n",
        "          'shuffle': True}\n",
        "\n",
        "model = create_model(act=\"relu\")\n",
        "\n",
        "# Generators\n",
        "training_generator = DataGenerator(partition['train'], labels, **params)\n",
        "validation_generator = DataGenerator(partition['validation'], labels, **params)\n",
        "model_path = path_to_images + f\"simplenet_trained_model_{datetime.now():%Y%m%d%H%M}.h5\"\n",
        "history_path = path_to_images + f\"simplenet_trained_model_history_{datetime.now():%Y%m%d%H%M}.pickle\"\n",
        "# First training for 50 epochs - (0-50)\n",
        "opt_adm = keras.optimizers.Adadelta(lr=0.1)\n",
        "model.compile(loss='binary_crossentropy', optimizer=opt_adm, metrics=['accuracy'])\n",
        "train[\"part_1\"] = model.fit_generator(generator=training_generator,\n",
        "                    validation_data=validation_generator, epochs=2*epochs)\n",
        "# išsaugomas modelis\n",
        "model.save(model_path)"
      ],
      "execution_count": 9,
      "outputs": [
        {
          "output_type": "stream",
          "text": [
            "WARNING:tensorflow:From <ipython-input-9-e625c4ec4d5f>:22: Model.fit_generator (from tensorflow.python.keras.engine.training) is deprecated and will be removed in a future version.\n",
            "Instructions for updating:\n",
            "Please use Model.fit, which supports generators.\n",
            "Epoch 1/50\n",
            "139/139 [==============================] - 1782s 13s/step - loss: 13.2995 - accuracy: 0.9458 - val_loss: 13.0863 - val_accuracy: 0.4875\n",
            "Epoch 2/50\n",
            "139/139 [==============================] - 159s 1s/step - loss: 11.0664 - accuracy: 0.9843 - val_loss: 10.8945 - val_accuracy: 0.4875\n",
            "Epoch 3/50\n",
            "139/139 [==============================] - 159s 1s/step - loss: 8.8949 - accuracy: 0.9885 - val_loss: 8.9849 - val_accuracy: 0.4875\n",
            "Epoch 4/50\n",
            "139/139 [==============================] - 159s 1s/step - loss: 7.0271 - accuracy: 0.9908 - val_loss: 7.3124 - val_accuracy: 0.4875\n",
            "Epoch 5/50\n",
            "139/139 [==============================] - 159s 1s/step - loss: 5.5264 - accuracy: 0.9915 - val_loss: 5.8410 - val_accuracy: 0.4875\n",
            "Epoch 6/50\n",
            "139/139 [==============================] - 159s 1s/step - loss: 4.3286 - accuracy: 0.9942 - val_loss: 4.6276 - val_accuracy: 0.4973\n",
            "Epoch 7/50\n",
            "139/139 [==============================] - 159s 1s/step - loss: 3.3886 - accuracy: 0.9953 - val_loss: 4.0038 - val_accuracy: 0.4875\n",
            "Epoch 8/50\n",
            "139/139 [==============================] - 159s 1s/step - loss: 2.6565 - accuracy: 0.9973 - val_loss: 2.7470 - val_accuracy: 0.7482\n",
            "Epoch 9/50\n",
            "139/139 [==============================] - 159s 1s/step - loss: 2.0826 - accuracy: 0.9969 - val_loss: 2.2676 - val_accuracy: 0.6938\n",
            "Epoch 10/50\n",
            "139/139 [==============================] - 159s 1s/step - loss: 1.6506 - accuracy: 0.9973 - val_loss: 1.7306 - val_accuracy: 0.8857\n",
            "Epoch 11/50\n",
            "139/139 [==============================] - 159s 1s/step - loss: 1.3145 - accuracy: 0.9966 - val_loss: 1.2752 - val_accuracy: 0.9420\n",
            "Epoch 12/50\n",
            "139/139 [==============================] - 159s 1s/step - loss: 1.0555 - accuracy: 0.9980 - val_loss: 1.0178 - val_accuracy: 0.9625\n",
            "Epoch 13/50\n",
            "139/139 [==============================] - 159s 1s/step - loss: 0.8482 - accuracy: 0.9982 - val_loss: 1.0985 - val_accuracy: 0.8357\n",
            "Epoch 14/50\n",
            "139/139 [==============================] - 159s 1s/step - loss: 0.6903 - accuracy: 0.9957 - val_loss: 0.7351 - val_accuracy: 0.9232\n",
            "Epoch 15/50\n",
            "139/139 [==============================] - 159s 1s/step - loss: 0.5673 - accuracy: 0.9975 - val_loss: 0.8918 - val_accuracy: 0.8384\n",
            "Epoch 16/50\n",
            "139/139 [==============================] - 159s 1s/step - loss: 0.4624 - accuracy: 0.9980 - val_loss: 0.5031 - val_accuracy: 0.9545\n",
            "Epoch 17/50\n",
            "139/139 [==============================] - 159s 1s/step - loss: 0.3774 - accuracy: 0.9989 - val_loss: 0.6201 - val_accuracy: 0.8839\n",
            "Epoch 18/50\n",
            "139/139 [==============================] - 159s 1s/step - loss: 0.3105 - accuracy: 0.9989 - val_loss: 1.1166 - val_accuracy: 0.4893\n",
            "Epoch 19/50\n",
            "139/139 [==============================] - 159s 1s/step - loss: 0.2703 - accuracy: 0.9953 - val_loss: 0.2809 - val_accuracy: 0.9786\n",
            "Epoch 20/50\n",
            "139/139 [==============================] - 159s 1s/step - loss: 0.2253 - accuracy: 0.9971 - val_loss: 0.2467 - val_accuracy: 0.9875\n",
            "Epoch 21/50\n",
            "139/139 [==============================] - 159s 1s/step - loss: 0.1951 - accuracy: 0.9973 - val_loss: 0.1988 - val_accuracy: 0.9973\n",
            "Epoch 22/50\n",
            "139/139 [==============================] - 159s 1s/step - loss: 0.1662 - accuracy: 0.9980 - val_loss: 0.1840 - val_accuracy: 0.9893\n",
            "Epoch 23/50\n",
            "139/139 [==============================] - 159s 1s/step - loss: 0.1459 - accuracy: 0.9964 - val_loss: 0.1608 - val_accuracy: 0.9902\n",
            "Epoch 24/50\n",
            "139/139 [==============================] - 159s 1s/step - loss: 0.1245 - accuracy: 0.9991 - val_loss: 0.1292 - val_accuracy: 0.9964\n",
            "Epoch 25/50\n",
            "139/139 [==============================] - 159s 1s/step - loss: 0.1112 - accuracy: 0.9980 - val_loss: 0.1552 - val_accuracy: 0.9893\n",
            "Epoch 26/50\n",
            "139/139 [==============================] - 159s 1s/step - loss: 0.1027 - accuracy: 0.9969 - val_loss: 0.1178 - val_accuracy: 0.9902\n",
            "Epoch 27/50\n",
            "139/139 [==============================] - 158s 1s/step - loss: 0.0847 - accuracy: 0.9996 - val_loss: 0.0993 - val_accuracy: 0.9955\n",
            "Epoch 28/50\n",
            "139/139 [==============================] - 159s 1s/step - loss: 0.0838 - accuracy: 0.9966 - val_loss: 0.1287 - val_accuracy: 0.9893\n",
            "Epoch 29/50\n",
            "139/139 [==============================] - 159s 1s/step - loss: 0.0716 - accuracy: 0.9984 - val_loss: 0.1154 - val_accuracy: 0.9857\n",
            "Epoch 30/50\n",
            "139/139 [==============================] - 159s 1s/step - loss: 0.0669 - accuracy: 0.9978 - val_loss: 0.0688 - val_accuracy: 0.9964\n",
            "Epoch 31/50\n",
            "139/139 [==============================] - 159s 1s/step - loss: 0.0601 - accuracy: 0.9980 - val_loss: 0.1376 - val_accuracy: 0.9679\n",
            "Epoch 32/50\n",
            "139/139 [==============================] - 158s 1s/step - loss: 0.0628 - accuracy: 0.9955 - val_loss: 0.0884 - val_accuracy: 0.9866\n",
            "Epoch 33/50\n",
            "139/139 [==============================] - 158s 1s/step - loss: 0.0495 - accuracy: 0.9993 - val_loss: 0.1920 - val_accuracy: 0.9893\n",
            "Epoch 34/50\n",
            "139/139 [==============================] - 158s 1s/step - loss: 0.0452 - accuracy: 0.9993 - val_loss: 0.0824 - val_accuracy: 0.9875\n",
            "Epoch 35/50\n",
            "139/139 [==============================] - 158s 1s/step - loss: 0.0399 - accuracy: 0.9996 - val_loss: 0.0723 - val_accuracy: 0.9893\n",
            "Epoch 36/50\n",
            "139/139 [==============================] - 158s 1s/step - loss: 0.0464 - accuracy: 0.9957 - val_loss: 0.1179 - val_accuracy: 0.9848\n",
            "Epoch 37/50\n",
            "139/139 [==============================] - 158s 1s/step - loss: 0.0376 - accuracy: 0.9991 - val_loss: 0.0683 - val_accuracy: 0.9902\n",
            "Epoch 38/50\n",
            "139/139 [==============================] - 158s 1s/step - loss: 0.0355 - accuracy: 0.9984 - val_loss: 0.0801 - val_accuracy: 0.9839\n",
            "Epoch 39/50\n",
            "139/139 [==============================] - 158s 1s/step - loss: 0.0373 - accuracy: 0.9978 - val_loss: 0.0408 - val_accuracy: 0.9964\n",
            "Epoch 40/50\n",
            "139/139 [==============================] - 158s 1s/step - loss: 0.0339 - accuracy: 0.9982 - val_loss: 0.0537 - val_accuracy: 0.9920\n",
            "Epoch 41/50\n",
            "139/139 [==============================] - 158s 1s/step - loss: 0.0400 - accuracy: 0.9953 - val_loss: 0.0987 - val_accuracy: 0.9795\n",
            "Epoch 42/50\n",
            "139/139 [==============================] - 158s 1s/step - loss: 0.0354 - accuracy: 0.9973 - val_loss: 0.0375 - val_accuracy: 0.9982\n",
            "Epoch 43/50\n",
            "139/139 [==============================] - 158s 1s/step - loss: 0.0283 - accuracy: 0.9996 - val_loss: 0.2101 - val_accuracy: 0.9518\n",
            "Epoch 44/50\n",
            "139/139 [==============================] - 158s 1s/step - loss: 0.0579 - accuracy: 0.9912 - val_loss: 0.0704 - val_accuracy: 0.9902\n",
            "Epoch 45/50\n",
            "139/139 [==============================] - 158s 1s/step - loss: 0.0437 - accuracy: 0.9939 - val_loss: 0.0504 - val_accuracy: 0.9929\n",
            "Epoch 46/50\n",
            "139/139 [==============================] - 158s 1s/step - loss: 0.0291 - accuracy: 0.9987 - val_loss: 0.0481 - val_accuracy: 0.9946\n",
            "Epoch 47/50\n",
            "139/139 [==============================] - 158s 1s/step - loss: 0.0307 - accuracy: 0.9978 - val_loss: 0.0335 - val_accuracy: 0.9982\n",
            "Epoch 48/50\n",
            "139/139 [==============================] - 158s 1s/step - loss: 0.0271 - accuracy: 0.9989 - val_loss: 0.0569 - val_accuracy: 0.9902\n",
            "Epoch 49/50\n",
            "139/139 [==============================] - 158s 1s/step - loss: 0.0234 - accuracy: 0.9996 - val_loss: 0.0802 - val_accuracy: 0.9964\n",
            "Epoch 50/50\n",
            "139/139 [==============================] - 158s 1s/step - loss: 0.0287 - accuracy: 0.9975 - val_loss: 0.0254 - val_accuracy: 0.9982\n"
          ],
          "name": "stdout"
        }
      ]
    },
    {
      "cell_type": "code",
      "metadata": {
        "colab": {
          "base_uri": "https://localhost:8080/"
        },
        "id": "G_klpDS93vXq",
        "outputId": "4475c04f-85bb-47cf-f794-346e3e3f3c69"
      },
      "source": [
        "# Training for 25 epochs more - (50-75)\n",
        "opt_adm = keras.optimizers.Adadelta(lr=0.1*0.1)\n",
        "model.compile(loss='binary_crossentropy', optimizer=opt_adm, metrics=['accuracy'])\n",
        "train[\"part_2\"] = model.fit_generator(generator=training_generator,\n",
        "                    validation_data=validation_generator, epochs=epochs)\n",
        "model.save(model_path)"
      ],
      "execution_count": 10,
      "outputs": [
        {
          "output_type": "stream",
          "text": [
            "Epoch 1/25\n",
            "139/139 [==============================] - 159s 1s/step - loss: 0.0231 - accuracy: 0.9993 - val_loss: 0.0269 - val_accuracy: 0.9991\n",
            "Epoch 2/25\n",
            "139/139 [==============================] - 158s 1s/step - loss: 0.0218 - accuracy: 0.9998 - val_loss: 0.0269 - val_accuracy: 0.9982\n",
            "Epoch 3/25\n",
            "139/139 [==============================] - 158s 1s/step - loss: 0.0217 - accuracy: 0.9993 - val_loss: 0.0279 - val_accuracy: 0.9964\n",
            "Epoch 4/25\n",
            "139/139 [==============================] - 158s 1s/step - loss: 0.0209 - accuracy: 0.9998 - val_loss: 0.0267 - val_accuracy: 0.9964\n",
            "Epoch 5/25\n",
            "139/139 [==============================] - 158s 1s/step - loss: 0.0205 - accuracy: 0.9998 - val_loss: 0.0266 - val_accuracy: 0.9964\n",
            "Epoch 6/25\n",
            "139/139 [==============================] - 158s 1s/step - loss: 0.0202 - accuracy: 0.9998 - val_loss: 0.0277 - val_accuracy: 0.9955\n",
            "Epoch 7/25\n",
            "139/139 [==============================] - 158s 1s/step - loss: 0.0199 - accuracy: 0.9998 - val_loss: 0.0268 - val_accuracy: 0.9955\n",
            "Epoch 8/25\n",
            "139/139 [==============================] - 158s 1s/step - loss: 0.0195 - accuracy: 0.9998 - val_loss: 0.0257 - val_accuracy: 0.9964\n",
            "Epoch 9/25\n",
            "139/139 [==============================] - 158s 1s/step - loss: 0.0191 - accuracy: 0.9998 - val_loss: 0.0257 - val_accuracy: 0.9964\n",
            "Epoch 10/25\n",
            "139/139 [==============================] - 158s 1s/step - loss: 0.0188 - accuracy: 0.9998 - val_loss: 0.0243 - val_accuracy: 0.9964\n",
            "Epoch 11/25\n",
            "139/139 [==============================] - 158s 1s/step - loss: 0.0184 - accuracy: 0.9998 - val_loss: 0.0248 - val_accuracy: 0.9964\n",
            "Epoch 12/25\n",
            "139/139 [==============================] - 158s 1s/step - loss: 0.0180 - accuracy: 0.9998 - val_loss: 0.0283 - val_accuracy: 0.9946\n",
            "Epoch 13/25\n",
            "139/139 [==============================] - 158s 1s/step - loss: 0.0177 - accuracy: 0.9998 - val_loss: 0.0259 - val_accuracy: 0.9946\n",
            "Epoch 14/25\n",
            "139/139 [==============================] - 158s 1s/step - loss: 0.0174 - accuracy: 0.9998 - val_loss: 0.0301 - val_accuracy: 0.9937\n",
            "Epoch 15/25\n",
            "139/139 [==============================] - 158s 1s/step - loss: 0.0171 - accuracy: 0.9998 - val_loss: 0.0232 - val_accuracy: 0.9955\n",
            "Epoch 16/25\n",
            "139/139 [==============================] - 158s 1s/step - loss: 0.0169 - accuracy: 0.9998 - val_loss: 0.0241 - val_accuracy: 0.9955\n",
            "Epoch 17/25\n",
            "139/139 [==============================] - 158s 1s/step - loss: 0.0167 - accuracy: 0.9998 - val_loss: 0.0240 - val_accuracy: 0.9955\n",
            "Epoch 18/25\n",
            "139/139 [==============================] - 158s 1s/step - loss: 0.0164 - accuracy: 0.9998 - val_loss: 0.0258 - val_accuracy: 0.9946\n",
            "Epoch 19/25\n",
            "139/139 [==============================] - 158s 1s/step - loss: 0.0160 - accuracy: 0.9998 - val_loss: 0.0286 - val_accuracy: 0.9937\n",
            "Epoch 20/25\n",
            "139/139 [==============================] - 158s 1s/step - loss: 0.0159 - accuracy: 0.9998 - val_loss: 0.0214 - val_accuracy: 0.9964\n",
            "Epoch 21/25\n",
            "139/139 [==============================] - 158s 1s/step - loss: 0.0157 - accuracy: 0.9998 - val_loss: 0.0224 - val_accuracy: 0.9964\n",
            "Epoch 22/25\n",
            "139/139 [==============================] - 158s 1s/step - loss: 0.0154 - accuracy: 0.9998 - val_loss: 0.0221 - val_accuracy: 0.9955\n",
            "Epoch 23/25\n",
            "139/139 [==============================] - 158s 1s/step - loss: 0.0151 - accuracy: 0.9998 - val_loss: 0.0275 - val_accuracy: 0.9946\n",
            "Epoch 24/25\n",
            "139/139 [==============================] - 158s 1s/step - loss: 0.0148 - accuracy: 0.9998 - val_loss: 0.0230 - val_accuracy: 0.9946\n",
            "Epoch 25/25\n",
            "139/139 [==============================] - 158s 1s/step - loss: 0.0145 - accuracy: 0.9998 - val_loss: 0.0243 - val_accuracy: 0.9955\n"
          ],
          "name": "stdout"
        }
      ]
    },
    {
      "cell_type": "code",
      "metadata": {
        "colab": {
          "base_uri": "https://localhost:8080/"
        },
        "id": "YznQi7bg4M55",
        "outputId": "bf5dd3af-682f-4f11-8778-58bd6a223a6c"
      },
      "source": [
        "# Training for 25 epochs more - (75-100)\n",
        "opt_adm = keras.optimizers.Adadelta(lr=0.1*0.1*0.1)\n",
        "model.compile(loss='binary_crossentropy', optimizer=opt_adm, metrics=['accuracy'])\n",
        "train[\"part_3\"] = model.fit_generator(generator=training_generator,\n",
        "                    validation_data=validation_generator, epochs=epochs)\n",
        "model.save(model_path)"
      ],
      "execution_count": 11,
      "outputs": [
        {
          "output_type": "stream",
          "text": [
            "Epoch 1/25\n",
            "139/139 [==============================] - 159s 1s/step - loss: 0.0144 - accuracy: 0.9998 - val_loss: 0.0185 - val_accuracy: 0.9982\n",
            "Epoch 2/25\n",
            "139/139 [==============================] - 158s 1s/step - loss: 0.0143 - accuracy: 0.9998 - val_loss: 0.0179 - val_accuracy: 0.9982\n",
            "Epoch 3/25\n",
            "139/139 [==============================] - 158s 1s/step - loss: 0.0143 - accuracy: 0.9998 - val_loss: 0.0180 - val_accuracy: 0.9982\n",
            "Epoch 4/25\n",
            "139/139 [==============================] - 158s 1s/step - loss: 0.0143 - accuracy: 0.9998 - val_loss: 0.0177 - val_accuracy: 0.9982\n",
            "Epoch 5/25\n",
            "139/139 [==============================] - 158s 1s/step - loss: 0.0142 - accuracy: 0.9998 - val_loss: 0.0177 - val_accuracy: 0.9982\n",
            "Epoch 6/25\n",
            "139/139 [==============================] - 158s 1s/step - loss: 0.0143 - accuracy: 0.9998 - val_loss: 0.0176 - val_accuracy: 0.9982\n",
            "Epoch 7/25\n",
            "139/139 [==============================] - 158s 1s/step - loss: 0.0144 - accuracy: 0.9998 - val_loss: 0.0175 - val_accuracy: 0.9982\n",
            "Epoch 8/25\n",
            "139/139 [==============================] - 158s 1s/step - loss: 0.0142 - accuracy: 0.9998 - val_loss: 0.0175 - val_accuracy: 0.9982\n",
            "Epoch 9/25\n",
            "139/139 [==============================] - 158s 1s/step - loss: 0.0142 - accuracy: 0.9998 - val_loss: 0.0176 - val_accuracy: 0.9982\n",
            "Epoch 10/25\n",
            "139/139 [==============================] - 158s 1s/step - loss: 0.0141 - accuracy: 0.9998 - val_loss: 0.0176 - val_accuracy: 0.9982\n",
            "Epoch 11/25\n",
            "139/139 [==============================] - 158s 1s/step - loss: 0.0141 - accuracy: 0.9998 - val_loss: 0.0175 - val_accuracy: 0.9982\n",
            "Epoch 12/25\n",
            "139/139 [==============================] - 158s 1s/step - loss: 0.0141 - accuracy: 0.9998 - val_loss: 0.0175 - val_accuracy: 0.9982\n",
            "Epoch 13/25\n",
            "139/139 [==============================] - 158s 1s/step - loss: 0.0141 - accuracy: 0.9998 - val_loss: 0.0177 - val_accuracy: 0.9982\n",
            "Epoch 14/25\n",
            "139/139 [==============================] - 158s 1s/step - loss: 0.0141 - accuracy: 0.9998 - val_loss: 0.0174 - val_accuracy: 0.9982\n",
            "Epoch 15/25\n",
            "139/139 [==============================] - 158s 1s/step - loss: 0.0141 - accuracy: 0.9998 - val_loss: 0.0176 - val_accuracy: 0.9982\n",
            "Epoch 16/25\n",
            "139/139 [==============================] - 158s 1s/step - loss: 0.0139 - accuracy: 0.9998 - val_loss: 0.0174 - val_accuracy: 0.9982\n",
            "Epoch 17/25\n",
            "139/139 [==============================] - 158s 1s/step - loss: 0.0140 - accuracy: 0.9998 - val_loss: 0.0173 - val_accuracy: 0.9982\n",
            "Epoch 18/25\n",
            "139/139 [==============================] - 158s 1s/step - loss: 0.0139 - accuracy: 0.9998 - val_loss: 0.0175 - val_accuracy: 0.9982\n",
            "Epoch 19/25\n",
            "139/139 [==============================] - 158s 1s/step - loss: 0.0139 - accuracy: 0.9998 - val_loss: 0.0173 - val_accuracy: 0.9982\n",
            "Epoch 20/25\n",
            "139/139 [==============================] - 158s 1s/step - loss: 0.0139 - accuracy: 0.9998 - val_loss: 0.0173 - val_accuracy: 0.9982\n",
            "Epoch 21/25\n",
            "139/139 [==============================] - 158s 1s/step - loss: 0.0139 - accuracy: 0.9998 - val_loss: 0.0174 - val_accuracy: 0.9982\n",
            "Epoch 22/25\n",
            "139/139 [==============================] - 158s 1s/step - loss: 0.0139 - accuracy: 0.9998 - val_loss: 0.0172 - val_accuracy: 0.9982\n",
            "Epoch 23/25\n",
            "139/139 [==============================] - 158s 1s/step - loss: 0.0138 - accuracy: 1.0000 - val_loss: 0.0172 - val_accuracy: 0.9982\n",
            "Epoch 24/25\n",
            "139/139 [==============================] - 158s 1s/step - loss: 0.0138 - accuracy: 1.0000 - val_loss: 0.0172 - val_accuracy: 0.9982\n",
            "Epoch 25/25\n",
            "139/139 [==============================] - 158s 1s/step - loss: 0.0138 - accuracy: 0.9998 - val_loss: 0.0170 - val_accuracy: 0.9982\n"
          ],
          "name": "stdout"
        }
      ]
    },
    {
      "cell_type": "code",
      "metadata": {
        "colab": {
          "base_uri": "https://localhost:8080/"
        },
        "id": "8ylN1fa34anA",
        "outputId": "ca9609bd-3c2f-4944-b8ff-7e8b12c8062c"
      },
      "source": [
        "# Training for 25 epochs more  - (100-125)\n",
        "opt_adm = keras.optimizers.Adadelta(lr=0.1*0.1*0.1*0.1)\n",
        "model.compile(loss='binary_crossentropy', optimizer=opt_adm, metrics=['accuracy'])\n",
        "train[\"part_4\"] = model.fit_generator(generator=training_generator,\n",
        "                    validation_data=validation_generator, epochs=epochs)\n",
        "model.save(model_path)"
      ],
      "execution_count": 12,
      "outputs": [
        {
          "output_type": "stream",
          "text": [
            "Epoch 1/25\n",
            "139/139 [==============================] - 158s 1s/step - loss: 0.0138 - accuracy: 0.9998 - val_loss: 0.0168 - val_accuracy: 0.9982\n",
            "Epoch 2/25\n",
            "139/139 [==============================] - 158s 1s/step - loss: 0.0138 - accuracy: 0.9998 - val_loss: 0.0167 - val_accuracy: 0.9982\n",
            "Epoch 3/25\n",
            "139/139 [==============================] - 158s 1s/step - loss: 0.0138 - accuracy: 1.0000 - val_loss: 0.0167 - val_accuracy: 0.9982\n",
            "Epoch 4/25\n",
            "139/139 [==============================] - 158s 1s/step - loss: 0.0138 - accuracy: 0.9998 - val_loss: 0.0167 - val_accuracy: 0.9982\n",
            "Epoch 5/25\n",
            "139/139 [==============================] - 158s 1s/step - loss: 0.0137 - accuracy: 1.0000 - val_loss: 0.0168 - val_accuracy: 0.9982\n",
            "Epoch 6/25\n",
            "139/139 [==============================] - 158s 1s/step - loss: 0.0138 - accuracy: 0.9998 - val_loss: 0.0168 - val_accuracy: 0.9982\n",
            "Epoch 7/25\n",
            "139/139 [==============================] - 158s 1s/step - loss: 0.0138 - accuracy: 0.9998 - val_loss: 0.0167 - val_accuracy: 0.9982\n",
            "Epoch 8/25\n",
            "139/139 [==============================] - 158s 1s/step - loss: 0.0138 - accuracy: 1.0000 - val_loss: 0.0168 - val_accuracy: 0.9982\n",
            "Epoch 9/25\n",
            "139/139 [==============================] - 158s 1s/step - loss: 0.0137 - accuracy: 1.0000 - val_loss: 0.0167 - val_accuracy: 0.9982\n",
            "Epoch 10/25\n",
            "139/139 [==============================] - 158s 1s/step - loss: 0.0137 - accuracy: 0.9998 - val_loss: 0.0169 - val_accuracy: 0.9982\n",
            "Epoch 11/25\n",
            "139/139 [==============================] - 158s 1s/step - loss: 0.0137 - accuracy: 0.9998 - val_loss: 0.0167 - val_accuracy: 0.9982\n",
            "Epoch 12/25\n",
            "139/139 [==============================] - 158s 1s/step - loss: 0.0138 - accuracy: 1.0000 - val_loss: 0.0167 - val_accuracy: 0.9982\n",
            "Epoch 13/25\n",
            "139/139 [==============================] - 158s 1s/step - loss: 0.0138 - accuracy: 0.9998 - val_loss: 0.0167 - val_accuracy: 0.9982\n",
            "Epoch 14/25\n",
            "139/139 [==============================] - 158s 1s/step - loss: 0.0137 - accuracy: 1.0000 - val_loss: 0.0168 - val_accuracy: 0.9982\n",
            "Epoch 15/25\n",
            "139/139 [==============================] - 158s 1s/step - loss: 0.0138 - accuracy: 1.0000 - val_loss: 0.0167 - val_accuracy: 0.9982\n",
            "Epoch 16/25\n",
            "139/139 [==============================] - 158s 1s/step - loss: 0.0137 - accuracy: 0.9998 - val_loss: 0.0168 - val_accuracy: 0.9982\n",
            "Epoch 17/25\n",
            "139/139 [==============================] - 158s 1s/step - loss: 0.0137 - accuracy: 1.0000 - val_loss: 0.0167 - val_accuracy: 0.9982\n",
            "Epoch 18/25\n",
            "139/139 [==============================] - 158s 1s/step - loss: 0.0136 - accuracy: 1.0000 - val_loss: 0.0168 - val_accuracy: 0.9982\n",
            "Epoch 19/25\n",
            "139/139 [==============================] - 158s 1s/step - loss: 0.0137 - accuracy: 0.9998 - val_loss: 0.0168 - val_accuracy: 0.9982\n",
            "Epoch 20/25\n",
            "139/139 [==============================] - 158s 1s/step - loss: 0.0138 - accuracy: 1.0000 - val_loss: 0.0169 - val_accuracy: 0.9982\n",
            "Epoch 21/25\n",
            "139/139 [==============================] - 158s 1s/step - loss: 0.0137 - accuracy: 0.9998 - val_loss: 0.0167 - val_accuracy: 0.9982\n",
            "Epoch 22/25\n",
            "139/139 [==============================] - 158s 1s/step - loss: 0.0138 - accuracy: 0.9998 - val_loss: 0.0168 - val_accuracy: 0.9982\n",
            "Epoch 23/25\n",
            "139/139 [==============================] - 158s 1s/step - loss: 0.0138 - accuracy: 0.9998 - val_loss: 0.0166 - val_accuracy: 0.9982\n",
            "Epoch 24/25\n",
            "139/139 [==============================] - 158s 1s/step - loss: 0.0137 - accuracy: 1.0000 - val_loss: 0.0168 - val_accuracy: 0.9982\n",
            "Epoch 25/25\n",
            "139/139 [==============================] - 158s 1s/step - loss: 0.0138 - accuracy: 0.9998 - val_loss: 0.0167 - val_accuracy: 0.9982\n"
          ],
          "name": "stdout"
        }
      ]
    },
    {
      "cell_type": "code",
      "metadata": {
        "id": "7qmO0lbYOfJL",
        "colab": {
          "base_uri": "https://localhost:8080/",
          "height": 349
        },
        "outputId": "b53f7005-7730-4462-ba09-db35b0eb9020"
      },
      "source": [
        "loss = []\n",
        "val_loss = []\n",
        "acc = []\n",
        "val_acc = []\n",
        "for tr in train.values():\n",
        "  print(tr)\n",
        "  loss.extend(tr.history['loss'])\n",
        "  val_loss.extend(tr.history['val_loss'])\n",
        "  acc.extend(tr.history['accuracy'])\n",
        "  val_acc.extend(tr.history['val_accuracy'])\n",
        "\n",
        "# atvaizduojame grafiskai\n",
        "plt.subplot(1, 2, 1)\n",
        "plt.title('LOSS')\n",
        "plt.plot(loss, color='red')\n",
        "plt.plot(val_loss, color='green')\n",
        "plt.subplot(1, 2, 2)\n",
        "plt.title('Accuracy')\n",
        "plt.plot(acc, color='red')\n",
        "plt.plot(val_acc, color='green')\n",
        "plt.savefig(path_to_images + \"learning_figure.png\")"
      ],
      "execution_count": 13,
      "outputs": [
        {
          "output_type": "stream",
          "text": [
            "<tensorflow.python.keras.callbacks.History object at 0x7f22ba3bfc88>\n",
            "<tensorflow.python.keras.callbacks.History object at 0x7f22ba0ab160>\n",
            "<tensorflow.python.keras.callbacks.History object at 0x7f22b24f2240>\n",
            "<tensorflow.python.keras.callbacks.History object at 0x7f22aa5c95c0>\n"
          ],
          "name": "stdout"
        },
        {
          "output_type": "display_data",
          "data": {
            "image/png": "[encoded data removed]",
            "text/plain": [
              "<Figure size 432x288 with 2 Axes>"
            ]
          },
          "metadata": {
            "tags": [],
            "needs_background": "light"
          }
        }
      ]
    },
    {
      "cell_type": "code",
      "metadata": {
        "id": "o0Mf6ntLOfJL",
        "colab": {
          "base_uri": "https://localhost:8080/"
        },
        "outputId": "633c995c-2e99-4148-e2ac-661c77b904f0"
      },
      "source": [
        "test_generator = DataGenerator(partition['test'], labels, **params)\n",
        "# įvertiname tikslumą\n",
        "model.evaluate(test_generator)"
      ],
      "execution_count": 14,
      "outputs": [
        {
          "output_type": "stream",
          "text": [
            "18/18 [==============================] - 177s 10s/step - loss: 0.0265 - accuracy: 0.9983\n"
          ],
          "name": "stdout"
        },
        {
          "output_type": "execute_result",
          "data": {
            "text/plain": [
              "[0.026472166180610657, 0.9982638955116272]"
            ]
          },
          "metadata": {
            "tags": []
          },
          "execution_count": 14
        }
      ]
    },
    {
      "cell_type": "code",
      "metadata": {
        "id": "Qc1GsDAEatcJ"
      },
      "source": [
        "with open(history_path, 'wb') as handle:\n",
        "    pickle.dump([loss, val_loss, acc, val_acc], handle)"
      ],
      "execution_count": 15,
      "outputs": []
    },
    {
      "cell_type": "code",
      "metadata": {
        "id": "HUPsQFOtaxrU"
      },
      "source": [
        "# drive.flush_and_unmount()"
      ],
      "execution_count": 16,
      "outputs": []
    }
  ]
}