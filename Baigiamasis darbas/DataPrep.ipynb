{
 "cells": [
  {
   "cell_type": "markdown",
   "metadata": {},
   "source": [
    "## Kodas mokymosi duomenų paruošimui\n",
    "#### Užduotys:\n",
    "- pervadinti failus\n",
    "- išrūšiuoti failus į katalogus (train, test data)\n",
    "- sumažinti paveikslėlių dydį (opt. galima ir užkraudinėjant duomenis, bet naudosiu collab, tai geriau sumazinti)"
   ]
  },
  {
   "cell_type": "code",
   "execution_count": 20,
   "metadata": {},
   "outputs": [],
   "source": [
    "import cv2\n",
    "import os\n",
    "import shutil\n",
    "import matplotlib.pyplot as plt\n",
    "from pylab import rcParams\n",
    "rcParams['figure.figsize'] = 10, 10\n",
    "import random\n",
    "from sklearn.model_selection import train_test_split\n",
    "import pickle\n",
    "import numpy as np"
   ]
  },
  {
   "cell_type": "code",
   "execution_count": 21,
   "metadata": {},
   "outputs": [],
   "source": [
    "DATADIRS = [r'C:\\Users\\daimzn\\Asmeniniai\\Schemos\\Ne_schemos', r'C:\\Users\\daimzn\\Asmeniniai\\Schemos\\Schemos']\n",
    "TEST_DIR = r'C:\\Users\\daimzn\\Asmeniniai\\Schemos\\Test_data'\n",
    "TRAIN_DIR = r'C:\\Users\\daimzn\\Asmeniniai\\Schemos\\Train_data'\n",
    "IMG_SIZE = 500"
   ]
  },
  {
   "cell_type": "code",
   "execution_count": 22,
   "metadata": {},
   "outputs": [],
   "source": [
    "def save_smaller_image(img_path, save_path):\n",
    "    try:            \n",
    "        img = cv2.imread(img_path)\n",
    "        img = cv2.resize(img, (IMG_SIZE, IMG_SIZE))\n",
    "        cv2.imwrite(save_path, img)\n",
    "    except Exception as e:\n",
    "        print(img_path, str(e))"
   ]
  },
  {
   "cell_type": "code",
   "execution_count": 23,
   "metadata": {},
   "outputs": [
    {
     "name": "stdout",
     "output_type": "stream",
     "text": [
      "C:\\Users\\daimzn\\Asmeniniai\\Schemos\\Schemos\\Perbraukimas yra triukšmas, geriau, kad nebūtų.png OpenCV(4.4.0) C:\\Users\\appveyor\\AppData\\Local\\Temp\\1\\pip-req-build-9d_dfo3_\\opencv\\modules\\imgproc\\src\\resize.cpp:3929: error: (-215:Assertion failed) !ssize.empty() in function 'cv::resize'\n",
      "\n",
      "C:\\Users\\daimzn\\Asmeniniai\\Schemos\\Schemos\\Schemos dydis netinkamas, OCR sunkiai skaito, tikrai nereikia tokio didelio rėmelio.png OpenCV(4.4.0) C:\\Users\\appveyor\\AppData\\Local\\Temp\\1\\pip-req-build-9d_dfo3_\\opencv\\modules\\imgproc\\src\\resize.cpp:3929: error: (-215:Assertion failed) !ssize.empty() in function 'cv::resize'\n",
      "\n"
     ]
    }
   ],
   "source": [
    "# pakeičiame pav. dydį, kad būtų galima įsikelti į colab\n",
    "if not os.path.isdir(TEST_DIR):\n",
    "    os.mkdir(TEST_DIR)\n",
    "if not os.path.isdir(TRAIN_DIR):\n",
    "    os.mkdir(TRAIN_DIR)\n",
    "\n",
    "# užpildome test ir train failų listus\n",
    "for data_dir in DATADIRS:\n",
    "    files_to_copy = 300\n",
    "    dir_name = os.path.basename(data_dir)\n",
    "    test_dir_path = os.path.join(TEST_DIR, dir_name)\n",
    "    train_dir_path = os.path.join(TRAIN_DIR, dir_name)\n",
    "    \n",
    "    if not os.path.isdir(train_dir_path):\n",
    "        os.mkdir(train_dir_path)\n",
    "        \n",
    "    if not os.path.isdir(test_dir_path):\n",
    "        os.mkdir(test_dir_path)\n",
    "        \n",
    "    files = os.listdir(data_dir)\n",
    "    # kuriame test failų sąrašą, kas liks bus train   \n",
    "    test_files = []\n",
    "    while files_to_copy > 0:\n",
    "        rand_file = files[random.randint(0, len(files)-1)]\n",
    "        test_files.append(rand_file)\n",
    "        files.remove(rand_file)\n",
    "        files_to_copy -= 1\n",
    "    \n",
    "    for i, file in enumerate(files):\n",
    "        img_path = os.path.join(data_dir, file)\n",
    "        save_path = os.path.join(train_dir_path, f'{dir_name}_{i}.png')\n",
    "        save_smaller_image(img_path, save_path)\n",
    "        \n",
    "    for i, file in enumerate(test_files):\n",
    "        img_path = os.path.join(data_dir, file)\n",
    "        save_path = os.path.join(test_dir_path, f'{dir_name}_{i}.png')\n",
    "        save_smaller_image(img_path, save_path)"
   ]
  }
 ],
 "metadata": {
  "kernelspec": {
   "display_name": "Python 3",
   "language": "python",
   "name": "python3"
  },
  "language_info": {
   "codemirror_mode": {
    "name": "ipython",
    "version": 3
   },
   "file_extension": ".py",
   "mimetype": "text/x-python",
   "name": "python",
   "nbconvert_exporter": "python",
   "pygments_lexer": "ipython3",
   "version": "3.8.3"
  }
 },
 "nbformat": 4,
 "nbformat_minor": 4
}
