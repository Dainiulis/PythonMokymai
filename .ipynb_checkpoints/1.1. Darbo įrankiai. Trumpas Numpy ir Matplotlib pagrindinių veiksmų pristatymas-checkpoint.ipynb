{
 "cells": [
  {
   "cell_type": "code",
   "execution_count": 1,
   "metadata": {},
   "outputs": [],
   "source": [
    "import numpy as np\n",
    "import matplotlib.pyplot as plt"
   ]
  },
  {
   "cell_type": "markdown",
   "metadata": {},
   "source": [
    "## NumPy masyvai, paprastos operacijos"
   ]
  },
  {
   "cell_type": "code",
   "execution_count": 2,
   "metadata": {},
   "outputs": [
    {
     "name": "stdout",
     "output_type": "stream",
     "text": [
      "[ 0.  1.  2.  3.  4.  5.  6.  7.  8.  9. 10. 11. 12. 13. 14. 15. 16. 17.\n",
      " 18. 19. 20. 21. 22. 23. 24.]\n"
     ]
    }
   ],
   "source": [
    "#Sukurkime paprastą numpy masyvą\n",
    "\n",
    "a = np.arange(25, dtype=np.float64)\n",
    "print(a)"
   ]
  },
  {
   "cell_type": "code",
   "execution_count": 3,
   "metadata": {},
   "outputs": [
    {
     "name": "stdout",
     "output_type": "stream",
     "text": [
      "[[ 0.  1.  2.  3.  4.]\n",
      " [ 5.  6.  7.  8.  9.]\n",
      " [10. 11. 12. 13. 14.]\n",
      " [15. 16. 17. 18. 19.]\n",
      " [20. 21. 22. 23. 24.]]\n"
     ]
    }
   ],
   "source": [
    "#Galime pakeisti sukurto masyvo formą\n",
    "\n",
    "a = a.reshape((5, 5))\n",
    "print(a)"
   ]
  },
  {
   "cell_type": "code",
   "execution_count": 4,
   "metadata": {},
   "outputs": [
    {
     "name": "stdout",
     "output_type": "stream",
     "text": [
      "Dimensijų skaičius: 2, Narių skaičius dimensijose: (5, 5)\n"
     ]
    }
   ],
   "source": [
    "print('Dimensijų skaičius: {}, Narių skaičius dimensijose: {}'.format(a.ndim, a.shape))"
   ]
  },
  {
   "cell_type": "code",
   "execution_count": 5,
   "metadata": {},
   "outputs": [
    {
     "name": "stdout",
     "output_type": "stream",
     "text": [
      "Duomenų tipas: float64, Klasė: <class 'numpy.ndarray'>\n"
     ]
    }
   ],
   "source": [
    "print('Duomenų tipas: {}, Klasė: {}'.format(a.dtype, type(a)))"
   ]
  },
  {
   "cell_type": "markdown",
   "metadata": {},
   "source": [
    "## Veiksmai su numpy mąsyvais "
   ]
  },
  {
   "cell_type": "code",
   "execution_count": 6,
   "metadata": {},
   "outputs": [
    {
     "name": "stdout",
     "output_type": "stream",
     "text": [
      "[[1. 1. 1. 1. 1.]\n",
      " [1. 1. 1. 1. 1.]\n",
      " [1. 1. 1. 1. 1.]]\n"
     ]
    }
   ],
   "source": [
    "# Sukurkime vienetų mąsyvą\n",
    "\n",
    "a = np.ones((3, 5))\n",
    "\n",
    "print(a)"
   ]
  },
  {
   "cell_type": "code",
   "execution_count": 7,
   "metadata": {},
   "outputs": [
    {
     "name": "stdout",
     "output_type": "stream",
     "text": [
      "Forma:  (3, 5)\n",
      "Forma po transponavimo:  (5, 3)\n"
     ]
    }
   ],
   "source": [
    "#Transponavimas\n",
    "\n",
    "'''\n",
    "    Transponavimas - operacija, kuomet sukeičiamos matricos eilutės su stulpeliais.\n",
    "    \n",
    "\n",
    "'''\n",
    "\n",
    "print(\"Forma: \", a.shape)\n",
    "print(\"Forma po transponavimo: \", a.transpose().shape)"
   ]
  },
  {
   "cell_type": "code",
   "execution_count": 8,
   "metadata": {},
   "outputs": [],
   "source": [
    "#Sudėtis ir atimtis"
   ]
  },
  {
   "cell_type": "code",
   "execution_count": 9,
   "metadata": {},
   "outputs": [
    {
     "data": {
      "text/plain": [
       "array([[0., 0., 0.],\n",
       "       [0., 0., 0.]])"
      ]
     },
     "execution_count": 9,
     "metadata": {},
     "output_type": "execute_result"
    }
   ],
   "source": [
    "np.ones((2, 3))-np.ones((3))"
   ]
  },
  {
   "cell_type": "code",
   "execution_count": 10,
   "metadata": {},
   "outputs": [
    {
     "data": {
      "text/plain": [
       "array([[-2.00457989, -2.8994761 , -0.25624391, -1.20036654],\n",
       "       [-0.2500368 , -1.07037651,  0.77545653, -0.75070608]])"
      ]
     },
     "execution_count": 10,
     "metadata": {},
     "output_type": "execute_result"
    }
   ],
   "source": [
    "np.random.randn(2, 4)-np.ones((2, 4))"
   ]
  },
  {
   "cell_type": "code",
   "execution_count": 11,
   "metadata": {},
   "outputs": [
    {
     "data": {
      "text/plain": [
       "-1.1600041278614706"
      ]
     },
     "execution_count": 11,
     "metadata": {},
     "output_type": "execute_result"
    }
   ],
   "source": [
    "#dot product (skaliarine sandauga)\n",
    "np.random.randn(3).dot(np.random.randn(3))"
   ]
  },
  {
   "cell_type": "code",
   "execution_count": 12,
   "metadata": {},
   "outputs": [
    {
     "name": "stdout",
     "output_type": "stream",
     "text": [
      "[[2. 2. 2. 2. 2.]\n",
      " [2. 2. 2. 2. 2.]\n",
      " [2. 2. 2. 2. 2.]\n",
      " [2. 2. 2. 2. 2.]\n",
      " [2. 2. 2. 2. 2.]]\n"
     ]
    }
   ],
   "source": [
    "#Daugyba/ dalyba is skaiciaus (skaliaro)\n",
    "\n",
    "print(np.ones((5, 5,)) * 2)"
   ]
  },
  {
   "cell_type": "code",
   "execution_count": 13,
   "metadata": {},
   "outputs": [
    {
     "name": "stdout",
     "output_type": "stream",
     "text": [
      "[[0.5 0.5 0.5 0.5 0.5]\n",
      " [0.5 0.5 0.5 0.5 0.5]\n",
      " [0.5 0.5 0.5 0.5 0.5]\n",
      " [0.5 0.5 0.5 0.5 0.5]\n",
      " [0.5 0.5 0.5 0.5 0.5]]\n"
     ]
    }
   ],
   "source": [
    "print(np.ones((5, 5,)) / 2)"
   ]
  },
  {
   "cell_type": "code",
   "execution_count": 14,
   "metadata": {},
   "outputs": [
    {
     "data": {
      "text/plain": [
       "array([[1, 2, 3],\n",
       "       [4, 5, 6],\n",
       "       [7, 8, 9]])"
      ]
     },
     "execution_count": 14,
     "metadata": {},
     "output_type": "execute_result"
    }
   ],
   "source": [
    "#Matricu daugyba\n",
    "\n",
    "a = np.array([[1, 0, 0],\n",
    "              [0, 1, 0],\n",
    "              [0, 0, 1]])\n",
    "\n",
    "b = np.array([[1, 2, 3],\n",
    "              [4, 5, 6],\n",
    "              [7, 8, 9]])\n",
    "\n",
    "np.matmul(a, b)\n"
   ]
  },
  {
   "cell_type": "code",
   "execution_count": 15,
   "metadata": {},
   "outputs": [
    {
     "name": "stdout",
     "output_type": "stream",
     "text": [
      "(3, 5)\n",
      "(1, 3, 5)\n"
     ]
    }
   ],
   "source": [
    "#Naujos dimensijos pridėjimas\n",
    "\n",
    "a = np.ones((3, 5))\n",
    "\n",
    "print(a.shape)\n",
    "print(a[np.newaxis].shape)"
   ]
  },
  {
   "cell_type": "code",
   "execution_count": 16,
   "metadata": {},
   "outputs": [
    {
     "name": "stdout",
     "output_type": "stream",
     "text": [
      "(20, 12, 10)\n",
      "(2400,)\n",
      "(2400,)\n"
     ]
    }
   ],
   "source": [
    "#Išskleidimas į vieną dimensiją\n",
    "\n",
    "a = np.zeros((20, 12, 10))\n",
    "\n",
    "print(a.shape)\n",
    "\n",
    "print(a.ravel().shape)\n",
    "print(a.reshape(-1).shape)"
   ]
  },
  {
   "cell_type": "markdown",
   "metadata": {},
   "source": [
    "# Matplotlib.pyplot atvaizdavimui"
   ]
  },
  {
   "cell_type": "code",
   "execution_count": 17,
   "metadata": {},
   "outputs": [],
   "source": [
    "x = np.linspace(0, 2*np.pi, 100) #100 elementų intervale nuo 0 iki 1\n",
    "y = np.sin(x)\n",
    "\n",
    "\n",
    "x1 = np.linspace(-5, 5, 100)\n",
    "y1 = x1**2"
   ]
  },
  {
   "cell_type": "code",
   "execution_count": 18,
   "metadata": {},
   "outputs": [
    {
     "data": {
      "text/plain": [
       "[<matplotlib.lines.Line2D at 0x2a9d716ac08>]"
      ]
     },
     "execution_count": 18,
     "metadata": {},
     "output_type": "execute_result"
    },
    {
     "data": {
      "image/png": "[encoded data removed]",
      "text/plain": [
       "<Figure size 432x288 with 1 Axes>"
      ]
     },
     "metadata": {
      "needs_background": "light"
     },
     "output_type": "display_data"
    }
   ],
   "source": [
    "plt.plot(x, y)"
   ]
  },
  {
   "cell_type": "code",
   "execution_count": 19,
   "metadata": {},
   "outputs": [
    {
     "data": {
      "text/plain": [
       "[<matplotlib.lines.Line2D at 0x2a9d74c5f48>]"
      ]
     },
     "execution_count": 19,
     "metadata": {},
     "output_type": "execute_result"
    },
    {
     "data": {
      "image/png": "[encoded data removed]",
      "text/plain": [
       "<Figure size 432x288 with 1 Axes>"
      ]
     },
     "metadata": {
      "needs_background": "light"
     },
     "output_type": "display_data"
    }
   ],
   "source": [
    "plt.plot(x1, y1, color='red')"
   ]
  },
  {
   "cell_type": "code",
   "execution_count": null,
   "metadata": {},
   "outputs": [],
   "source": [
    "fig, (ax0, ax1) = plt.subplots(2)\n",
    "fig.suptitle('Sin(X), and X^2 plots')\n",
    "ax0.plot(x, y, color='green')\n",
    "ax1.plot(x1, y1, color = 'red')"
   ]
  },
  {
   "cell_type": "code",
   "execution_count": null,
   "metadata": {},
   "outputs": [],
   "source": [
    "x = np.random.randn(10000)\n",
    "plt.hist(x, bins = 25)"
   ]
  },
  {
   "cell_type": "markdown",
   "metadata": {},
   "source": [
    "## Užduotis\n",
    "\n",
    "1.Sukurti du mąsyvus :\n",
    "a - su atsitiktinėmis reikšmėmis, su forma (10, 10, 10). išskleisti į vienos dimensijos masyvą. \n",
    "b - su reikšmėmis iš intervalo (0, 1), turintį vieną dimensiją su 1000 elementų.\n",
    "\n",
    "2.Pavaizduoti du grafikus vieną šalia kito: kreivę, kurios x-ašis yra a, o y-ašis yra b ir a masyvo reikšmių histogramą. Grafikai turėtų turėti pavadinimą bei legendą.\n",
    "\n",
    "3.Paskaičiuoti a ir b dot product\n",
    "\n",
    "4.Paskaičiuoti a ir b sandaugą\n",
    "\n",
    "5.Paskaičiuoti a ir b sumą\n",
    "\n",
    "\n",
    "6.Sukurti funkciją, kuri masyvui pritaikytų funkciją 1/(1 + e^(-x)) ir grąžintų pakeistą masyvą\n",
    "\n",
    "7.Pritaikyti funkciją b masyvui (rezultatą išsaugoti naujame masyve)\n",
    "\n",
    "8.Nubrėžti gautų reikšmių grafiką\n",
    "\n",
    "9.Ką galite pasakyti apie šią funkciją?\n",
    "\n",
    "\n"
   ]
  },
  {
   "cell_type": "code",
   "execution_count": null,
   "metadata": {},
   "outputs": [],
   "source": []
  }
 ],
 "metadata": {
  "kernelspec": {
   "display_name": "Python 3",
   "language": "python",
   "name": "python3"
  },
  "language_info": {
   "codemirror_mode": {
    "name": "ipython",
    "version": 3
   },
   "file_extension": ".py",
   "mimetype": "text/x-python",
   "name": "python",
   "nbconvert_exporter": "python",
   "pygments_lexer": "ipython3",
   "version": "3.7.4"
  }
 },
 "nbformat": 4,
 "nbformat_minor": 4
}
