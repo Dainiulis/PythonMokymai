{
 "cells": [
  {
   "cell_type": "code",
   "execution_count": 50,
   "metadata": {},
   "outputs": [],
   "source": [
    "#Įsikeliame reikalingas bibliotekas\n",
    "\n",
    "\n",
    "import matplotlib.pyplot as plt\n",
    "import numpy as np\n",
    "from sklearn import datasets\n",
    "from sklearn.model_selection import train_test_split\n",
    "\n",
    "import keras\n",
    "\n",
    "from pylab import rcParams\n",
    "rcParams['figure.figsize'] = 10, 10"
   ]
  },
  {
   "cell_type": "code",
   "execution_count": 51,
   "metadata": {},
   "outputs": [],
   "source": [
    "#Įsikeliame duomenis\n",
    "\n",
    "(X_train, y_train), (X_test, y_test) =  keras.datasets.mnist.load_data()"
   ]
  },
  {
   "cell_type": "code",
   "execution_count": 52,
   "metadata": {},
   "outputs": [
    {
     "data": {
      "text/plain": [
       "<matplotlib.image.AxesImage at 0x1d40032bc10>"
      ]
     },
     "execution_count": 52,
     "metadata": {},
     "output_type": "execute_result"
    },
    {
     "data": {
      "image/png": "[encoded data removed]",
      "text/plain": [
       "<Figure size 720x720 with 1 Axes>"
      ]
     },
     "metadata": {
      "needs_background": "light"
     },
     "output_type": "display_data"
    }
   ],
   "source": [
    "plt.imshow(X_train[0])"
   ]
  },
  {
   "cell_type": "code",
   "execution_count": 53,
   "metadata": {},
   "outputs": [],
   "source": [
    "# normalizuojame\n",
    "X_train = X_train / X_train.max()\n",
    "X_test = X_test / X_test.max()"
   ]
  },
  {
   "cell_type": "code",
   "execution_count": 54,
   "metadata": {},
   "outputs": [],
   "source": [
    "X_train, X_valid, y_train, y_valid = train_test_split(X_train, y_train, test_size=0.1, shuffle= True)"
   ]
  },
  {
   "cell_type": "code",
   "execution_count": 55,
   "metadata": {},
   "outputs": [],
   "source": [
    "y_train_one_hot = keras.utils.to_categorical(y_train, 10)\n",
    "y_valid_one_hot = keras.utils.to_categorical(y_valid, 10)\n",
    "y_test_one_hot = keras.utils.to_categorical(y_test, 10)"
   ]
  },
  {
   "cell_type": "code",
   "execution_count": 56,
   "metadata": {},
   "outputs": [],
   "source": [
    "import numpy as np\n",
    "X_train = np.expand_dims(X_train, -1)\n",
    "X_valid = np.expand_dims(X_valid, -1)\n",
    "X_test = np.expand_dims(X_test, -1)"
   ]
  },
  {
   "cell_type": "code",
   "execution_count": 57,
   "metadata": {},
   "outputs": [
    {
     "name": "stdout",
     "output_type": "stream",
     "text": [
      "Model: \"sequential_10\"\n",
      "_________________________________________________________________\n",
      "Layer (type)                 Output Shape              Param #   \n",
      "=================================================================\n",
      "conv2d_9 (Conv2D)            (None, 28, 28, 64)        640       \n",
      "_________________________________________________________________\n",
      "flatten_7 (Flatten)          (None, 50176)             0         \n",
      "_________________________________________________________________\n",
      "dense_21 (Dense)             (None, 128)               6422656   \n",
      "_________________________________________________________________\n",
      "dense_22 (Dense)             (None, 64)                8256      \n",
      "_________________________________________________________________\n",
      "dense_23 (Dense)             (None, 10)                650       \n",
      "=================================================================\n",
      "Total params: 6,432,202\n",
      "Trainable params: 6,432,202\n",
      "Non-trainable params: 0\n",
      "_________________________________________________________________\n"
     ]
    }
   ],
   "source": [
    "model = keras.models.Sequential()\n",
    "model.add(keras.layers.Conv2D(filters=64, kernel_size=(3, 3), input_shape=(28, 28, 1), activation='relu', padding='same'))\n",
    "model.add(keras.layers.Flatten())\n",
    "model.add(keras.layers.Dense(128, activation='relu'))\n",
    "model.add(keras.layers.Dense(64, activation='relu'))\n",
    "model.add(keras.layers.Dense(10, activation='softmax'))\n",
    "model.compile(loss='categorical_crossentropy', optimizer='adam', metrics=['accuracy'])\n",
    "model.summary()"
   ]
  },
  {
   "cell_type": "code",
   "execution_count": 58,
   "metadata": {},
   "outputs": [
    {
     "name": "stdout",
     "output_type": "stream",
     "text": [
      "Epoch 1/15\n",
      "1688/1688 [==============================] - 134s 79ms/step - loss: 0.1504 - accuracy: 0.9537 - val_loss: 0.0819 - val_accuracy: 0.9742\n",
      "Epoch 2/15\n",
      "1688/1688 [==============================] - 124s 74ms/step - loss: 0.0469 - accuracy: 0.9851 - val_loss: 0.0589 - val_accuracy: 0.9805\n",
      "Epoch 3/15\n",
      "1688/1688 [==============================] - 127s 75ms/step - loss: 0.0247 - accuracy: 0.9921 - val_loss: 0.0649 - val_accuracy: 0.9795\n",
      "Epoch 4/15\n",
      "1688/1688 [==============================] - 133s 79ms/step - loss: 0.0158 - accuracy: 0.9947 - val_loss: 0.0851 - val_accuracy: 0.9770\n",
      "Epoch 5/15\n",
      "1688/1688 [==============================] - 123s 73ms/step - loss: 0.0120 - accuracy: 0.9964 - val_loss: 0.0803 - val_accuracy: 0.9795\n",
      "Epoch 6/15\n",
      "1688/1688 [==============================] - 122s 72ms/step - loss: 0.0080 - accuracy: 0.9974 - val_loss: 0.0787 - val_accuracy: 0.9835\n",
      "Epoch 7/15\n",
      "1688/1688 [==============================] - 122s 72ms/step - loss: 0.0061 - accuracy: 0.9980 - val_loss: 0.1008 - val_accuracy: 0.9805\n",
      "Epoch 8/15\n",
      "1688/1688 [==============================] - 117s 69ms/step - loss: 0.0063 - accuracy: 0.9978 - val_loss: 0.0974 - val_accuracy: 0.9813\n",
      "Epoch 9/15\n",
      "1688/1688 [==============================] - 113s 67ms/step - loss: 0.0063 - accuracy: 0.9980 - val_loss: 0.0955 - val_accuracy: 0.9797\n",
      "Epoch 10/15\n",
      "1688/1688 [==============================] - 116s 69ms/step - loss: 0.0053 - accuracy: 0.9983 - val_loss: 0.0947 - val_accuracy: 0.9817\n",
      "Epoch 11/15\n",
      "1688/1688 [==============================] - 118s 70ms/step - loss: 0.0027 - accuracy: 0.9992 - val_loss: 0.1271 - val_accuracy: 0.9827\n",
      "Epoch 12/15\n",
      "1688/1688 [==============================] - 131s 77ms/step - loss: 0.0051 - accuracy: 0.9985 - val_loss: 0.1020 - val_accuracy: 0.9838\n",
      "Epoch 13/15\n",
      "1688/1688 [==============================] - 123s 73ms/step - loss: 0.0042 - accuracy: 0.9989 - val_loss: 0.0971 - val_accuracy: 0.9822\n",
      "Epoch 14/15\n",
      "1688/1688 [==============================] - 116s 69ms/step - loss: 0.0030 - accuracy: 0.9992 - val_loss: 0.1176 - val_accuracy: 0.9818\n",
      "Epoch 15/15\n",
      "1688/1688 [==============================] - 130s 77ms/step - loss: 0.0035 - accuracy: 0.9990 - val_loss: 0.1300 - val_accuracy: 0.9808\n"
     ]
    }
   ],
   "source": [
    "h = model.fit(X_train, y_train_one_hot, validation_data=(X_valid, y_valid_one_hot), epochs=15, batch_size=32)"
   ]
  },
  {
   "cell_type": "code",
   "execution_count": 60,
   "metadata": {},
   "outputs": [
    {
     "name": "stdout",
     "output_type": "stream",
     "text": [
      "313/313 [==============================] - 3s 11ms/step - loss: 0.1083 - accuracy: 0.9839\n"
     ]
    },
    {
     "data": {
      "text/plain": [
       "[0.10833419114351273, 0.9839000105857849]"
      ]
     },
     "execution_count": 60,
     "metadata": {},
     "output_type": "execute_result"
    }
   ],
   "source": [
    "model.evaluate(X_test, y_test_one_hot)"
   ]
  },
  {
   "cell_type": "code",
   "execution_count": null,
   "metadata": {},
   "outputs": [],
   "source": []
  }
 ],
 "metadata": {
  "kernelspec": {
   "display_name": "Python 3",
   "language": "python",
   "name": "python3"
  },
  "language_info": {
   "codemirror_mode": {
    "name": "ipython",
    "version": 3
   },
   "file_extension": ".py",
   "mimetype": "text/x-python",
   "name": "python",
   "nbconvert_exporter": "python",
   "pygments_lexer": "ipython3",
   "version": "3.8.3"
  }
 },
 "nbformat": 4,
 "nbformat_minor": 4
}
