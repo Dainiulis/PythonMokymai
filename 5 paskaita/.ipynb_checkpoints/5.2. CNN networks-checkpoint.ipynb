{
 "cells": [
  {
   "cell_type": "code",
   "execution_count": 1,
   "metadata": {},
   "outputs": [],
   "source": [
    "#Įsikeliame reikalingas bibliotekas\n",
    "\n",
    "\n",
    "import matplotlib.pyplot as plt\n",
    "import numpy as np\n",
    "from sklearn import datasets\n",
    "from sklearn.model_selection import train_test_split\n",
    "\n",
    "import keras\n",
    "\n",
    "from pylab import rcParams\n",
    "rcParams['figure.figsize'] = 10, 10"
   ]
  },
  {
   "cell_type": "code",
   "execution_count": 2,
   "metadata": {},
   "outputs": [],
   "source": [
    "#Įsikeliame duomenis\n",
    "\n",
    "(X_train, y_train), (X_test, y_test) =  keras.datasets.mnist.load_data()"
   ]
  },
  {
   "cell_type": "code",
   "execution_count": 3,
   "metadata": {},
   "outputs": [
    {
     "data": {
      "text/plain": [
       "<matplotlib.image.AxesImage at 0x2a3b992e4f0>"
      ]
     },
     "execution_count": 3,
     "metadata": {},
     "output_type": "execute_result"
    },
    {
     "data": {
      "image/png": "[encoded data removed]",
      "text/plain": [
       "<Figure size 720x720 with 1 Axes>"
      ]
     },
     "metadata": {
      "needs_background": "light"
     },
     "output_type": "display_data"
    }
   ],
   "source": [
    "plt.imshow(X_train[0])"
   ]
  },
  {
   "cell_type": "code",
   "execution_count": 4,
   "metadata": {},
   "outputs": [],
   "source": [
    "# normalizuojame\n",
    "X_train = X_train / X_train.max()\n",
    "X_test = X_test / X_test.max()"
   ]
  },
  {
   "cell_type": "code",
   "execution_count": 5,
   "metadata": {},
   "outputs": [],
   "source": [
    "X_train, X_valid, y_train, y_valid = train_test_split(X_train, y_train, test_size=0.1, shuffle= True)"
   ]
  },
  {
   "cell_type": "code",
   "execution_count": 6,
   "metadata": {},
   "outputs": [],
   "source": [
    "y_train_one_hot = keras.utils.to_categorical(y_train, 10)\n",
    "y_valid_one_hot = keras.utils.to_categorical(y_valid, 10)\n",
    "y_test_one_hot = keras.utils.to_categorical(y_test, 10)"
   ]
  },
  {
   "cell_type": "code",
   "execution_count": 7,
   "metadata": {},
   "outputs": [],
   "source": [
    "import numpy as np\n",
    "X_train = np.expand_dims(X_train, -1)\n",
    "X_valid = np.expand_dims(X_valid, -1)\n",
    "X_test = np.expand_dims(X_test, -1)"
   ]
  },
  {
   "cell_type": "code",
   "execution_count": 9,
   "metadata": {
    "collapsed": true
   },
   "outputs": [
    {
     "name": "stdout",
     "output_type": "stream",
     "text": [
      "Model: \"sequential_1\"\n",
      "_________________________________________________________________\n",
      "Layer (type)                 Output Shape              Param #   \n",
      "=================================================================\n",
      "conv2d_2 (Conv2D)            (None, 24, 24, 6)         156       \n",
      "_________________________________________________________________\n",
      "average_pooling2d_2 (Average (None, 12, 12, 6)         0         \n",
      "_________________________________________________________________\n",
      "conv2d_3 (Conv2D)            (None, 8, 8, 16)          2416      \n",
      "_________________________________________________________________\n",
      "average_pooling2d_3 (Average (None, 4, 4, 16)          0         \n",
      "_________________________________________________________________\n",
      "flatten_1 (Flatten)          (None, 256)               0         \n",
      "_________________________________________________________________\n",
      "dense_3 (Dense)              (None, 120)               30840     \n",
      "_________________________________________________________________\n",
      "dense_4 (Dense)              (None, 84)                10164     \n",
      "_________________________________________________________________\n",
      "dense_5 (Dense)              (None, 10)                850       \n",
      "=================================================================\n",
      "Total params: 44,426\n",
      "Trainable params: 44,426\n",
      "Non-trainable params: 0\n",
      "_________________________________________________________________\n"
     ]
    }
   ],
   "source": [
    "model = keras.models.Sequential()\n",
    "model.add(keras.layers.Conv2D(filters=6, kernel_size=(5, 5), input_shape=(28, 28, 1), activation='relu'))\n",
    "model.add(keras.layers.AveragePooling2D())\n",
    "model.add(keras.layers.Conv2D(filters=16, kernel_size=(5, 5), activation='relu'))\n",
    "model.add(keras.layers.AveragePooling2D())\n",
    "model.add(keras.layers.Flatten())\n",
    "model.add(keras.layers.Dense(120, activation='relu'))\n",
    "model.add(keras.layers.Dense(84, activation='relu'))\n",
    "model.add(keras.layers.Dense(10, activation='softmax'))\n",
    "model.compile(loss='categorical_crossentropy', optimizer='adam', metrics=['accuracy'])\n",
    "model.summary()"
   ]
  },
  {
   "cell_type": "code",
   "execution_count": 10,
   "metadata": {
    "collapsed": true
   },
   "outputs": [
    {
     "name": "stdout",
     "output_type": "stream",
     "text": [
      "Epoch 1/10\n",
      "1688/1688 [==============================] - 17s 10ms/step - loss: 0.2538 - accuracy: 0.9213 - val_loss: 0.0969 - val_accuracy: 0.9700\n",
      "Epoch 2/10\n",
      "1688/1688 [==============================] - 17s 10ms/step - loss: 0.0822 - accuracy: 0.9745 - val_loss: 0.0771 - val_accuracy: 0.9778\n",
      "Epoch 3/10\n",
      "1688/1688 [==============================] - 17s 10ms/step - loss: 0.0577 - accuracy: 0.9818 - val_loss: 0.0621 - val_accuracy: 0.9823\n",
      "Epoch 4/10\n",
      "1688/1688 [==============================] - 17s 10ms/step - loss: 0.0451 - accuracy: 0.9854 - val_loss: 0.0550 - val_accuracy: 0.9838\n",
      "Epoch 5/10\n",
      "1688/1688 [==============================] - 16s 10ms/step - loss: 0.0375 - accuracy: 0.9875 - val_loss: 0.0526 - val_accuracy: 0.9843\n",
      "Epoch 6/10\n",
      "1688/1688 [==============================] - 16s 9ms/step - loss: 0.0313 - accuracy: 0.9896 - val_loss: 0.0560 - val_accuracy: 0.9837\n",
      "Epoch 7/10\n",
      "1688/1688 [==============================] - 20s 12ms/step - loss: 0.0261 - accuracy: 0.9918 - val_loss: 0.0533 - val_accuracy: 0.9845\n",
      "Epoch 8/10\n",
      "1688/1688 [==============================] - 19s 11ms/step - loss: 0.0225 - accuracy: 0.9926 - val_loss: 0.0522 - val_accuracy: 0.9862\n",
      "Epoch 9/10\n",
      "1688/1688 [==============================] - 16s 10ms/step - loss: 0.0195 - accuracy: 0.9937 - val_loss: 0.0604 - val_accuracy: 0.9840\n",
      "Epoch 10/10\n",
      "1688/1688 [==============================] - 18s 11ms/step - loss: 0.0171 - accuracy: 0.9941 - val_loss: 0.0637 - val_accuracy: 0.9847\n"
     ]
    }
   ],
   "source": [
    "h = model.fit(X_train, y_train_one_hot, validation_data=(X_valid, y_valid_one_hot), epochs=10, batch_size=32)"
   ]
  },
  {
   "cell_type": "code",
   "execution_count": 11,
   "metadata": {},
   "outputs": [
    {
     "name": "stdout",
     "output_type": "stream",
     "text": [
      "313/313 [==============================] - 1s 4ms/step - loss: 0.0475 - accuracy: 0.9872\n"
     ]
    },
    {
     "data": {
      "text/plain": [
       "[0.04750644788146019, 0.9872000217437744]"
      ]
     },
     "execution_count": 11,
     "metadata": {},
     "output_type": "execute_result"
    }
   ],
   "source": [
    "model.evaluate(X_test, y_test_one_hot)"
   ]
  },
  {
   "cell_type": "code",
   "execution_count": null,
   "metadata": {},
   "outputs": [],
   "source": []
  }
 ],
 "metadata": {
  "kernelspec": {
   "display_name": "Python 3",
   "language": "python",
   "name": "python3"
  },
  "language_info": {
   "codemirror_mode": {
    "name": "ipython",
    "version": 3
   },
   "file_extension": ".py",
   "mimetype": "text/x-python",
   "name": "python",
   "nbconvert_exporter": "python",
   "pygments_lexer": "ipython3",
   "version": "3.8.3"
  }
 },
 "nbformat": 4,
 "nbformat_minor": 4
}
