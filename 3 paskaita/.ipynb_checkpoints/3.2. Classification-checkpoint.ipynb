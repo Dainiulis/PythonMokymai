{
 "cells": [
  {
   "cell_type": "markdown",
   "metadata": {},
   "source": [
    "## Dirbame su klasifikacijos problemomis\n",
    "\n",
    "- Išmėginsime logistinę regresiją\n",
    "- Atvaizduosime decision boundary\n",
    "- Pradedame dirbti su vaizdais"
   ]
  },
  {
   "cell_type": "code",
   "execution_count": null,
   "metadata": {},
   "outputs": [],
   "source": [
    "#įsikeliame reikalingas bibliotekas\n",
    "\n",
    "import numpy as np\n",
    "import matplotlib.pyplot as plt\n",
    "import cv2\n",
    "from sklearn import decomposition\n",
    "from sklearn import datasets\n",
    "\n",
    "import keras\n",
    "\n",
    "from pylab import rcParams\n",
    "rcParams['figure.figsize'] = 15, 10\n",
    "\n",
    "from mlxtend.plotting import plot_decision_regions"
   ]
  },
  {
   "cell_type": "code",
   "execution_count": null,
   "metadata": {},
   "outputs": [],
   "source": [
    "# Sukuriame duomenų rinkinį\n",
    "X, y = datasets.make_classification(n_classes=2, n_samples=500, n_features=2, n_informative=2, n_redundant=0, n_clusters_per_class=1, random_state=4)"
   ]
  },
  {
   "cell_type": "code",
   "execution_count": null,
   "metadata": {},
   "outputs": [],
   "source": [
    "#Atvaizduojame\n",
    "\n",
    "plt.scatter(X[:, 0], X[:, 1])"
   ]
  },
  {
   "cell_type": "code",
   "execution_count": null,
   "metadata": {},
   "outputs": [],
   "source": [
    "#Atvaizduojame su klasėmis\n",
    "\n",
    "for i in range(2): \n",
    "    rows = np.where(y == i)\n",
    "    if i == 0:\n",
    "        color = 'red'\n",
    "    else:\n",
    "        color = 'green'\n",
    "    plt.scatter(X[rows, 0], X[rows, 1], c = color)"
   ]
  },
  {
   "cell_type": "code",
   "execution_count": null,
   "metadata": {},
   "outputs": [],
   "source": [
    "#Sukuriame modelį\n",
    "\n",
    "model = keras.models.Sequential()\n",
    "\n",
    "#pridedame sluoksnį su vienu tašku (\"neuronu\")\n",
    "model.add(keras.layers.Dense(1, input_dim=2, activation='sigmoid'))\n",
    "\n",
    "\n",
    "model.compile(loss='binary_crossentropy', optimizer='adam', metrics=['accuracy'])\n",
    "\n",
    "\n",
    "#Standartizuojame:\n",
    "\n",
    "X = (X-X.mean())/X.std()\n",
    "model.summary()"
   ]
  },
  {
   "cell_type": "code",
   "execution_count": null,
   "metadata": {},
   "outputs": [],
   "source": [
    "#Mokome\n",
    "\n",
    "model.fit(X, y, epochs = 200, )"
   ]
  },
  {
   "cell_type": "code",
   "execution_count": null,
   "metadata": {},
   "outputs": [],
   "source": [
    "y_pred = model.predict(X)"
   ]
  },
  {
   "cell_type": "code",
   "execution_count": null,
   "metadata": {},
   "outputs": [],
   "source": [
    "y_pred = y_pred.round().ravel()"
   ]
  },
  {
   "cell_type": "code",
   "execution_count": null,
   "metadata": {},
   "outputs": [],
   "source": [
    "#Spėjimai, ant treniravmo duomenų ir palyginimas su tuo, ką gavome.\n",
    "\n",
    "plt.subplot(1, 2, 1)\n",
    "for i in range(2): \n",
    "    rows = np.where(y == i)\n",
    "    if i == 0:\n",
    "        color = 'red'\n",
    "    else:\n",
    "        color = 'green'\n",
    "    plt.scatter(X[rows, 0], X[rows, 1], c = color)\n",
    "\n",
    "plt.subplot(1, 2, 2)\n",
    "for i in range(2): \n",
    "    rows = np.where(y_pred == i)\n",
    "    if i == 0:\n",
    "        color = 'red'\n",
    "    else:\n",
    "        color = 'green'\n",
    "    plt.scatter(X[rows, 0], X[rows, 1], c = color)\n",
    "    \n"
   ]
  },
  {
   "cell_type": "code",
   "execution_count": null,
   "metadata": {},
   "outputs": [],
   "source": [
    "#Atvaizduojame išmoktą decision boundary\n",
    "\n",
    "plot_decision_regions(X, y, clf=model, legend=2)"
   ]
  },
  {
   "cell_type": "code",
   "execution_count": null,
   "metadata": {},
   "outputs": [],
   "source": [
    "#Pamėginkime atlikti spėjimus naujiems duomenų taškams.\n",
    "\n",
    "model.predict(np.array([-1, -2])[np.newaxis])"
   ]
  },
  {
   "cell_type": "markdown",
   "metadata": {},
   "source": [
    "## Užduotis\n",
    "\n",
    "- Naudojant MNIST duomenų rinkinį sukurti klasifikatorių, kuris iš vaizdo pasakytų, ar matomas skaičius lyginis, ar nelyginis.\n",
    "\n",
    "- Įvertinkite modelio veikimą ant testavimo duomenų.\n",
    "\n",
    "- Atlikite keletą spėjimų, įsitikinkite, kaip veikia jūsų modelis\n"
   ]
  },
  {
   "cell_type": "code",
   "execution_count": null,
   "metadata": {},
   "outputs": [],
   "source": [
    "#TWO CLASSES\n",
    "\n",
    "# Model / data parameters\n",
    "num_classes = 2\n",
    "input_shape = (28, 28, 1)\n",
    "\n",
    "# the data, split between train and test sets\n",
    "(x_train, y_train), (x_test, y_test) = keras.datasets.mnist.load_data()\n",
    "\n",
    "# Scale images to the [0, 1] range\n",
    "x_train = x_train.astype(\"float32\") / 255\n",
    "x_test = x_test.astype(\"float32\") / 255\n",
    "# Make sure images have shape (28, 28, 1)\n",
    "x_train = np.expand_dims(x_train, -1)\n",
    "x_test = np.expand_dims(x_test, -1)\n",
    "print(\"x_train shape:\", x_train.shape)\n",
    "print(x_train.shape[0], \"train samples\")\n",
    "print(x_test.shape[0], \"test samples\")\n",
    "\n",
    "x_train = np.array([np.reshape(cv2.resize(im, (14, 14)), (14, 14, 1)) for im in x_train])\n",
    "print(y_train.shape)\n",
    "\n",
    "\n",
    "\n",
    "y_train = np.array([int(y%2==0) for y in y_train])\n",
    "y_test = np.array([int(y%2==0) for y in y_test])\n",
    "\n",
    "print(\"x_train shape:\", x_train.shape)\n"
   ]
  },
  {
   "cell_type": "code",
   "execution_count": null,
   "metadata": {},
   "outputs": [],
   "source": [
    "\n",
    "print(x_train[0].shape)\n",
    "print(y_train[0])\n",
    "plt.imshow(x_train[0, :, :, 0])"
   ]
  },
  {
   "cell_type": "code",
   "execution_count": null,
   "metadata": {},
   "outputs": [],
   "source": [
    "#Jūsų modelis:\n",
    "\n",
    "\n",
    "#Nepamirškite, kad modelis priima išskleistus paveikslėlius, tam galima naudoti keras Flatten() sluoksnį.\n"
   ]
  },
  {
   "cell_type": "code",
   "execution_count": null,
   "metadata": {},
   "outputs": [],
   "source": [
    "#Mokymas\n",
    "\n"
   ]
  },
  {
   "cell_type": "code",
   "execution_count": null,
   "metadata": {},
   "outputs": [],
   "source": [
    "#Modelio vertinimas naudojant testavimo duomenimis"
   ]
  },
  {
   "cell_type": "code",
   "execution_count": null,
   "metadata": {},
   "outputs": [],
   "source": []
  },
  {
   "cell_type": "code",
   "execution_count": null,
   "metadata": {},
   "outputs": [],
   "source": []
  }
 ],
 "metadata": {
  "kernelspec": {
   "display_name": "Python 3",
   "language": "python",
   "name": "python3"
  },
  "language_info": {
   "codemirror_mode": {
    "name": "ipython",
    "version": 3
   },
   "file_extension": ".py",
   "mimetype": "text/x-python",
   "name": "python",
   "nbconvert_exporter": "python",
   "pygments_lexer": "ipython3",
   "version": "3.7.4"
  }
 },
 "nbformat": 4,
 "nbformat_minor": 4
}
