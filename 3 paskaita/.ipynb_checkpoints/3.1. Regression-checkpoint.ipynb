{
 "cells": [
  {
   "cell_type": "markdown",
   "metadata": {},
   "source": [
    "## Tyrinėjame regresijos problemas\n",
    "\n",
    "- Pamėginsime patyrinėti regresijos problemas, apmokyti pirmąjį supervised learning modelį\n",
    "\n",
    "- Regresija nenaudojant specialių bibliotekų išvestinėms\n",
    "\n",
    "- Regresija su keras"
   ]
  },
  {
   "cell_type": "code",
   "execution_count": null,
   "metadata": {},
   "outputs": [],
   "source": [
    "#Įsikeliame reikalingas bibliotekas\n",
    "\n",
    "\n",
    "import matplotlib.pyplot as plt\n",
    "import numpy as np\n",
    "from sklearn import datasets\n",
    "\n",
    "import cv2\n",
    "\n",
    "from pylab import rcParams\n",
    "rcParams['figure.figsize'] = 10, 10"
   ]
  },
  {
   "cell_type": "code",
   "execution_count": null,
   "metadata": {},
   "outputs": [],
   "source": [
    "#Susikuriame duomenų eksperimentams\n",
    "\n",
    "x=np.linspace(0,1,100)\n",
    "y=0.5*x+0.1*np.random.randn(100)+0.2\n"
   ]
  },
  {
   "cell_type": "code",
   "execution_count": null,
   "metadata": {},
   "outputs": [],
   "source": [
    "plt.scatter(x, y)\n",
    "#plt.plot(x, 0.5*x+0.2, '-r')"
   ]
  },
  {
   "cell_type": "code",
   "execution_count": null,
   "metadata": {},
   "outputs": [],
   "source": [
    "# Sukuriame kintamuosius svoriams, priskiriame jiems atsitiktines reikšmes\n",
    "\n",
    "m, b = np.random.randn(2)\n",
    "\n",
    "plt.scatter(x, y)\n",
    "\n",
    "plt.plot(x, m*x+b, '-r')"
   ]
  },
  {
   "cell_type": "code",
   "execution_count": null,
   "metadata": {},
   "outputs": [],
   "source": [
    "# Mokome \n",
    "\n",
    "\n",
    "#nustatome learning rate\n",
    "lr = 0.1\n",
    "\n",
    "\n",
    "plt.scatter(x, y)\n",
    "plt.plot(x, 0.5*x+0.2, '-y')\n",
    "#plt.plot(x, m*x+b, '-r')\n",
    "\n",
    "\n",
    "#Loss funkcija\n",
    "def mse(y, y_pred):\n",
    "    return (np.square(y - y_pred)).mean(axis=0)*0.5\n",
    "\n",
    "\n",
    "#mokymas\n",
    "for epoch in range(1000): #Mokymas truks 1000 epochų\n",
    "    \n",
    "    y_pred = m*x+b #Atliekame spėjimus\n",
    "    \n",
    "    loss = mse(y, y_pred) #paskaičiuojame loss funkcijos reikšmes\n",
    "    \n",
    "    \n",
    "    #Atnaujiname parametrus\n",
    "    m = m + lr*x.dot(y - y_pred)/100.\n",
    "    b = b + lr*(y - y_pred).mean(axis=0)\n",
    "    \n",
    "    \n",
    "    plt.plot(x, m*x+b, color = (1, 0, 0, epoch/1000))\n",
    "    if epoch%10 ==0:\n",
    "        print('Epoch: {}, Loss: {}'.format(epoch,loss))"
   ]
  },
  {
   "cell_type": "code",
   "execution_count": null,
   "metadata": {},
   "outputs": [],
   "source": [
    "# Atvaizduojame išmoktą funkciją\n",
    "\n",
    "plt.scatter(x, y)\n",
    "plt.plot(x, 0.5*x+0.2, '-y')\n",
    "plt.plot(x, m*x+b, '-r')"
   ]
  },
  {
   "cell_type": "code",
   "execution_count": null,
   "metadata": {},
   "outputs": [],
   "source": [
    "print(\"m: {}, b: {}\".format(m, b))"
   ]
  },
  {
   "cell_type": "markdown",
   "metadata": {},
   "source": [
    "## KERAS REGRESIJA"
   ]
  },
  {
   "cell_type": "code",
   "execution_count": null,
   "metadata": {},
   "outputs": [],
   "source": [
    "import keras"
   ]
  },
  {
   "cell_type": "code",
   "execution_count": null,
   "metadata": {},
   "outputs": [],
   "source": [
    "#sukonstruojame modelį\n",
    "\n",
    "model = keras.models.Sequential()\n",
    "model.add(keras.layers.Dense(1, input_dim=1))\n",
    "\n",
    "model.compile(loss='mse', optimizer='sgd')\n"
   ]
  },
  {
   "cell_type": "code",
   "execution_count": null,
   "metadata": {},
   "outputs": [],
   "source": [
    "model.summary()"
   ]
  },
  {
   "cell_type": "code",
   "execution_count": null,
   "metadata": {},
   "outputs": [],
   "source": [
    "# Mokome\n",
    "model.fit(x, y, epochs=1000)"
   ]
  },
  {
   "cell_type": "code",
   "execution_count": null,
   "metadata": {},
   "outputs": [],
   "source": [
    "m_keras = model.weights[0].numpy()[0]\n",
    "b_keras = model.weights[1].numpy()[0]"
   ]
  },
  {
   "cell_type": "code",
   "execution_count": null,
   "metadata": {},
   "outputs": [],
   "source": [
    "#Palyginkim funkcijas:\n",
    "\n",
    "plt.scatter(x, y)\n",
    "plt.plot(x, 0.5*x+0.2, '-y')\n",
    "plt.plot(x, m*x+b, '-r')\n",
    "plt.plot(x, m_keras*x+b_keras, '-g')"
   ]
  },
  {
   "cell_type": "code",
   "execution_count": null,
   "metadata": {},
   "outputs": [],
   "source": [
    "#Galime susikurti taškus su daugiau savybių\n",
    "\n",
    "x=np.linspace(0,1,100)\n",
    "y=np.linspace(0,1,100)\n",
    "\n",
    "z=0.5*x+0.1*np.random.randn(100)+0.3*y+0.15*np.random.randn(100)+0.34"
   ]
  },
  {
   "cell_type": "code",
   "execution_count": null,
   "metadata": {},
   "outputs": [],
   "source": [
    "ax = plt.axes(projection='3d')\n",
    "\n",
    "ax.scatter3D(x, y, z)\n",
    "\n"
   ]
  },
  {
   "cell_type": "code",
   "execution_count": null,
   "metadata": {},
   "outputs": [],
   "source": [
    "model = keras.models.Sequential()\n",
    "model.add(keras.layers.Dense(1, input_dim=2))\n",
    "\n",
    "model.compile(loss='mse', optimizer='sgd')\n",
    "\n",
    "model.summary()"
   ]
  },
  {
   "cell_type": "code",
   "execution_count": null,
   "metadata": {},
   "outputs": [],
   "source": [
    "a = np.dstack((x, y)).reshape((100,2))\n",
    "print(a.shape)"
   ]
  },
  {
   "cell_type": "code",
   "execution_count": null,
   "metadata": {
    "scrolled": false
   },
   "outputs": [],
   "source": [
    "model.fit(a, z, epochs=200)"
   ]
  },
  {
   "cell_type": "code",
   "execution_count": null,
   "metadata": {},
   "outputs": [],
   "source": []
  },
  {
   "cell_type": "markdown",
   "metadata": {},
   "source": [
    "## Užduotis\n",
    "\n",
    "- Naudodami pateiktą duomenų rinkinį, sukurkite modelį, nuspėjantį studento pažymį pagal tai, kiek laiko jis praleido mokydamasis.\n",
    "\n",
    "\n"
   ]
  },
  {
   "cell_type": "code",
   "execution_count": null,
   "metadata": {},
   "outputs": [],
   "source": [
    "import pandas as pd"
   ]
  },
  {
   "cell_type": "code",
   "execution_count": null,
   "metadata": {},
   "outputs": [],
   "source": [
    "dataset = pd.read_csv('student_scores.csv')"
   ]
  },
  {
   "cell_type": "code",
   "execution_count": null,
   "metadata": {},
   "outputs": [],
   "source": [
    "dataset.head()"
   ]
  },
  {
   "cell_type": "code",
   "execution_count": null,
   "metadata": {},
   "outputs": [],
   "source": [
    "dataset.describe()"
   ]
  },
  {
   "cell_type": "code",
   "execution_count": null,
   "metadata": {},
   "outputs": [],
   "source": [
    "X = dataset.iloc[:, :-1].values\n",
    "y = dataset.iloc[:, 1].values\n",
    "\n"
   ]
  },
  {
   "cell_type": "code",
   "execution_count": null,
   "metadata": {},
   "outputs": [],
   "source": [
    "from sklearn.model_selection import train_test_split\n",
    "X_train, X_test, y_train, y_test = train_test_split(X, y, test_size=0.25)"
   ]
  },
  {
   "cell_type": "code",
   "execution_count": null,
   "metadata": {},
   "outputs": [],
   "source": [
    "plt.scatter(X_train, y_train)"
   ]
  },
  {
   "cell_type": "code",
   "execution_count": null,
   "metadata": {},
   "outputs": [],
   "source": []
  },
  {
   "cell_type": "code",
   "execution_count": null,
   "metadata": {},
   "outputs": [],
   "source": []
  },
  {
   "cell_type": "code",
   "execution_count": null,
   "metadata": {},
   "outputs": [],
   "source": []
  },
  {
   "cell_type": "code",
   "execution_count": null,
   "metadata": {
    "scrolled": true
   },
   "outputs": [],
   "source": []
  },
  {
   "cell_type": "code",
   "execution_count": null,
   "metadata": {},
   "outputs": [],
   "source": []
  },
  {
   "cell_type": "code",
   "execution_count": null,
   "metadata": {},
   "outputs": [],
   "source": []
  }
 ],
 "metadata": {
  "kernelspec": {
   "display_name": "Python 3",
   "language": "python",
   "name": "python3"
  },
  "language_info": {
   "codemirror_mode": {
    "name": "ipython",
    "version": 3
   },
   "file_extension": ".py",
   "mimetype": "text/x-python",
   "name": "python",
   "nbconvert_exporter": "python",
   "pygments_lexer": "ipython3",
   "version": "3.7.4"
  }
 },
 "nbformat": 4,
 "nbformat_minor": 4
}
