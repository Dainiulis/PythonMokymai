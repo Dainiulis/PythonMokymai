{
 "cells": [
  {
   "cell_type": "markdown",
   "metadata": {},
   "source": [
    "## Sukurkite klasifikatorių, FashionMNIST duomenų rinkiniui\n",
    "\n",
    "- Įsikelkite duomenis, susipažinkite su jais\n",
    "- Pamėginkite sukurti neuroninį tinklą paveikslėliui priskiriantį vieną iš 10 galimų klasių"
   ]
  },
  {
   "cell_type": "code",
   "execution_count": 21,
   "metadata": {},
   "outputs": [],
   "source": [
    "#Įsikeliame reikalingas bibliotekas\n",
    "\n",
    "\n",
    "import matplotlib.pyplot as plt\n",
    "import numpy as np\n",
    "from sklearn import datasets\n",
    "from sklearn.model_selection import train_test_split\n",
    "\n",
    "import keras\n",
    "\n",
    "from pylab import rcParams\n",
    "rcParams['figure.figsize'] = 10, 10"
   ]
  },
  {
   "cell_type": "code",
   "execution_count": 22,
   "metadata": {},
   "outputs": [],
   "source": [
    "#Įsikeliame duomenis\n",
    "\n",
    "(X_train, y_train), (X_test, y_test) =  keras.datasets.fashion_mnist.load_data()"
   ]
  },
  {
   "cell_type": "code",
   "execution_count": 23,
   "metadata": {},
   "outputs": [],
   "source": [
    "X_train = X_train / X_train.max()\n",
    "X_test = X_test / X_test.max()"
   ]
  },
  {
   "cell_type": "code",
   "execution_count": 24,
   "metadata": {},
   "outputs": [
    {
     "name": "stdout",
     "output_type": "stream",
     "text": [
      "(60000, 28, 28)\n",
      "(10000, 28, 28)\n"
     ]
    }
   ],
   "source": [
    "print(X_train.shape)\n",
    "print(X_test.shape)"
   ]
  },
  {
   "cell_type": "code",
   "execution_count": 25,
   "metadata": {},
   "outputs": [],
   "source": [
    "X_train, X_valid, y_train, y_valid = train_test_split(X_train, y_train, test_size=0.1, shuffle= True)"
   ]
  },
  {
   "cell_type": "code",
   "execution_count": 95,
   "metadata": {},
   "outputs": [],
   "source": [
    "y_train_one_hot = keras.utils.to_categorical(y_train, 10)\n",
    "y_valid_one_hot = keras.utils.to_categorical(y_valid, 10)\n",
    "y_test_one_hot = keras.utils.to_categorical(y_test, 10)"
   ]
  },
  {
   "cell_type": "code",
   "execution_count": 92,
   "metadata": {},
   "outputs": [
    {
     "name": "stdout",
     "output_type": "stream",
     "text": [
      "Model: \"sequential_23\"\n",
      "_________________________________________________________________\n",
      "Layer (type)                 Output Shape              Param #   \n",
      "=================================================================\n",
      "flatten_23 (Flatten)         (None, 784)               0         \n",
      "_________________________________________________________________\n",
      "dense_81 (Dense)             (None, 300)               235500    \n",
      "_________________________________________________________________\n",
      "dense_82 (Dense)             (None, 200)               60200     \n",
      "_________________________________________________________________\n",
      "dense_83 (Dense)             (None, 10)                2010      \n",
      "=================================================================\n",
      "Total params: 297,710\n",
      "Trainable params: 297,710\n",
      "Non-trainable params: 0\n",
      "_________________________________________________________________\n"
     ]
    }
   ],
   "source": [
    "model = keras.models.Sequential()\n",
    "model.add(keras.layers.Flatten(input_shape=(28, 28)))\n",
    "model.add(keras.layers.Dense(300, activation='relu'))\n",
    "model.add(keras.layers.Dense(200, activation='relu'))\n",
    "# model.add(keras.layers.Dense(100, activation='relu'))\n",
    "# model.add(keras.layers.Dense(80, activation='relu'))\n",
    "model.add(keras.layers.Dense(10, activation='softmax'))\n",
    "model.compile(loss='categorical_crossentropy', optimizer=keras.optimizers.SGD(lr=0.01), metrics=['accuracy'])\n",
    "model.summary()"
   ]
  },
  {
   "cell_type": "code",
   "execution_count": 93,
   "metadata": {},
   "outputs": [
    {
     "name": "stdout",
     "output_type": "stream",
     "text": [
      "Epoch 1/150\n",
      "108/108 [==============================] - 1s 8ms/step - loss: 1.6482 - accuracy: 0.5496 - val_loss: 1.2224 - val_accuracy: 0.6668\n",
      "Epoch 2/150\n",
      "108/108 [==============================] - 1s 7ms/step - loss: 1.0319 - accuracy: 0.6884 - val_loss: 0.9106 - val_accuracy: 0.7228\n",
      "Epoch 3/150\n",
      "108/108 [==============================] - 1s 7ms/step - loss: 0.8380 - accuracy: 0.7324 - val_loss: 0.7869 - val_accuracy: 0.7527\n",
      "Epoch 4/150\n",
      "108/108 [==============================] - 1s 7ms/step - loss: 0.7470 - accuracy: 0.7569 - val_loss: 0.7168 - val_accuracy: 0.7748\n",
      "Epoch 5/150\n",
      "108/108 [==============================] - 1s 7ms/step - loss: 0.6906 - accuracy: 0.7742 - val_loss: 0.6706 - val_accuracy: 0.7895\n",
      "Epoch 6/150\n",
      "108/108 [==============================] - 1s 7ms/step - loss: 0.6509 - accuracy: 0.7874 - val_loss: 0.6388 - val_accuracy: 0.7962\n",
      "Epoch 7/150\n",
      "108/108 [==============================] - 1s 7ms/step - loss: 0.6205 - accuracy: 0.7956 - val_loss: 0.6094 - val_accuracy: 0.8063\n",
      "Epoch 8/150\n",
      "108/108 [==============================] - 1s 7ms/step - loss: 0.5968 - accuracy: 0.8036 - val_loss: 0.5890 - val_accuracy: 0.8078\n",
      "Epoch 9/150\n",
      "108/108 [==============================] - 1s 7ms/step - loss: 0.5774 - accuracy: 0.8086 - val_loss: 0.5708 - val_accuracy: 0.8127\n",
      "Epoch 10/150\n",
      "108/108 [==============================] - 1s 7ms/step - loss: 0.5614 - accuracy: 0.8128 - val_loss: 0.5558 - val_accuracy: 0.8160\n",
      "Epoch 11/150\n",
      "108/108 [==============================] - 1s 7ms/step - loss: 0.5469 - accuracy: 0.8173 - val_loss: 0.5444 - val_accuracy: 0.8185\n",
      "Epoch 12/150\n",
      "108/108 [==============================] - 1s 7ms/step - loss: 0.5351 - accuracy: 0.8212 - val_loss: 0.5343 - val_accuracy: 0.8228\n",
      "Epoch 13/150\n",
      "108/108 [==============================] - 1s 7ms/step - loss: 0.5249 - accuracy: 0.8249 - val_loss: 0.5219 - val_accuracy: 0.8243\n",
      "Epoch 14/150\n",
      "108/108 [==============================] - 1s 7ms/step - loss: 0.5156 - accuracy: 0.8267 - val_loss: 0.5139 - val_accuracy: 0.8278\n",
      "Epoch 15/150\n",
      "108/108 [==============================] - 1s 8ms/step - loss: 0.5069 - accuracy: 0.8292 - val_loss: 0.5067 - val_accuracy: 0.8260\n",
      "Epoch 16/150\n",
      "108/108 [==============================] - 1s 7ms/step - loss: 0.4998 - accuracy: 0.8317 - val_loss: 0.4990 - val_accuracy: 0.8293\n",
      "Epoch 17/150\n",
      "108/108 [==============================] - 1s 7ms/step - loss: 0.4933 - accuracy: 0.8327 - val_loss: 0.4930 - val_accuracy: 0.8315\n",
      "Epoch 18/150\n",
      "108/108 [==============================] - 1s 7ms/step - loss: 0.4871 - accuracy: 0.8345 - val_loss: 0.4879 - val_accuracy: 0.8328\n",
      "Epoch 19/150\n",
      "108/108 [==============================] - 1s 7ms/step - loss: 0.4818 - accuracy: 0.8363 - val_loss: 0.4822 - val_accuracy: 0.8352\n",
      "Epoch 20/150\n",
      "108/108 [==============================] - 1s 7ms/step - loss: 0.4765 - accuracy: 0.8371 - val_loss: 0.4782 - val_accuracy: 0.8373\n",
      "Epoch 21/150\n",
      "108/108 [==============================] - 1s 7ms/step - loss: 0.4714 - accuracy: 0.8391 - val_loss: 0.4770 - val_accuracy: 0.8368\n",
      "Epoch 22/150\n",
      "108/108 [==============================] - 1s 7ms/step - loss: 0.4673 - accuracy: 0.8390 - val_loss: 0.4694 - val_accuracy: 0.8387\n",
      "Epoch 23/150\n",
      "108/108 [==============================] - 1s 8ms/step - loss: 0.4624 - accuracy: 0.8419 - val_loss: 0.4692 - val_accuracy: 0.8412\n",
      "Epoch 24/150\n",
      "108/108 [==============================] - 1s 9ms/step - loss: 0.4594 - accuracy: 0.8431 - val_loss: 0.4675 - val_accuracy: 0.8408\n",
      "Epoch 25/150\n",
      "108/108 [==============================] - 1s 9ms/step - loss: 0.4553 - accuracy: 0.8439 - val_loss: 0.4568 - val_accuracy: 0.8428\n",
      "Epoch 26/150\n",
      "108/108 [==============================] - 1s 9ms/step - loss: 0.4520 - accuracy: 0.8448 - val_loss: 0.4550 - val_accuracy: 0.8437\n",
      "Epoch 27/150\n",
      "108/108 [==============================] - 1s 9ms/step - loss: 0.4486 - accuracy: 0.8468 - val_loss: 0.4584 - val_accuracy: 0.8425\n",
      "Epoch 28/150\n",
      "108/108 [==============================] - 1s 9ms/step - loss: 0.4455 - accuracy: 0.8463 - val_loss: 0.4503 - val_accuracy: 0.8435\n",
      "Epoch 29/150\n",
      "108/108 [==============================] - 1s 9ms/step - loss: 0.4424 - accuracy: 0.8486 - val_loss: 0.4463 - val_accuracy: 0.8457\n",
      "Epoch 30/150\n",
      "108/108 [==============================] - 1s 8ms/step - loss: 0.4398 - accuracy: 0.8486 - val_loss: 0.4486 - val_accuracy: 0.8468\n",
      "Epoch 31/150\n",
      "108/108 [==============================] - ETA: 0s - loss: 0.4353 - accuracy: 0.85 - 1s 8ms/step - loss: 0.4367 - accuracy: 0.8497 - val_loss: 0.4415 - val_accuracy: 0.8487\n",
      "Epoch 32/150\n",
      "108/108 [==============================] - 1s 9ms/step - loss: 0.4344 - accuracy: 0.8507 - val_loss: 0.4387 - val_accuracy: 0.8493\n",
      "Epoch 33/150\n",
      "108/108 [==============================] - 1s 9ms/step - loss: 0.4325 - accuracy: 0.8506 - val_loss: 0.4421 - val_accuracy: 0.8493\n",
      "Epoch 34/150\n",
      "108/108 [==============================] - 1s 9ms/step - loss: 0.4295 - accuracy: 0.8520 - val_loss: 0.4375 - val_accuracy: 0.8467\n",
      "Epoch 35/150\n",
      "108/108 [==============================] - 1s 8ms/step - loss: 0.4268 - accuracy: 0.8530 - val_loss: 0.4323 - val_accuracy: 0.8515\n",
      "Epoch 36/150\n",
      "108/108 [==============================] - 1s 9ms/step - loss: 0.4251 - accuracy: 0.8532 - val_loss: 0.4296 - val_accuracy: 0.8523\n",
      "Epoch 37/150\n",
      "108/108 [==============================] - 1s 9ms/step - loss: 0.4224 - accuracy: 0.8545 - val_loss: 0.4276 - val_accuracy: 0.8520\n",
      "Epoch 38/150\n",
      "108/108 [==============================] - 1s 9ms/step - loss: 0.4204 - accuracy: 0.8547 - val_loss: 0.4337 - val_accuracy: 0.8508\n",
      "Epoch 39/150\n",
      "108/108 [==============================] - 1s 9ms/step - loss: 0.4187 - accuracy: 0.8552 - val_loss: 0.4227 - val_accuracy: 0.8520\n",
      "Epoch 40/150\n",
      "108/108 [==============================] - 1s 9ms/step - loss: 0.4170 - accuracy: 0.8564 - val_loss: 0.4234 - val_accuracy: 0.8537\n",
      "Epoch 41/150\n",
      "108/108 [==============================] - 1s 9ms/step - loss: 0.4144 - accuracy: 0.8566 - val_loss: 0.4207 - val_accuracy: 0.8520\n",
      "Epoch 42/150\n",
      "108/108 [==============================] - 1s 9ms/step - loss: 0.4126 - accuracy: 0.8573 - val_loss: 0.4253 - val_accuracy: 0.8552\n",
      "Epoch 43/150\n",
      "108/108 [==============================] - 1s 9ms/step - loss: 0.4116 - accuracy: 0.8575 - val_loss: 0.4231 - val_accuracy: 0.8512\n",
      "Epoch 44/150\n",
      "108/108 [==============================] - 1s 9ms/step - loss: 0.4095 - accuracy: 0.8584 - val_loss: 0.4170 - val_accuracy: 0.8545\n",
      "Epoch 45/150\n",
      "108/108 [==============================] - 1s 9ms/step - loss: 0.4075 - accuracy: 0.8594 - val_loss: 0.4137 - val_accuracy: 0.8562\n",
      "Epoch 46/150\n",
      "108/108 [==============================] - 1s 9ms/step - loss: 0.4058 - accuracy: 0.8594 - val_loss: 0.4134 - val_accuracy: 0.8577\n",
      "Epoch 47/150\n",
      "108/108 [==============================] - 1s 9ms/step - loss: 0.4050 - accuracy: 0.8601 - val_loss: 0.4107 - val_accuracy: 0.8567\n",
      "Epoch 48/150\n",
      "108/108 [==============================] - 1s 9ms/step - loss: 0.4028 - accuracy: 0.8601 - val_loss: 0.4126 - val_accuracy: 0.8560\n",
      "Epoch 49/150\n",
      "108/108 [==============================] - 1s 9ms/step - loss: 0.4015 - accuracy: 0.8606 - val_loss: 0.4139 - val_accuracy: 0.8545\n",
      "Epoch 50/150\n",
      "108/108 [==============================] - 1s 9ms/step - loss: 0.3998 - accuracy: 0.8610 - val_loss: 0.4107 - val_accuracy: 0.8557\n",
      "Epoch 51/150\n",
      "108/108 [==============================] - 1s 9ms/step - loss: 0.3982 - accuracy: 0.8623 - val_loss: 0.4084 - val_accuracy: 0.8607\n",
      "Epoch 52/150\n",
      "108/108 [==============================] - 1s 9ms/step - loss: 0.3970 - accuracy: 0.8625 - val_loss: 0.4114 - val_accuracy: 0.8557\n",
      "Epoch 53/150\n",
      "108/108 [==============================] - 1s 9ms/step - loss: 0.3950 - accuracy: 0.8628 - val_loss: 0.4028 - val_accuracy: 0.8603\n",
      "Epoch 54/150\n",
      "108/108 [==============================] - 1s 9ms/step - loss: 0.3932 - accuracy: 0.8645 - val_loss: 0.4017 - val_accuracy: 0.8627\n",
      "Epoch 55/150\n",
      "108/108 [==============================] - 1s 9ms/step - loss: 0.3931 - accuracy: 0.8642 - val_loss: 0.4005 - val_accuracy: 0.8628\n",
      "Epoch 56/150\n",
      "108/108 [==============================] - 1s 9ms/step - loss: 0.3908 - accuracy: 0.8649 - val_loss: 0.3991 - val_accuracy: 0.8617\n",
      "Epoch 57/150\n"
     ]
    },
    {
     "name": "stdout",
     "output_type": "stream",
     "text": [
      "108/108 [==============================] - 1s 8ms/step - loss: 0.3896 - accuracy: 0.8649 - val_loss: 0.3996 - val_accuracy: 0.8613\n",
      "Epoch 58/150\n",
      "108/108 [==============================] - 1s 8ms/step - loss: 0.3884 - accuracy: 0.8657 - val_loss: 0.3984 - val_accuracy: 0.8638\n",
      "Epoch 59/150\n",
      "108/108 [==============================] - 1s 8ms/step - loss: 0.3872 - accuracy: 0.8668 - val_loss: 0.3954 - val_accuracy: 0.8620\n",
      "Epoch 60/150\n",
      "108/108 [==============================] - 1s 8ms/step - loss: 0.3856 - accuracy: 0.8670 - val_loss: 0.4026 - val_accuracy: 0.8605\n",
      "Epoch 61/150\n",
      "108/108 [==============================] - 1s 8ms/step - loss: 0.3849 - accuracy: 0.8676 - val_loss: 0.3957 - val_accuracy: 0.8638\n",
      "Epoch 62/150\n",
      "108/108 [==============================] - 1s 9ms/step - loss: 0.3845 - accuracy: 0.8663 - val_loss: 0.3981 - val_accuracy: 0.8657\n",
      "Epoch 63/150\n",
      "108/108 [==============================] - 1s 9ms/step - loss: 0.3819 - accuracy: 0.8679 - val_loss: 0.3935 - val_accuracy: 0.8620\n",
      "Epoch 64/150\n",
      "108/108 [==============================] - 1s 9ms/step - loss: 0.3805 - accuracy: 0.8683 - val_loss: 0.3969 - val_accuracy: 0.8603\n",
      "Epoch 65/150\n",
      "108/108 [==============================] - 1s 8ms/step - loss: 0.3796 - accuracy: 0.8678 - val_loss: 0.3930 - val_accuracy: 0.8668\n",
      "Epoch 66/150\n",
      "108/108 [==============================] - 1s 8ms/step - loss: 0.3787 - accuracy: 0.8688 - val_loss: 0.3954 - val_accuracy: 0.8628\n",
      "Epoch 67/150\n",
      "108/108 [==============================] - 1s 8ms/step - loss: 0.3772 - accuracy: 0.8689 - val_loss: 0.3945 - val_accuracy: 0.8657\n",
      "Epoch 68/150\n",
      "108/108 [==============================] - 1s 9ms/step - loss: 0.3759 - accuracy: 0.8698 - val_loss: 0.3925 - val_accuracy: 0.8652\n",
      "Epoch 69/150\n",
      "108/108 [==============================] - 1s 8ms/step - loss: 0.3748 - accuracy: 0.8701 - val_loss: 0.3871 - val_accuracy: 0.8667\n",
      "Epoch 70/150\n",
      "108/108 [==============================] - 1s 8ms/step - loss: 0.3739 - accuracy: 0.8704 - val_loss: 0.3849 - val_accuracy: 0.8667\n",
      "Epoch 71/150\n",
      "108/108 [==============================] - 1s 8ms/step - loss: 0.3728 - accuracy: 0.8706 - val_loss: 0.3897 - val_accuracy: 0.8697\n",
      "Epoch 72/150\n",
      "108/108 [==============================] - 1s 8ms/step - loss: 0.3720 - accuracy: 0.8713 - val_loss: 0.3857 - val_accuracy: 0.8683\n",
      "Epoch 73/150\n",
      "108/108 [==============================] - 1s 8ms/step - loss: 0.3709 - accuracy: 0.8718 - val_loss: 0.3846 - val_accuracy: 0.8675\n",
      "Epoch 74/150\n",
      "108/108 [==============================] - 1s 8ms/step - loss: 0.3691 - accuracy: 0.8720 - val_loss: 0.3821 - val_accuracy: 0.8673\n",
      "Epoch 75/150\n",
      "108/108 [==============================] - 1s 8ms/step - loss: 0.3687 - accuracy: 0.8718 - val_loss: 0.3845 - val_accuracy: 0.8665\n",
      "Epoch 76/150\n",
      "108/108 [==============================] - 1s 8ms/step - loss: 0.3674 - accuracy: 0.8719 - val_loss: 0.3803 - val_accuracy: 0.8693\n",
      "Epoch 77/150\n",
      "108/108 [==============================] - 1s 8ms/step - loss: 0.3668 - accuracy: 0.8726 - val_loss: 0.3803 - val_accuracy: 0.8685\n",
      "Epoch 78/150\n",
      "108/108 [==============================] - 1s 8ms/step - loss: 0.3650 - accuracy: 0.8736 - val_loss: 0.3824 - val_accuracy: 0.8657\n",
      "Epoch 79/150\n",
      "108/108 [==============================] - 1s 8ms/step - loss: 0.3650 - accuracy: 0.8726 - val_loss: 0.3779 - val_accuracy: 0.8678\n",
      "Epoch 80/150\n",
      "108/108 [==============================] - 1s 8ms/step - loss: 0.3642 - accuracy: 0.8734 - val_loss: 0.3831 - val_accuracy: 0.8670\n",
      "Epoch 81/150\n",
      "108/108 [==============================] - 1s 8ms/step - loss: 0.3626 - accuracy: 0.8737 - val_loss: 0.3777 - val_accuracy: 0.8698\n",
      "Epoch 82/150\n",
      "108/108 [==============================] - 1s 9ms/step - loss: 0.3615 - accuracy: 0.8740 - val_loss: 0.3805 - val_accuracy: 0.8692\n",
      "Epoch 83/150\n",
      "108/108 [==============================] - 1s 8ms/step - loss: 0.3603 - accuracy: 0.8749 - val_loss: 0.3805 - val_accuracy: 0.8642\n",
      "Epoch 84/150\n",
      "108/108 [==============================] - 1s 8ms/step - loss: 0.3599 - accuracy: 0.8756 - val_loss: 0.3821 - val_accuracy: 0.8663\n",
      "Epoch 85/150\n",
      "108/108 [==============================] - 1s 8ms/step - loss: 0.3583 - accuracy: 0.8756 - val_loss: 0.3747 - val_accuracy: 0.8685\n",
      "Epoch 86/150\n",
      "108/108 [==============================] - 1s 9ms/step - loss: 0.3578 - accuracy: 0.8759 - val_loss: 0.3740 - val_accuracy: 0.8717\n",
      "Epoch 87/150\n",
      "108/108 [==============================] - 1s 9ms/step - loss: 0.3569 - accuracy: 0.8765 - val_loss: 0.3720 - val_accuracy: 0.8693\n",
      "Epoch 88/150\n",
      "108/108 [==============================] - 1s 8ms/step - loss: 0.3564 - accuracy: 0.8758 - val_loss: 0.3725 - val_accuracy: 0.8715\n",
      "Epoch 89/150\n",
      "108/108 [==============================] - 1s 9ms/step - loss: 0.3550 - accuracy: 0.8768 - val_loss: 0.3741 - val_accuracy: 0.8723\n",
      "Epoch 90/150\n",
      "108/108 [==============================] - 1s 8ms/step - loss: 0.3539 - accuracy: 0.8767 - val_loss: 0.3724 - val_accuracy: 0.8718\n",
      "Epoch 91/150\n",
      "108/108 [==============================] - 1s 8ms/step - loss: 0.3530 - accuracy: 0.8780 - val_loss: 0.3711 - val_accuracy: 0.8732\n",
      "Epoch 92/150\n",
      "108/108 [==============================] - 1s 8ms/step - loss: 0.3527 - accuracy: 0.8766 - val_loss: 0.3694 - val_accuracy: 0.8732\n",
      "Epoch 93/150\n",
      "108/108 [==============================] - 1s 8ms/step - loss: 0.3515 - accuracy: 0.8769 - val_loss: 0.3688 - val_accuracy: 0.8718\n",
      "Epoch 94/150\n",
      "108/108 [==============================] - 1s 8ms/step - loss: 0.3511 - accuracy: 0.8779 - val_loss: 0.3738 - val_accuracy: 0.8735\n",
      "Epoch 95/150\n",
      "108/108 [==============================] - 1s 8ms/step - loss: 0.3500 - accuracy: 0.8781 - val_loss: 0.3685 - val_accuracy: 0.8727\n",
      "Epoch 96/150\n",
      "108/108 [==============================] - 1s 8ms/step - loss: 0.3502 - accuracy: 0.8780 - val_loss: 0.3731 - val_accuracy: 0.8677\n",
      "Epoch 97/150\n",
      "108/108 [==============================] - 1s 8ms/step - loss: 0.3488 - accuracy: 0.8782 - val_loss: 0.3676 - val_accuracy: 0.8745\n",
      "Epoch 98/150\n",
      "108/108 [==============================] - 1s 9ms/step - loss: 0.3472 - accuracy: 0.8798 - val_loss: 0.3656 - val_accuracy: 0.8722\n",
      "Epoch 99/150\n",
      "108/108 [==============================] - 1s 8ms/step - loss: 0.3469 - accuracy: 0.8792 - val_loss: 0.3686 - val_accuracy: 0.8700\n",
      "Epoch 100/150\n",
      "108/108 [==============================] - 1s 8ms/step - loss: 0.3461 - accuracy: 0.8798 - val_loss: 0.3709 - val_accuracy: 0.8742\n",
      "Epoch 101/150\n",
      "108/108 [==============================] - 1s 9ms/step - loss: 0.3443 - accuracy: 0.8806 - val_loss: 0.3669 - val_accuracy: 0.8700\n",
      "Epoch 102/150\n",
      "108/108 [==============================] - 1s 9ms/step - loss: 0.3440 - accuracy: 0.8804 - val_loss: 0.3672 - val_accuracy: 0.8737\n",
      "Epoch 103/150\n",
      "108/108 [==============================] - 1s 9ms/step - loss: 0.3434 - accuracy: 0.8804 - val_loss: 0.3632 - val_accuracy: 0.8748\n",
      "Epoch 104/150\n",
      "108/108 [==============================] - 1s 8ms/step - loss: 0.3424 - accuracy: 0.8802 - val_loss: 0.3620 - val_accuracy: 0.8752\n",
      "Epoch 105/150\n",
      "108/108 [==============================] - 1s 9ms/step - loss: 0.3417 - accuracy: 0.8802 - val_loss: 0.3619 - val_accuracy: 0.8760\n",
      "Epoch 106/150\n",
      "108/108 [==============================] - 1s 9ms/step - loss: 0.3421 - accuracy: 0.8800 - val_loss: 0.3632 - val_accuracy: 0.8757\n",
      "Epoch 107/150\n",
      "108/108 [==============================] - 1s 9ms/step - loss: 0.3409 - accuracy: 0.8809 - val_loss: 0.3614 - val_accuracy: 0.8725\n",
      "Epoch 108/150\n",
      "108/108 [==============================] - 1s 8ms/step - loss: 0.3397 - accuracy: 0.8815 - val_loss: 0.3613 - val_accuracy: 0.8748\n",
      "Epoch 109/150\n",
      "108/108 [==============================] - 1s 9ms/step - loss: 0.3393 - accuracy: 0.8812 - val_loss: 0.3588 - val_accuracy: 0.8745\n",
      "Epoch 110/150\n",
      "108/108 [==============================] - 1s 9ms/step - loss: 0.3380 - accuracy: 0.8824 - val_loss: 0.3680 - val_accuracy: 0.8752\n",
      "Epoch 111/150\n",
      "108/108 [==============================] - 1s 9ms/step - loss: 0.3377 - accuracy: 0.8818 - val_loss: 0.3682 - val_accuracy: 0.8750\n",
      "Epoch 112/150\n",
      "108/108 [==============================] - 1s 8ms/step - loss: 0.3361 - accuracy: 0.8832 - val_loss: 0.3622 - val_accuracy: 0.8745\n",
      "Epoch 113/150\n",
      "108/108 [==============================] - 1s 9ms/step - loss: 0.3351 - accuracy: 0.8824 - val_loss: 0.3636 - val_accuracy: 0.8720\n"
     ]
    },
    {
     "name": "stdout",
     "output_type": "stream",
     "text": [
      "Epoch 114/150\n",
      "108/108 [==============================] - 1s 9ms/step - loss: 0.3351 - accuracy: 0.8839 - val_loss: 0.3565 - val_accuracy: 0.8747\n",
      "Epoch 115/150\n",
      "108/108 [==============================] - 1s 9ms/step - loss: 0.3337 - accuracy: 0.8842 - val_loss: 0.3605 - val_accuracy: 0.8735\n",
      "Epoch 116/150\n",
      "108/108 [==============================] - 1s 8ms/step - loss: 0.3342 - accuracy: 0.8832 - val_loss: 0.3558 - val_accuracy: 0.8765\n",
      "Epoch 117/150\n",
      "108/108 [==============================] - 1s 8ms/step - loss: 0.3320 - accuracy: 0.8837 - val_loss: 0.3605 - val_accuracy: 0.8740\n",
      "Epoch 118/150\n",
      "108/108 [==============================] - 1s 8ms/step - loss: 0.3322 - accuracy: 0.8843 - val_loss: 0.3563 - val_accuracy: 0.8742\n",
      "Epoch 119/150\n",
      "108/108 [==============================] - 1s 8ms/step - loss: 0.3312 - accuracy: 0.8836 - val_loss: 0.3592 - val_accuracy: 0.8740\n",
      "Epoch 120/150\n",
      "108/108 [==============================] - 1s 9ms/step - loss: 0.3303 - accuracy: 0.8850 - val_loss: 0.3632 - val_accuracy: 0.8705\n",
      "Epoch 121/150\n",
      "108/108 [==============================] - 1s 8ms/step - loss: 0.3298 - accuracy: 0.8850 - val_loss: 0.3580 - val_accuracy: 0.8775\n",
      "Epoch 122/150\n",
      "108/108 [==============================] - 1s 9ms/step - loss: 0.3293 - accuracy: 0.8844 - val_loss: 0.3541 - val_accuracy: 0.8778\n",
      "Epoch 123/150\n",
      "108/108 [==============================] - 1s 8ms/step - loss: 0.3282 - accuracy: 0.8854 - val_loss: 0.3542 - val_accuracy: 0.8773\n",
      "Epoch 124/150\n",
      "108/108 [==============================] - 1s 9ms/step - loss: 0.3285 - accuracy: 0.8852 - val_loss: 0.3544 - val_accuracy: 0.8745\n",
      "Epoch 125/150\n",
      "108/108 [==============================] - 1s 8ms/step - loss: 0.3261 - accuracy: 0.8862 - val_loss: 0.3556 - val_accuracy: 0.8735\n",
      "Epoch 126/150\n",
      "108/108 [==============================] - 1s 9ms/step - loss: 0.3264 - accuracy: 0.8857 - val_loss: 0.3533 - val_accuracy: 0.8770\n",
      "Epoch 127/150\n",
      "108/108 [==============================] - 1s 9ms/step - loss: 0.3254 - accuracy: 0.8865 - val_loss: 0.3511 - val_accuracy: 0.8777\n",
      "Epoch 128/150\n",
      "108/108 [==============================] - 1s 9ms/step - loss: 0.3255 - accuracy: 0.8862 - val_loss: 0.3570 - val_accuracy: 0.8738\n",
      "Epoch 129/150\n",
      "108/108 [==============================] - 1s 9ms/step - loss: 0.3250 - accuracy: 0.8858 - val_loss: 0.3525 - val_accuracy: 0.8780\n",
      "Epoch 130/150\n",
      "108/108 [==============================] - 1s 9ms/step - loss: 0.3234 - accuracy: 0.8869 - val_loss: 0.3527 - val_accuracy: 0.8763\n",
      "Epoch 131/150\n",
      "108/108 [==============================] - 1s 9ms/step - loss: 0.3232 - accuracy: 0.8867 - val_loss: 0.3508 - val_accuracy: 0.8778\n",
      "Epoch 132/150\n",
      "108/108 [==============================] - 1s 9ms/step - loss: 0.3233 - accuracy: 0.8865 - val_loss: 0.3482 - val_accuracy: 0.8780\n",
      "Epoch 133/150\n",
      "108/108 [==============================] - 1s 9ms/step - loss: 0.3223 - accuracy: 0.8875 - val_loss: 0.3492 - val_accuracy: 0.8775\n",
      "Epoch 134/150\n",
      "108/108 [==============================] - 1s 9ms/step - loss: 0.3208 - accuracy: 0.8879 - val_loss: 0.3485 - val_accuracy: 0.8785\n",
      "Epoch 135/150\n",
      "108/108 [==============================] - 1s 9ms/step - loss: 0.3211 - accuracy: 0.8874 - val_loss: 0.3490 - val_accuracy: 0.8797\n",
      "Epoch 136/150\n",
      "108/108 [==============================] - 1s 9ms/step - loss: 0.3197 - accuracy: 0.8879 - val_loss: 0.3496 - val_accuracy: 0.8755\n",
      "Epoch 137/150\n",
      "108/108 [==============================] - 1s 9ms/step - loss: 0.3203 - accuracy: 0.8875 - val_loss: 0.3529 - val_accuracy: 0.8797\n",
      "Epoch 138/150\n",
      "108/108 [==============================] - 1s 9ms/step - loss: 0.3185 - accuracy: 0.8888 - val_loss: 0.3573 - val_accuracy: 0.8773\n",
      "Epoch 139/150\n",
      "108/108 [==============================] - 1s 9ms/step - loss: 0.3182 - accuracy: 0.8883 - val_loss: 0.3480 - val_accuracy: 0.8777\n",
      "Epoch 140/150\n",
      "108/108 [==============================] - 1s 9ms/step - loss: 0.3172 - accuracy: 0.8891 - val_loss: 0.3486 - val_accuracy: 0.8795\n",
      "Epoch 141/150\n",
      "108/108 [==============================] - 1s 9ms/step - loss: 0.3164 - accuracy: 0.8899 - val_loss: 0.3465 - val_accuracy: 0.8795\n",
      "Epoch 142/150\n",
      "108/108 [==============================] - 1s 9ms/step - loss: 0.3162 - accuracy: 0.8899 - val_loss: 0.3446 - val_accuracy: 0.8780\n",
      "Epoch 143/150\n",
      "108/108 [==============================] - 1s 9ms/step - loss: 0.3168 - accuracy: 0.8891 - val_loss: 0.3493 - val_accuracy: 0.8767\n",
      "Epoch 144/150\n",
      "108/108 [==============================] - 1s 9ms/step - loss: 0.3142 - accuracy: 0.8897 - val_loss: 0.3467 - val_accuracy: 0.8790\n",
      "Epoch 145/150\n",
      "108/108 [==============================] - 1s 9ms/step - loss: 0.3141 - accuracy: 0.8894 - val_loss: 0.3554 - val_accuracy: 0.8773\n",
      "Epoch 146/150\n",
      "108/108 [==============================] - 1s 9ms/step - loss: 0.3137 - accuracy: 0.8900 - val_loss: 0.3468 - val_accuracy: 0.8797\n",
      "Epoch 147/150\n",
      "108/108 [==============================] - 1s 9ms/step - loss: 0.3135 - accuracy: 0.8908 - val_loss: 0.3443 - val_accuracy: 0.8777\n",
      "Epoch 148/150\n",
      "108/108 [==============================] - 1s 9ms/step - loss: 0.3127 - accuracy: 0.8908 - val_loss: 0.3445 - val_accuracy: 0.8782\n",
      "Epoch 149/150\n",
      "108/108 [==============================] - 1s 9ms/step - loss: 0.3128 - accuracy: 0.8899 - val_loss: 0.3431 - val_accuracy: 0.8785\n",
      "Epoch 150/150\n",
      "108/108 [==============================] - 1s 9ms/step - loss: 0.3109 - accuracy: 0.8909 - val_loss: 0.3429 - val_accuracy: 0.8793\n"
     ]
    }
   ],
   "source": [
    "batch_size = 500\n",
    "h = model.fit(X_train, y_train_one_hot, validation_data=(X_valid, y_valid_one_hot), epochs = 150, batch_size = batch_size)"
   ]
  },
  {
   "cell_type": "code",
   "execution_count": 94,
   "metadata": {},
   "outputs": [
    {
     "data": {
      "text/plain": [
       "[<matplotlib.lines.Line2D at 0x147854947f0>]"
      ]
     },
     "execution_count": 94,
     "metadata": {},
     "output_type": "execute_result"
    },
    {
     "data": {
      "image/png": "[encoded data removed]",
      "text/plain": [
       "<Figure size 720x720 with 2 Axes>"
      ]
     },
     "metadata": {
      "needs_background": "light"
     },
     "output_type": "display_data"
    }
   ],
   "source": [
    "# atvaizduojame grafiskai\n",
    "plt.subplot(1, 2, 1)\n",
    "plt.title('LOSS')\n",
    "plt.plot(h.history['loss'], color='red')\n",
    "plt.plot(h.history['val_loss'], color='green')\n",
    "plt.subplot(1, 2, 2)\n",
    "plt.title('Accuracy')\n",
    "plt.plot(h.history['accuracy'], color='red')\n",
    "plt.plot(h.history['val_accuracy'], color='green')"
   ]
  },
  {
   "cell_type": "code",
   "execution_count": 106,
   "metadata": {},
   "outputs": [
    {
     "name": "stdout",
     "output_type": "stream",
     "text": [
      "313/313 [==============================] - 0s 1ms/step - loss: 0.3713 - accuracy: 0.8677\n"
     ]
    }
   ],
   "source": [
    "evaluated = model.evaluate(X_test, y_test_one_hot)"
   ]
  },
  {
   "cell_type": "code",
   "execution_count": 104,
   "metadata": {},
   "outputs": [
    {
     "data": {
      "text/plain": [
       "(10000, 10)"
      ]
     },
     "execution_count": 104,
     "metadata": {},
     "output_type": "execute_result"
    }
   ],
   "source": []
  },
  {
   "cell_type": "code",
   "execution_count": null,
   "metadata": {},
   "outputs": [],
   "source": []
  }
 ],
 "metadata": {
  "kernelspec": {
   "display_name": "Python 3",
   "language": "python",
   "name": "python3"
  },
  "language_info": {
   "codemirror_mode": {
    "name": "ipython",
    "version": 3
   },
   "file_extension": ".py",
   "mimetype": "text/x-python",
   "name": "python",
   "nbconvert_exporter": "python",
   "pygments_lexer": "ipython3",
   "version": "3.8.3"
  }
 },
 "nbformat": 4,
 "nbformat_minor": 4
}
