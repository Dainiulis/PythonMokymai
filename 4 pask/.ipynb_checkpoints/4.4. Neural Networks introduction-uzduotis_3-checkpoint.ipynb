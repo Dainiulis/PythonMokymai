{
 "cells": [
  {
   "cell_type": "markdown",
   "metadata": {},
   "source": [
    "## Sukurkite klasifikatorių, FashionMNIST duomenų rinkiniui\n",
    "\n",
    "- Įsikelkite duomenis, susipažinkite su jais\n",
    "- Pamėginkite sukurti neuroninį tinklą paveikslėliui priskiriantį vieną iš 10 galimų klasių"
   ]
  },
  {
   "cell_type": "code",
   "execution_count": 1,
   "metadata": {},
   "outputs": [],
   "source": [
    "#Įsikeliame reikalingas bibliotekas\n",
    "\n",
    "\n",
    "import matplotlib.pyplot as plt\n",
    "import numpy as np\n",
    "from sklearn import datasets\n",
    "from sklearn.model_selection import train_test_split\n",
    "\n",
    "import keras\n",
    "\n",
    "from pylab import rcParams\n",
    "rcParams['figure.figsize'] = 10, 10"
   ]
  },
  {
   "cell_type": "code",
   "execution_count": 2,
   "metadata": {},
   "outputs": [],
   "source": [
    "#Įsikeliame duomenis\n",
    "\n",
    "(X_train, y_train), (X_test, y_test) =  keras.datasets.fashion_mnist.load_data()"
   ]
  },
  {
   "cell_type": "code",
   "execution_count": 3,
   "metadata": {},
   "outputs": [],
   "source": [
    "X_train = X_train / X_train.max()\n",
    "X_test = X_test / X_test.max()"
   ]
  },
  {
   "cell_type": "code",
   "execution_count": 4,
   "metadata": {},
   "outputs": [
    {
     "name": "stdout",
     "output_type": "stream",
     "text": [
      "(60000, 28, 28)\n",
      "(10000, 28, 28)\n"
     ]
    }
   ],
   "source": [
    "print(X_train.shape)\n",
    "print(X_test.shape)"
   ]
  },
  {
   "cell_type": "code",
   "execution_count": 5,
   "metadata": {},
   "outputs": [],
   "source": [
    "X_train, X_valid, y_train, y_valid = train_test_split(X_train, y_train, test_size=0.1, shuffle= True)"
   ]
  },
  {
   "cell_type": "code",
   "execution_count": 6,
   "metadata": {},
   "outputs": [],
   "source": [
    "y_train_one_hot = keras.utils.to_categorical(y_train, 10)\n",
    "y_valid_one_hot = keras.utils.to_categorical(y_valid, 10)\n",
    "y_test_one_hot = keras.utils.to_categorical(y_test, 10)"
   ]
  },
  {
   "cell_type": "code",
   "execution_count": 52,
   "metadata": {},
   "outputs": [
    {
     "name": "stdout",
     "output_type": "stream",
     "text": [
      "Model: \"sequential_9\"\n",
      "_________________________________________________________________\n",
      "Layer (type)                 Output Shape              Param #   \n",
      "=================================================================\n",
      "flatten_9 (Flatten)          (None, 784)               0         \n",
      "_________________________________________________________________\n",
      "dense_22 (Dense)             (None, 128)               100480    \n",
      "_________________________________________________________________\n",
      "dense_23 (Dense)             (None, 128)               16512     \n",
      "_________________________________________________________________\n",
      "dense_24 (Dense)             (None, 128)               16512     \n",
      "_________________________________________________________________\n",
      "dense_25 (Dense)             (None, 10)                1290      \n",
      "=================================================================\n",
      "Total params: 134,794\n",
      "Trainable params: 134,794\n",
      "Non-trainable params: 0\n",
      "_________________________________________________________________\n"
     ]
    }
   ],
   "source": [
    "model = keras.models.Sequential()\n",
    "model.add(keras.layers.Flatten(input_shape=(28, 28)))\n",
    "model.add(keras.layers.Dense(128, activation='relu'))\n",
    "model.add(keras.layers.Dense(128, activation='relu'))\n",
    "model.add(keras.layers.Dense(128, activation='relu'))\n",
    "model.add(keras.layers.Dense(10, activation='softmax'))\n",
    "model.compile(loss='categorical_crossentropy', optimizer=keras.optimizers.SGD(lr=0.01), metrics=['accuracy'])\n",
    "model.summary()"
   ]
  },
  {
   "cell_type": "code",
   "execution_count": 53,
   "metadata": {},
   "outputs": [
    {
     "name": "stdout",
     "output_type": "stream",
     "text": [
      "Epoch 1/100\n",
      "54/54 [==============================] - 1s 10ms/step - loss: 2.1458 - accuracy: 0.3167 - val_loss: 1.9741 - val_accuracy: 0.4818\n",
      "Epoch 2/100\n",
      "54/54 [==============================] - 1s 14ms/step - loss: 1.7569 - accuracy: 0.5383 - val_loss: 1.5309 - val_accuracy: 0.5798\n",
      "Epoch 3/100\n",
      "54/54 [==============================] - 1s 9ms/step - loss: 1.3299 - accuracy: 0.6309 - val_loss: 1.1688 - val_accuracy: 0.6558\n",
      "Epoch 4/100\n",
      "54/54 [==============================] - 0s 9ms/step - loss: 1.0567 - accuracy: 0.6808 - val_loss: 0.9790 - val_accuracy: 0.6862\n",
      "Epoch 5/100\n",
      "54/54 [==============================] - 0s 9ms/step - loss: 0.9167 - accuracy: 0.7036 - val_loss: 0.8782 - val_accuracy: 0.7113\n",
      "Epoch 6/100\n",
      "54/54 [==============================] - 0s 9ms/step - loss: 0.8376 - accuracy: 0.7216 - val_loss: 0.8172 - val_accuracy: 0.7267\n",
      "Epoch 7/100\n",
      "54/54 [==============================] - 0s 9ms/step - loss: 0.7855 - accuracy: 0.7338 - val_loss: 0.7724 - val_accuracy: 0.7333\n",
      "Epoch 8/100\n",
      "54/54 [==============================] - 0s 9ms/step - loss: 0.7469 - accuracy: 0.7436 - val_loss: 0.7374 - val_accuracy: 0.7463\n",
      "Epoch 9/100\n",
      "54/54 [==============================] - 0s 9ms/step - loss: 0.7161 - accuracy: 0.7538 - val_loss: 0.7100 - val_accuracy: 0.7545\n",
      "Epoch 10/100\n",
      "54/54 [==============================] - 0s 9ms/step - loss: 0.6909 - accuracy: 0.7622 - val_loss: 0.6853 - val_accuracy: 0.7642\n",
      "Epoch 11/100\n",
      "54/54 [==============================] - 1s 10ms/step - loss: 0.6686 - accuracy: 0.7718 - val_loss: 0.6644 - val_accuracy: 0.7718\n",
      "Epoch 12/100\n",
      "54/54 [==============================] - 1s 13ms/step - loss: 0.6498 - accuracy: 0.7784 - val_loss: 0.6468 - val_accuracy: 0.7757\n",
      "Epoch 13/100\n",
      "54/54 [==============================] - 0s 9ms/step - loss: 0.6326 - accuracy: 0.7849 - val_loss: 0.6308 - val_accuracy: 0.7812\n",
      "Epoch 14/100\n",
      "54/54 [==============================] - 1s 11ms/step - loss: 0.6178 - accuracy: 0.7911 - val_loss: 0.6162 - val_accuracy: 0.7838\n",
      "Epoch 15/100\n",
      "54/54 [==============================] - 1s 11ms/step - loss: 0.6040 - accuracy: 0.7963 - val_loss: 0.6016 - val_accuracy: 0.7897\n",
      "Epoch 16/100\n",
      "54/54 [==============================] - 0s 9ms/step - loss: 0.5915 - accuracy: 0.8013 - val_loss: 0.5906 - val_accuracy: 0.7938\n",
      "Epoch 17/100\n",
      "54/54 [==============================] - 0s 9ms/step - loss: 0.5799 - accuracy: 0.8053 - val_loss: 0.5782 - val_accuracy: 0.8002\n",
      "Epoch 18/100\n",
      "54/54 [==============================] - 0s 9ms/step - loss: 0.5707 - accuracy: 0.8086 - val_loss: 0.5673 - val_accuracy: 0.8040\n",
      "Epoch 19/100\n",
      "54/54 [==============================] - 0s 9ms/step - loss: 0.5611 - accuracy: 0.8117 - val_loss: 0.5595 - val_accuracy: 0.8050\n",
      "Epoch 20/100\n",
      "54/54 [==============================] - 1s 9ms/step - loss: 0.5525 - accuracy: 0.8143 - val_loss: 0.5499 - val_accuracy: 0.8092\n",
      "Epoch 21/100\n",
      "54/54 [==============================] - 0s 9ms/step - loss: 0.5445 - accuracy: 0.8170 - val_loss: 0.5477 - val_accuracy: 0.8047\n",
      "Epoch 22/100\n",
      "54/54 [==============================] - 1s 10ms/step - loss: 0.5375 - accuracy: 0.8187 - val_loss: 0.5354 - val_accuracy: 0.8102\n",
      "Epoch 23/100\n",
      "54/54 [==============================] - 1s 9ms/step - loss: 0.5307 - accuracy: 0.8213 - val_loss: 0.5293 - val_accuracy: 0.8135\n",
      "Epoch 24/100\n",
      "54/54 [==============================] - 0s 9ms/step - loss: 0.5244 - accuracy: 0.8225 - val_loss: 0.5231 - val_accuracy: 0.8158\n",
      "Epoch 25/100\n",
      "54/54 [==============================] - 0s 9ms/step - loss: 0.5190 - accuracy: 0.8247 - val_loss: 0.5162 - val_accuracy: 0.8210\n",
      "Epoch 26/100\n",
      "54/54 [==============================] - 0s 9ms/step - loss: 0.5134 - accuracy: 0.8255 - val_loss: 0.5117 - val_accuracy: 0.8207\n",
      "Epoch 27/100\n",
      "54/54 [==============================] - 0s 9ms/step - loss: 0.5082 - accuracy: 0.8280 - val_loss: 0.5059 - val_accuracy: 0.8203\n",
      "Epoch 28/100\n",
      "54/54 [==============================] - 0s 9ms/step - loss: 0.5040 - accuracy: 0.8290 - val_loss: 0.5007 - val_accuracy: 0.8245\n",
      "Epoch 29/100\n",
      "54/54 [==============================] - 1s 9ms/step - loss: 0.4994 - accuracy: 0.8310 - val_loss: 0.5003 - val_accuracy: 0.8212\n",
      "Epoch 30/100\n",
      "54/54 [==============================] - 1s 10ms/step - loss: 0.4959 - accuracy: 0.8313 - val_loss: 0.4922 - val_accuracy: 0.8250\n",
      "Epoch 31/100\n",
      "54/54 [==============================] - 1s 10ms/step - loss: 0.4919 - accuracy: 0.8326 - val_loss: 0.4885 - val_accuracy: 0.8255\n",
      "Epoch 32/100\n",
      "54/54 [==============================] - 1s 10ms/step - loss: 0.4880 - accuracy: 0.8333 - val_loss: 0.4868 - val_accuracy: 0.8263\n",
      "Epoch 33/100\n",
      "54/54 [==============================] - 0s 9ms/step - loss: 0.4850 - accuracy: 0.8340 - val_loss: 0.4836 - val_accuracy: 0.8258\n",
      "Epoch 34/100\n",
      "54/54 [==============================] - 0s 9ms/step - loss: 0.4827 - accuracy: 0.8360 - val_loss: 0.4823 - val_accuracy: 0.8298\n",
      "Epoch 35/100\n",
      "54/54 [==============================] - 1s 9ms/step - loss: 0.4788 - accuracy: 0.8371 - val_loss: 0.4763 - val_accuracy: 0.8288\n",
      "Epoch 36/100\n",
      "54/54 [==============================] - 0s 9ms/step - loss: 0.4758 - accuracy: 0.8368 - val_loss: 0.4717 - val_accuracy: 0.8315\n",
      "Epoch 37/100\n",
      "54/54 [==============================] - 0s 9ms/step - loss: 0.4728 - accuracy: 0.8374 - val_loss: 0.4716 - val_accuracy: 0.8287\n",
      "Epoch 38/100\n",
      "54/54 [==============================] - 0s 9ms/step - loss: 0.4699 - accuracy: 0.8386 - val_loss: 0.4671 - val_accuracy: 0.8308\n",
      "Epoch 39/100\n",
      "54/54 [==============================] - 1s 9ms/step - loss: 0.4680 - accuracy: 0.8394 - val_loss: 0.4681 - val_accuracy: 0.8283\n",
      "Epoch 40/100\n",
      "54/54 [==============================] - 0s 9ms/step - loss: 0.4653 - accuracy: 0.8397 - val_loss: 0.4675 - val_accuracy: 0.8338\n",
      "Epoch 41/100\n",
      "54/54 [==============================] - 0s 9ms/step - loss: 0.4628 - accuracy: 0.8406 - val_loss: 0.4610 - val_accuracy: 0.8350\n",
      "Epoch 42/100\n",
      "54/54 [==============================] - 0s 9ms/step - loss: 0.4601 - accuracy: 0.8405 - val_loss: 0.4563 - val_accuracy: 0.8365\n",
      "Epoch 43/100\n",
      "54/54 [==============================] - 0s 9ms/step - loss: 0.4582 - accuracy: 0.8414 - val_loss: 0.4564 - val_accuracy: 0.8355\n",
      "Epoch 44/100\n",
      "54/54 [==============================] - 0s 9ms/step - loss: 0.4561 - accuracy: 0.8434 - val_loss: 0.4522 - val_accuracy: 0.8378\n",
      "Epoch 45/100\n",
      "54/54 [==============================] - 1s 10ms/step - loss: 0.4546 - accuracy: 0.8430 - val_loss: 0.4531 - val_accuracy: 0.8343\n",
      "Epoch 46/100\n",
      "54/54 [==============================] - 1s 10ms/step - loss: 0.4529 - accuracy: 0.8431 - val_loss: 0.4541 - val_accuracy: 0.8337\n",
      "Epoch 47/100\n",
      "54/54 [==============================] - 1s 11ms/step - loss: 0.4499 - accuracy: 0.8446 - val_loss: 0.4543 - val_accuracy: 0.8363\n",
      "Epoch 48/100\n",
      "54/54 [==============================] - 1s 10ms/step - loss: 0.4481 - accuracy: 0.8452 - val_loss: 0.4447 - val_accuracy: 0.8363\n",
      "Epoch 49/100\n",
      "54/54 [==============================] - 1s 10ms/step - loss: 0.4458 - accuracy: 0.8457 - val_loss: 0.4431 - val_accuracy: 0.8395\n",
      "Epoch 50/100\n",
      "54/54 [==============================] - 1s 10ms/step - loss: 0.4459 - accuracy: 0.8453 - val_loss: 0.4412 - val_accuracy: 0.8378\n",
      "Epoch 51/100\n",
      "54/54 [==============================] - 1s 10ms/step - loss: 0.4432 - accuracy: 0.8471 - val_loss: 0.4418 - val_accuracy: 0.8383\n",
      "Epoch 52/100\n",
      "54/54 [==============================] - 1s 10ms/step - loss: 0.4396 - accuracy: 0.8474 - val_loss: 0.4361 - val_accuracy: 0.8422\n",
      "Epoch 53/100\n",
      "54/54 [==============================] - 1s 10ms/step - loss: 0.4400 - accuracy: 0.8471 - val_loss: 0.4414 - val_accuracy: 0.8413\n",
      "Epoch 54/100\n",
      "54/54 [==============================] - 1s 11ms/step - loss: 0.4369 - accuracy: 0.8479 - val_loss: 0.4375 - val_accuracy: 0.8433\n",
      "Epoch 55/100\n",
      "54/54 [==============================] - 1s 12ms/step - loss: 0.4357 - accuracy: 0.8487 - val_loss: 0.4356 - val_accuracy: 0.8405\n",
      "Epoch 56/100\n",
      "54/54 [==============================] - 1s 10ms/step - loss: 0.4336 - accuracy: 0.8494 - val_loss: 0.4346 - val_accuracy: 0.8398\n",
      "Epoch 57/100\n",
      "54/54 [==============================] - 1s 10ms/step - loss: 0.4344 - accuracy: 0.8494 - val_loss: 0.4309 - val_accuracy: 0.8445\n",
      "Epoch 58/100\n"
     ]
    },
    {
     "name": "stdout",
     "output_type": "stream",
     "text": [
      "54/54 [==============================] - 1s 10ms/step - loss: 0.4319 - accuracy: 0.8492 - val_loss: 0.4301 - val_accuracy: 0.8463\n",
      "Epoch 59/100\n",
      "54/54 [==============================] - 1s 10ms/step - loss: 0.4327 - accuracy: 0.8490 - val_loss: 0.4294 - val_accuracy: 0.8447\n",
      "Epoch 60/100\n",
      "54/54 [==============================] - 1s 10ms/step - loss: 0.4287 - accuracy: 0.8513 - val_loss: 0.4278 - val_accuracy: 0.8443\n",
      "Epoch 61/100\n",
      "54/54 [==============================] - 1s 11ms/step - loss: 0.4264 - accuracy: 0.8527 - val_loss: 0.4256 - val_accuracy: 0.8472\n",
      "Epoch 62/100\n",
      "54/54 [==============================] - 1s 10ms/step - loss: 0.4265 - accuracy: 0.8519 - val_loss: 0.4246 - val_accuracy: 0.8428\n",
      "Epoch 63/100\n",
      "54/54 [==============================] - 1s 12ms/step - loss: 0.4265 - accuracy: 0.8525 - val_loss: 0.4338 - val_accuracy: 0.8395\n",
      "Epoch 64/100\n",
      "54/54 [==============================] - 1s 13ms/step - loss: 0.4272 - accuracy: 0.8513 - val_loss: 0.4418 - val_accuracy: 0.8408\n",
      "Epoch 65/100\n",
      "54/54 [==============================] - 1s 11ms/step - loss: 0.4227 - accuracy: 0.8538 - val_loss: 0.4207 - val_accuracy: 0.8492\n",
      "Epoch 66/100\n",
      "54/54 [==============================] - 1s 11ms/step - loss: 0.4204 - accuracy: 0.8542 - val_loss: 0.4184 - val_accuracy: 0.8483\n",
      "Epoch 67/100\n",
      "54/54 [==============================] - 1s 11ms/step - loss: 0.4202 - accuracy: 0.8545 - val_loss: 0.4252 - val_accuracy: 0.8477\n",
      "Epoch 68/100\n",
      "54/54 [==============================] - 1s 10ms/step - loss: 0.4201 - accuracy: 0.8541 - val_loss: 0.4180 - val_accuracy: 0.8487\n",
      "Epoch 69/100\n",
      "54/54 [==============================] - 1s 11ms/step - loss: 0.4219 - accuracy: 0.8537 - val_loss: 0.4284 - val_accuracy: 0.8473\n",
      "Epoch 70/100\n",
      "54/54 [==============================] - 1s 10ms/step - loss: 0.4179 - accuracy: 0.8549 - val_loss: 0.4318 - val_accuracy: 0.8415\n",
      "Epoch 71/100\n",
      "54/54 [==============================] - 1s 10ms/step - loss: 0.4180 - accuracy: 0.8551 - val_loss: 0.4189 - val_accuracy: 0.8470\n",
      "Epoch 72/100\n",
      "54/54 [==============================] - 1s 12ms/step - loss: 0.4160 - accuracy: 0.8552 - val_loss: 0.4471 - val_accuracy: 0.8427\n",
      "Epoch 73/100\n",
      "54/54 [==============================] - 1s 10ms/step - loss: 0.4150 - accuracy: 0.8556 - val_loss: 0.4231 - val_accuracy: 0.8425\n",
      "Epoch 74/100\n",
      "54/54 [==============================] - 1s 10ms/step - loss: 0.4163 - accuracy: 0.8548 - val_loss: 0.4141 - val_accuracy: 0.8515\n",
      "Epoch 75/100\n",
      "54/54 [==============================] - 1s 11ms/step - loss: 0.4123 - accuracy: 0.8564 - val_loss: 0.4217 - val_accuracy: 0.8440\n",
      "Epoch 76/100\n",
      "54/54 [==============================] - 1s 10ms/step - loss: 0.4150 - accuracy: 0.8564 - val_loss: 0.4175 - val_accuracy: 0.8452\n",
      "Epoch 77/100\n",
      "54/54 [==============================] - 1s 10ms/step - loss: 0.4102 - accuracy: 0.8579 - val_loss: 0.4110 - val_accuracy: 0.8475\n",
      "Epoch 78/100\n",
      "54/54 [==============================] - 1s 10ms/step - loss: 0.4095 - accuracy: 0.8578 - val_loss: 0.4079 - val_accuracy: 0.8498\n",
      "Epoch 79/100\n",
      "54/54 [==============================] - 1s 10ms/step - loss: 0.4089 - accuracy: 0.8581 - val_loss: 0.4071 - val_accuracy: 0.8503\n",
      "Epoch 80/100\n",
      "54/54 [==============================] - 1s 11ms/step - loss: 0.4068 - accuracy: 0.8589 - val_loss: 0.4075 - val_accuracy: 0.8483\n",
      "Epoch 81/100\n",
      "54/54 [==============================] - 1s 12ms/step - loss: 0.4070 - accuracy: 0.8586 - val_loss: 0.4075 - val_accuracy: 0.8507\n",
      "Epoch 82/100\n",
      "54/54 [==============================] - 1s 11ms/step - loss: 0.4033 - accuracy: 0.8606 - val_loss: 0.4044 - val_accuracy: 0.8548\n",
      "Epoch 83/100\n",
      "54/54 [==============================] - 1s 15ms/step - loss: 0.4043 - accuracy: 0.8606 - val_loss: 0.4063 - val_accuracy: 0.8500\n",
      "Epoch 84/100\n",
      "54/54 [==============================] - 1s 16ms/step - loss: 0.4030 - accuracy: 0.8599 - val_loss: 0.4130 - val_accuracy: 0.8522\n",
      "Epoch 85/100\n",
      "54/54 [==============================] - 1s 13ms/step - loss: 0.4038 - accuracy: 0.8597 - val_loss: 0.4104 - val_accuracy: 0.8528\n",
      "Epoch 86/100\n",
      "54/54 [==============================] - 1s 10ms/step - loss: 0.4026 - accuracy: 0.8600 - val_loss: 0.4020 - val_accuracy: 0.8535\n",
      "Epoch 87/100\n",
      "54/54 [==============================] - 1s 10ms/step - loss: 0.4045 - accuracy: 0.8596 - val_loss: 0.4012 - val_accuracy: 0.8540\n",
      "Epoch 88/100\n",
      "54/54 [==============================] - 1s 10ms/step - loss: 0.3987 - accuracy: 0.8615 - val_loss: 0.4018 - val_accuracy: 0.8568\n",
      "Epoch 89/100\n",
      "54/54 [==============================] - 1s 10ms/step - loss: 0.4024 - accuracy: 0.8599 - val_loss: 0.4005 - val_accuracy: 0.8520\n",
      "Epoch 90/100\n",
      "54/54 [==============================] - 1s 10ms/step - loss: 0.3985 - accuracy: 0.8619 - val_loss: 0.4016 - val_accuracy: 0.8522\n",
      "Epoch 91/100\n",
      "54/54 [==============================] - 1s 10ms/step - loss: 0.3985 - accuracy: 0.8618 - val_loss: 0.4018 - val_accuracy: 0.8542\n",
      "Epoch 92/100\n",
      "54/54 [==============================] - 1s 12ms/step - loss: 0.3952 - accuracy: 0.8640 - val_loss: 0.3971 - val_accuracy: 0.8565\n",
      "Epoch 93/100\n",
      "54/54 [==============================] - 1s 10ms/step - loss: 0.3955 - accuracy: 0.8634 - val_loss: 0.3968 - val_accuracy: 0.8555\n",
      "Epoch 94/100\n",
      "54/54 [==============================] - 1s 11ms/step - loss: 0.3960 - accuracy: 0.8634 - val_loss: 0.3954 - val_accuracy: 0.8553\n",
      "Epoch 95/100\n",
      "54/54 [==============================] - 1s 13ms/step - loss: 0.3941 - accuracy: 0.8622 - val_loss: 0.3955 - val_accuracy: 0.8575\n",
      "Epoch 96/100\n",
      "54/54 [==============================] - 1s 11ms/step - loss: 0.3920 - accuracy: 0.8649 - val_loss: 0.3988 - val_accuracy: 0.8578\n",
      "Epoch 97/100\n",
      "54/54 [==============================] - 1s 10ms/step - loss: 0.3949 - accuracy: 0.8619 - val_loss: 0.4037 - val_accuracy: 0.8547\n",
      "Epoch 98/100\n",
      "54/54 [==============================] - 1s 10ms/step - loss: 0.3930 - accuracy: 0.8644 - val_loss: 0.3948 - val_accuracy: 0.8567\n",
      "Epoch 99/100\n",
      "54/54 [==============================] - 1s 10ms/step - loss: 0.3917 - accuracy: 0.8637 - val_loss: 0.3945 - val_accuracy: 0.8587\n",
      "Epoch 100/100\n",
      "54/54 [==============================] - 1s 10ms/step - loss: 0.3887 - accuracy: 0.8655 - val_loss: 0.3897 - val_accuracy: 0.8593\n"
     ]
    }
   ],
   "source": [
    "batch_size = 1000\n",
    "h = model.fit(X_train, y_train_one_hot, validation_data=(X_valid, y_valid_one_hot), epochs = 100, batch_size = batch_size)"
   ]
  },
  {
   "cell_type": "code",
   "execution_count": 54,
   "metadata": {},
   "outputs": [
    {
     "data": {
      "text/plain": [
       "[<matplotlib.lines.Line2D at 0x1d2c8b44400>]"
      ]
     },
     "execution_count": 54,
     "metadata": {},
     "output_type": "execute_result"
    },
    {
     "data": {
      "image/png": "[encoded data removed]",
      "text/plain": [
       "<Figure size 720x720 with 2 Axes>"
      ]
     },
     "metadata": {
      "needs_background": "light"
     },
     "output_type": "display_data"
    }
   ],
   "source": [
    "# atvaizduojame grafiskai\n",
    "plt.subplot(1, 2, 1)\n",
    "plt.title('LOSS')\n",
    "plt.plot(h.history['loss'], color='red')\n",
    "plt.plot(h.history['val_loss'], color='green')\n",
    "plt.subplot(1, 2, 2)\n",
    "plt.title('Accuracy')\n",
    "plt.plot(h.history['accuracy'], color='red')\n",
    "plt.plot(h.history['val_accuracy'], color='green')"
   ]
  },
  {
   "cell_type": "code",
   "execution_count": 55,
   "metadata": {},
   "outputs": [
    {
     "name": "stdout",
     "output_type": "stream",
     "text": [
      "(10000, 28, 28) (10000, 10)\n"
     ]
    }
   ],
   "source": [
    "print(X_test.shape, y_test_one_hot.shape)"
   ]
  },
  {
   "cell_type": "code",
   "execution_count": 56,
   "metadata": {},
   "outputs": [
    {
     "name": "stdout",
     "output_type": "stream",
     "text": [
      "313/313 [==============================] - 0s 1ms/step - loss: 0.4268 - accuracy: 0.8468\n"
     ]
    }
   ],
   "source": [
    "evaluated = model.evaluate(X_test, y_test_one_hot)"
   ]
  },
  {
   "cell_type": "markdown",
   "metadata": {},
   "source": [
    "- 2 HL 128/64 neronai / batch 100 / 50 epoch / opt sgd lr 0.01: loss: 0.3669 - accuracy: 0.8731\n",
    "- 1 HL 128 / batch 100 / 50 epoch / opt sgd lr 0.01: loss: 0.3955 - accuracy: 0.8579\n",
    "- 1 HL 128 / batch 1000 / 50 epoch / opt sgd lr 0.01: loss: 0.5247 - accuracy: 0.8197\n",
    "- 1 HL 128 / batch 1000 / 200 epoch / opt sgd lr 0.01: loss: loss: 0.4327 - accuracy: 0.8456\n",
    "- 1 HL 128 / batch 1000 / 200 epoch / opt adam lr 0.01: loss: 1.0445 - accuracy: 0.8699\n",
    "- 2 HL 128/128 / batch 1000 / 200 epoch / opt adam lr 0.01: loss: 1.1647 - accuracy: 0.8810\n",
    "- 2 HL 128/128 / batch 1000 / 200 epoch / opt sgd lr 0.01: loss: 0.4064 - accuracy: 0.8564\n",
    "- 2 HL 128/128 / 200 epoch / opt sgd lr 0.01: loss: 0.5976 - accuracy: 0.8834 (ilgai mokė)\n",
    "- 3 HL 128/128/128 / batch 1000 / 100 epoch / opt sgd lr 0.01: loss: 0.4268 - accuracy: 0.8468"
   ]
  },
  {
   "cell_type": "markdown",
   "metadata": {},
   "source": [
    "### Pastebėjimai\n",
    "- Didesnis batch size, žymiai pagreitina mokymąsi, bet šiek tiek sumažina tikslumą\n",
    "- Sudėtingesnis modelis nebūtinai priveda prie geresnių rezultatų. pvz. pridėjus 3 hidden layer'ius po 200-300 neuronų, nedavė žymiai geresnių rezultatų nei su 1 hidden layer'iu ir 128 neuronais\n",
    "- epochų skaičius taip pat turi įtakos iki tam tikro skaičiaus\n",
    "- su adam optimizatoriumi modelis mažiau stabilus, bet gaunamas didesnis modelio tikslumas su train duomenimis"
   ]
  },
  {
   "cell_type": "code",
   "execution_count": 49,
   "metadata": {},
   "outputs": [],
   "source": [
    "# spejame\n",
    "predictions = model.predict(X_test)"
   ]
  },
  {
   "cell_type": "markdown",
   "metadata": {},
   "source": [
    "### Confusion matrix"
   ]
  },
  {
   "cell_type": "code",
   "execution_count": 70,
   "metadata": {},
   "outputs": [],
   "source": [
    "from sklearn.metrics import confusion_matrix\n",
    "import matplotlib.pyplot as plt\n",
    "import seaborn as sn\n",
    "import pandas as pd"
   ]
  },
  {
   "cell_type": "code",
   "execution_count": 58,
   "metadata": {},
   "outputs": [],
   "source": [
    "# suskaiciuojeme cf matrix\n",
    "cf_matrix = confusion_matrix(y_test_one_hot.argmax(axis=1), predictions.argmax(axis=1))"
   ]
  },
  {
   "cell_type": "code",
   "execution_count": 73,
   "metadata": {},
   "outputs": [],
   "source": [
    "# konvertuojame i dataframe\n",
    "df_cm = pd.DataFrame(cf_matrix, index=range(10), columns=range(10))"
   ]
  },
  {
   "cell_type": "code",
   "execution_count": 76,
   "metadata": {},
   "outputs": [
    {
     "data": {
      "text/plain": [
       "array([[827,   0,  14,  36,   4,   4, 105,   0,  10,   0],\n",
       "       [  4, 962,   2,  25,   4,   0,   2,   0,   1,   0],\n",
       "       [ 19,   1, 787,  16, 101,   1,  72,   0,   3,   0],\n",
       "       [ 21,   7,  10, 899,  29,   1,  26,   0,   7,   0],\n",
       "       [  0,   1,  97,  38, 777,   0,  81,   0,   6,   0],\n",
       "       [  0,   0,   0,   1,   0, 961,   0,  26,   1,  11],\n",
       "       [122,   1,  93,  34,  61,   0, 675,   0,  14,   0],\n",
       "       [  0,   0,   0,   0,   0,  33,   0, 936,   0,  31],\n",
       "       [  7,   1,   3,   8,   4,   6,   9,   6, 956,   0],\n",
       "       [  0,   0,   0,   0,   0,  16,   1,  34,   0, 949]], dtype=int64)"
      ]
     },
     "execution_count": 76,
     "metadata": {},
     "output_type": "execute_result"
    }
   ],
   "source": [
    "cf_matrix"
   ]
  },
  {
   "cell_type": "code",
   "execution_count": 78,
   "metadata": {},
   "outputs": [
    {
     "data": {
      "text/plain": [
       "<matplotlib.axes._subplots.AxesSubplot at 0x26c846ee820>"
      ]
     },
     "execution_count": 78,
     "metadata": {},
     "output_type": "execute_result"
    },
    {
     "data": {
      "image/png": "[encoded data removed]",
      "text/plain": [
       "<Figure size 1080x1080 with 2 Axes>"
      ]
     },
     "metadata": {
      "needs_background": "light"
     },
     "output_type": "display_data"
    }
   ],
   "source": [
    "# plot'inam\n",
    "plt.figure(figsize = (15,15))\n",
    "sn.heatmap(df_cm, annot=True)"
   ]
  }
 ],
 "metadata": {
  "kernelspec": {
   "display_name": "Python 3",
   "language": "python",
   "name": "python3"
  },
  "language_info": {
   "codemirror_mode": {
    "name": "ipython",
    "version": 3
   },
   "file_extension": ".py",
   "mimetype": "text/x-python",
   "name": "python",
   "nbconvert_exporter": "python",
   "pygments_lexer": "ipython3",
   "version": "3.8.3"
  }
 },
 "nbformat": 4,
 "nbformat_minor": 4
}
