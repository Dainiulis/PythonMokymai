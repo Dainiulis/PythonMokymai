{
 "cells": [
  {
   "cell_type": "markdown",
   "metadata": {},
   "source": [
    "## Sukurkite klasifikatorių, FashionMNIST duomenų rinkiniui\n",
    "\n",
    "- Įsikelkite duomenis, susipažinkite su jais\n",
    "- Pamėginkite sukurti neuroninį tinklą paveikslėliui priskiriantį vieną iš 10 galimų klasių"
   ]
  },
  {
   "cell_type": "code",
   "execution_count": 26,
   "metadata": {},
   "outputs": [],
   "source": [
    "#Įsikeliame reikalingas bibliotekas\n",
    "\n",
    "\n",
    "import matplotlib.pyplot as plt\n",
    "import numpy as np\n",
    "from sklearn import datasets\n",
    "from sklearn.model_selection import train_test_split\n",
    "\n",
    "import keras\n",
    "\n",
    "from pylab import rcParams\n",
    "rcParams['figure.figsize'] = 10, 10"
   ]
  },
  {
   "cell_type": "code",
   "execution_count": 27,
   "metadata": {},
   "outputs": [],
   "source": [
    "#Įsikeliame duomenis\n",
    "\n",
    "(X_train, y_train), (X_test, y_test) =  keras.datasets.fashion_mnist.load_data()"
   ]
  },
  {
   "cell_type": "code",
   "execution_count": 28,
   "metadata": {},
   "outputs": [],
   "source": [
    "X_train = X_train / X_train.max()\n",
    "X_test = X_test / X_test.max()"
   ]
  },
  {
   "cell_type": "code",
   "execution_count": 29,
   "metadata": {},
   "outputs": [
    {
     "name": "stdout",
     "output_type": "stream",
     "text": [
      "(60000, 28, 28)\n",
      "(10000, 28, 28)\n"
     ]
    }
   ],
   "source": [
    "print(X_train.shape)\n",
    "print(X_test.shape)"
   ]
  },
  {
   "cell_type": "code",
   "execution_count": 30,
   "metadata": {},
   "outputs": [],
   "source": [
    "X_train, X_valid, y_train, y_valid = train_test_split(X_train, y_train, test_size=0.1, shuffle= True)"
   ]
  },
  {
   "cell_type": "code",
   "execution_count": 31,
   "metadata": {},
   "outputs": [],
   "source": [
    "y_train_one_hot = keras.utils.to_categorical(y_train, 10)\n",
    "y_valid_one_hot = keras.utils.to_categorical(y_valid, 10)\n",
    "y_test_one_hot = keras.utils.to_categorical(y_test, 10)"
   ]
  },
  {
   "cell_type": "code",
   "execution_count": 32,
   "metadata": {},
   "outputs": [
    {
     "name": "stdout",
     "output_type": "stream",
     "text": [
      "Model: \"sequential_3\"\n",
      "_________________________________________________________________\n",
      "Layer (type)                 Output Shape              Param #   \n",
      "=================================================================\n",
      "flatten_3 (Flatten)          (None, 784)               0         \n",
      "_________________________________________________________________\n",
      "dense_10 (Dense)             (None, 128)               100480    \n",
      "_________________________________________________________________\n",
      "dense_11 (Dense)             (None, 128)               16512     \n",
      "_________________________________________________________________\n",
      "dense_12 (Dense)             (None, 10)                1290      \n",
      "=================================================================\n",
      "Total params: 118,282\n",
      "Trainable params: 118,282\n",
      "Non-trainable params: 0\n",
      "_________________________________________________________________\n"
     ]
    }
   ],
   "source": [
    "model = keras.models.Sequential()\n",
    "model.add(keras.layers.Flatten(input_shape=(28, 28)))\n",
    "model.add(keras.layers.Dense(128, activation='relu'))\n",
    "model.add(keras.layers.Dense(128, activation='relu'))\n",
    "model.add(keras.layers.Dense(10, activation='softmax'))\n",
    "model.compile(loss='categorical_crossentropy', optimizer=keras.optimizers.SGD(lr=0.01), metrics=['accuracy'])\n",
    "model.summary()"
   ]
  },
  {
   "cell_type": "code",
   "execution_count": 33,
   "metadata": {
    "collapsed": true
   },
   "outputs": [
    {
     "name": "stdout",
     "output_type": "stream",
     "text": [
      "Epoch 1/30\n",
      "1688/1688 [==============================] - 5s 3ms/step - loss: 0.7603 - accuracy: 0.7521 - val_loss: 0.5302 - val_accuracy: 0.8232\n",
      "Epoch 2/30\n",
      "1688/1688 [==============================] - 4s 2ms/step - loss: 0.5038 - accuracy: 0.8253 - val_loss: 0.4548 - val_accuracy: 0.8422\n",
      "Epoch 3/30\n",
      "1688/1688 [==============================] - 4s 2ms/step - loss: 0.4565 - accuracy: 0.8407 - val_loss: 0.4257 - val_accuracy: 0.8498\n",
      "Epoch 4/30\n",
      "1688/1688 [==============================] - 4s 2ms/step - loss: 0.4274 - accuracy: 0.8514 - val_loss: 0.4018 - val_accuracy: 0.8605\n",
      "Epoch 5/30\n",
      "1688/1688 [==============================] - 4s 2ms/step - loss: 0.4066 - accuracy: 0.8585 - val_loss: 0.3985 - val_accuracy: 0.8648\n",
      "Epoch 6/30\n",
      "1688/1688 [==============================] - 4s 2ms/step - loss: 0.3892 - accuracy: 0.8638 - val_loss: 0.3934 - val_accuracy: 0.8578\n",
      "Epoch 7/30\n",
      "1688/1688 [==============================] - 4s 2ms/step - loss: 0.3764 - accuracy: 0.8675 - val_loss: 0.3723 - val_accuracy: 0.8723\n",
      "Epoch 8/30\n",
      "1688/1688 [==============================] - 4s 2ms/step - loss: 0.3652 - accuracy: 0.8722 - val_loss: 0.3701 - val_accuracy: 0.8700\n",
      "Epoch 9/30\n",
      "1688/1688 [==============================] - 4s 2ms/step - loss: 0.3550 - accuracy: 0.8745 - val_loss: 0.3609 - val_accuracy: 0.8718\n",
      "Epoch 10/30\n",
      "1688/1688 [==============================] - 4s 2ms/step - loss: 0.3458 - accuracy: 0.8772 - val_loss: 0.3514 - val_accuracy: 0.8763\n",
      "Epoch 11/30\n",
      "1688/1688 [==============================] - 4s 2ms/step - loss: 0.3371 - accuracy: 0.8804 - val_loss: 0.3594 - val_accuracy: 0.8715\n",
      "Epoch 12/30\n",
      "1688/1688 [==============================] - 4s 2ms/step - loss: 0.3298 - accuracy: 0.8832 - val_loss: 0.3370 - val_accuracy: 0.8800\n",
      "Epoch 13/30\n",
      "1688/1688 [==============================] - 4s 2ms/step - loss: 0.3220 - accuracy: 0.8857 - val_loss: 0.3407 - val_accuracy: 0.8783\n",
      "Epoch 14/30\n",
      "1688/1688 [==============================] - 4s 2ms/step - loss: 0.3164 - accuracy: 0.8863 - val_loss: 0.3552 - val_accuracy: 0.8718\n",
      "Epoch 15/30\n",
      "1688/1688 [==============================] - 5s 3ms/step - loss: 0.3095 - accuracy: 0.8898 - val_loss: 0.3335 - val_accuracy: 0.8783\n",
      "Epoch 16/30\n",
      "1688/1688 [==============================] - 4s 2ms/step - loss: 0.3045 - accuracy: 0.8912 - val_loss: 0.3393 - val_accuracy: 0.8760\n",
      "Epoch 17/30\n",
      "1688/1688 [==============================] - 4s 2ms/step - loss: 0.2980 - accuracy: 0.8922 - val_loss: 0.3223 - val_accuracy: 0.8812\n",
      "Epoch 18/30\n",
      "1688/1688 [==============================] - 4s 3ms/step - loss: 0.2936 - accuracy: 0.8941 - val_loss: 0.3265 - val_accuracy: 0.8855\n",
      "Epoch 19/30\n",
      "1688/1688 [==============================] - 5s 3ms/step - loss: 0.2893 - accuracy: 0.8961 - val_loss: 0.3208 - val_accuracy: 0.8870\n",
      "Epoch 20/30\n",
      "1688/1688 [==============================] - 4s 2ms/step - loss: 0.2831 - accuracy: 0.8972 - val_loss: 0.3145 - val_accuracy: 0.8853\n",
      "Epoch 21/30\n",
      "1688/1688 [==============================] - 3s 2ms/step - loss: 0.2798 - accuracy: 0.8993 - val_loss: 0.3314 - val_accuracy: 0.8832\n",
      "Epoch 22/30\n",
      "1688/1688 [==============================] - 3s 2ms/step - loss: 0.2748 - accuracy: 0.9008 - val_loss: 0.3119 - val_accuracy: 0.8887\n",
      "Epoch 23/30\n",
      "1688/1688 [==============================] - 4s 2ms/step - loss: 0.2705 - accuracy: 0.9015 - val_loss: 0.3156 - val_accuracy: 0.8862\n",
      "Epoch 24/30\n",
      "1688/1688 [==============================] - 4s 2ms/step - loss: 0.2672 - accuracy: 0.9040 - val_loss: 0.3722 - val_accuracy: 0.8712\n",
      "Epoch 25/30\n",
      "1688/1688 [==============================] - 4s 2ms/step - loss: 0.2627 - accuracy: 0.9034 - val_loss: 0.3224 - val_accuracy: 0.8855\n",
      "Epoch 26/30\n",
      "1688/1688 [==============================] - 4s 2ms/step - loss: 0.2586 - accuracy: 0.9066 - val_loss: 0.3105 - val_accuracy: 0.8928\n",
      "Epoch 27/30\n",
      "1688/1688 [==============================] - 4s 2ms/step - loss: 0.2549 - accuracy: 0.9070 - val_loss: 0.3288 - val_accuracy: 0.8822\n",
      "Epoch 28/30\n",
      "1688/1688 [==============================] - 4s 2ms/step - loss: 0.2524 - accuracy: 0.9085 - val_loss: 0.3117 - val_accuracy: 0.8880\n",
      "Epoch 29/30\n",
      "1688/1688 [==============================] - 4s 2ms/step - loss: 0.2484 - accuracy: 0.9095 - val_loss: 0.3225 - val_accuracy: 0.8838\n",
      "Epoch 30/30\n",
      "1688/1688 [==============================] - 4s 2ms/step - loss: 0.2456 - accuracy: 0.9112 - val_loss: 0.3064 - val_accuracy: 0.8930\n"
     ]
    }
   ],
   "source": [
    "batch_size = 32\n",
    "h = model.fit(X_train, y_train_one_hot, validation_data=(X_valid, y_valid_one_hot), epochs = 30, batch_size = batch_size)"
   ]
  },
  {
   "cell_type": "code",
   "execution_count": 24,
   "metadata": {},
   "outputs": [
    {
     "data": {
      "text/plain": [
       "[<matplotlib.lines.Line2D at 0x125805f5c10>]"
      ]
     },
     "execution_count": 24,
     "metadata": {},
     "output_type": "execute_result"
    },
    {
     "data": {
      "image/png": "[encoded data removed]",
      "text/plain": [
       "<Figure size 720x720 with 2 Axes>"
      ]
     },
     "metadata": {
      "needs_background": "light"
     },
     "output_type": "display_data"
    }
   ],
   "source": [
    "# atvaizduojame grafiskai\n",
    "plt.subplot(1, 2, 1)\n",
    "plt.title('LOSS')\n",
    "plt.plot(h.history['loss'], color='red')\n",
    "plt.plot(h.history['val_loss'], color='green')\n",
    "plt.subplot(1, 2, 2)\n",
    "plt.title('Accuracy')\n",
    "plt.plot(h.history['accuracy'], color='red')\n",
    "plt.plot(h.history['val_accuracy'], color='green')"
   ]
  },
  {
   "cell_type": "code",
   "execution_count": 25,
   "metadata": {},
   "outputs": [
    {
     "name": "stdout",
     "output_type": "stream",
     "text": [
      "(10000, 28, 28) (10000, 10)\n"
     ]
    }
   ],
   "source": [
    "print(X_test.shape, y_test_one_hot.shape)"
   ]
  },
  {
   "cell_type": "code",
   "execution_count": 26,
   "metadata": {},
   "outputs": [
    {
     "name": "stdout",
     "output_type": "stream",
     "text": [
      "10000/10000 [==============================] - 1s 61us/step\n"
     ]
    },
    {
     "data": {
      "text/plain": [
       "[0.3462859517991543, 0.8751999735832214]"
      ]
     },
     "execution_count": 26,
     "metadata": {},
     "output_type": "execute_result"
    }
   ],
   "source": [
    "model.evaluate(X_test, y_test_one_hot)"
   ]
  },
  {
   "cell_type": "markdown",
   "metadata": {},
   "source": [
    "- 2 HL 128/64 neronai / batch 100 / 50 epoch / opt sgd lr 0.01: loss: 0.3669 - accuracy: 0.8731\n",
    "- 1 HL 128 / batch 100 / 50 epoch / opt sgd lr 0.01: loss: 0.3955 - accuracy: 0.8579\n",
    "- 1 HL 128 / batch 1000 / 50 epoch / opt sgd lr 0.01: loss: 0.5247 - accuracy: 0.8197\n",
    "- 1 HL 128 / batch 1000 / 200 epoch / opt sgd lr 0.01: loss: loss: 0.4327 - accuracy: 0.8456\n",
    "- 1 HL 128 / batch 1000 / 200 epoch / opt adam lr 0.01: loss: 1.0445 - accuracy: 0.8699\n",
    "- 2 HL 128/128 / batch 1000 / 200 epoch / opt adam lr 0.01: loss: 1.1647 - accuracy: 0.8810\n",
    "- 2 HL 128/128 / batch 1000 / 200 epoch / opt sgd lr 0.01: loss: 0.4064 - accuracy: 0.8564\n",
    "- 2 HL 128/128 / 200 epoch / opt sgd lr 0.01: loss: 0.5976 - accuracy: 0.8834 (ilgai mokė)\n",
    "- 3 HL 128/128/128 / batch 1000 / 100 epoch / opt sgd lr 0.01: loss: 0.4268 - accuracy: 0.8468\n",
    "- 2 HL 128/128 / batch 32 / 30 epoch / opt adam: loss: 0.4311 - accuracy: 0.8859\n",
    "- 2 HL 128/128 / batch 32 / 30 epoch / opt sgd: loss: 0.3419 - accuracy: 0.8797"
   ]
  },
  {
   "cell_type": "markdown",
   "metadata": {},
   "source": [
    "### Pastebėjimai\n",
    "- Didesnis batch size, žymiai pagreitina mokymąsi, bet šiek tiek sumažina tikslumą\n",
    "- Sudėtingesnis modelis nebūtinai priveda prie geresnių rezultatų. pvz. pridėjus 3 hidden layer'ius po 200-300 neuronų, nedavė žymiai geresnių rezultatų nei su 1 hidden layer'iu ir 128 neuronais\n",
    "- epochų skaičius taip pat turi įtakos iki tam tikro skaičiaus\n",
    "- su adam optimizatoriumi modelis mažiau stabilus, bet gaunamas didesnis modelio tikslumas su train duomenimis"
   ]
  },
  {
   "cell_type": "code",
   "execution_count": 34,
   "metadata": {},
   "outputs": [],
   "source": [
    "# spejame\n",
    "predictions = model.predict(X_test)"
   ]
  },
  {
   "cell_type": "markdown",
   "metadata": {},
   "source": [
    "### Confusion matrix"
   ]
  },
  {
   "cell_type": "code",
   "execution_count": 35,
   "metadata": {},
   "outputs": [],
   "source": [
    "from sklearn.metrics import confusion_matrix\n",
    "import matplotlib.pyplot as plt\n",
    "import seaborn as sn\n",
    "import pandas as pd\n",
    "# suskaiciuojeme cf matrix\n",
    "cf_matrix = confusion_matrix(y_test_one_hot.argmax(axis=1), predictions.argmax(axis=1))\n",
    "# konvertuojame i dataframe\n",
    "df_cm = pd.DataFrame(cf_matrix, index=range(10), columns=range(10))\n",
    "print(df_cm)\n",
    "# plot'inam\n",
    "plt.figure(figsize = (15,15))\n",
    "sn.heatmap(df_cm, annot=True)"
   ]
  },
  {
   "cell_type": "code",
   "execution_count": null,
   "metadata": {},
   "outputs": [],
   "source": []
  }
 ],
 "metadata": {
  "kernelspec": {
   "display_name": "Python 3",
   "language": "python",
   "name": "python3"
  },
  "language_info": {
   "codemirror_mode": {
    "name": "ipython",
    "version": 3
   },
   "file_extension": ".py",
   "mimetype": "text/x-python",
   "name": "python",
   "nbconvert_exporter": "python",
   "pygments_lexer": "ipython3",
   "version": "3.8.3"
  }
 },
 "nbformat": 4,
 "nbformat_minor": 4
}
