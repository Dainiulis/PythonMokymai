{
 "cells": [
  {
   "cell_type": "code",
   "execution_count": 23,
   "metadata": {},
   "outputs": [],
   "source": [
    "import numpy as np\n",
    "import matplotlib.pyplot as plt"
   ]
  },
  {
   "cell_type": "markdown",
   "metadata": {},
   "source": [
    "## NumPy masyvai, paprastos operacijos"
   ]
  },
  {
   "cell_type": "code",
   "execution_count": 24,
   "metadata": {},
   "outputs": [
    {
     "name": "stdout",
     "output_type": "stream",
     "text": [
      "[ 0.  1.  2.  3.  4.  5.  6.  7.  8.  9. 10. 11. 12. 13. 14. 15. 16. 17.\n",
      " 18. 19. 20. 21. 22. 23. 24.]\n"
     ]
    }
   ],
   "source": [
    "#Sukurkime paprastą numpy masyvą\n",
    "\n",
    "a = np.arange(25, dtype=np.float64)\n",
    "print(a)"
   ]
  },
  {
   "cell_type": "code",
   "execution_count": 3,
   "metadata": {},
   "outputs": [
    {
     "name": "stdout",
     "output_type": "stream",
     "text": [
      "[[ 0.  1.  2.  3.  4.]\n",
      " [ 5.  6.  7.  8.  9.]\n",
      " [10. 11. 12. 13. 14.]\n",
      " [15. 16. 17. 18. 19.]\n",
      " [20. 21. 22. 23. 24.]]\n"
     ]
    }
   ],
   "source": [
    "#Galime pakeisti sukurto masyvo formą\n",
    "\n",
    "a = a.reshape((5, 5))\n",
    "print(a)"
   ]
  },
  {
   "cell_type": "code",
   "execution_count": 4,
   "metadata": {},
   "outputs": [
    {
     "name": "stdout",
     "output_type": "stream",
     "text": [
      "Dimensijų skaičius: 2, Narių skaičius dimensijose: (5, 5)\n"
     ]
    }
   ],
   "source": [
    "print('Dimensijų skaičius: {}, Narių skaičius dimensijose: {}'.format(a.ndim, a.shape))"
   ]
  },
  {
   "cell_type": "code",
   "execution_count": 5,
   "metadata": {},
   "outputs": [
    {
     "name": "stdout",
     "output_type": "stream",
     "text": [
      "Duomenų tipas: float64, Klasė: <class 'numpy.ndarray'>\n"
     ]
    }
   ],
   "source": [
    "print('Duomenų tipas: {}, Klasė: {}'.format(a.dtype, type(a)))"
   ]
  },
  {
   "cell_type": "markdown",
   "metadata": {},
   "source": [
    "## Veiksmai su numpy mąsyvais "
   ]
  },
  {
   "cell_type": "code",
   "execution_count": 27,
   "metadata": {},
   "outputs": [
    {
     "name": "stdout",
     "output_type": "stream",
     "text": [
      "[[1. 1. 1. 1. 1.]\n",
      " [1. 1. 1. 1. 1.]\n",
      " [1. 1. 1. 1. 1.]]\n"
     ]
    }
   ],
   "source": [
    "# Sukurkime vienetų mąsyvą\n",
    "\n",
    "a = np.ones((3, 5))\n",
    "\n",
    "print(a)"
   ]
  },
  {
   "cell_type": "code",
   "execution_count": 29,
   "metadata": {},
   "outputs": [
    {
     "name": "stdout",
     "output_type": "stream",
     "text": [
      "Forma:  (3, 5)\n",
      "Forma po transponavimo:  (5, 3)\n"
     ]
    }
   ],
   "source": [
    "#Transponavimas\n",
    "\n",
    "'''\n",
    "    Transponavimas - operacija, kuomet sukeičiamos matricos eilutės su stulpeliais.\n",
    "'''\n",
    "\n",
    "print(\"Forma: \", a.shape)\n",
    "print(\"Forma po transponavimo: \", a.transpose().shape)"
   ]
  },
  {
   "cell_type": "code",
   "execution_count": 8,
   "metadata": {},
   "outputs": [],
   "source": [
    "#Sudėtis ir atimtis"
   ]
  },
  {
   "cell_type": "code",
   "execution_count": 9,
   "metadata": {},
   "outputs": [
    {
     "data": {
      "text/plain": [
       "array([[0., 0., 0.],\n",
       "       [0., 0., 0.]])"
      ]
     },
     "execution_count": 9,
     "metadata": {},
     "output_type": "execute_result"
    }
   ],
   "source": [
    "#Broadcastinant prisitaiko antras array\n",
    "np.ones((2, 3))-np.ones((3))"
   ]
  },
  {
   "cell_type": "code",
   "execution_count": 10,
   "metadata": {},
   "outputs": [
    {
     "data": {
      "text/plain": [
       "array([[-2.00457989, -2.8994761 , -0.25624391, -1.20036654],\n",
       "       [-0.2500368 , -1.07037651,  0.77545653, -0.75070608]])"
      ]
     },
     "execution_count": 10,
     "metadata": {},
     "output_type": "execute_result"
    }
   ],
   "source": [
    "np.random.randn(2, 4)-np.ones((2, 4))"
   ]
  },
  {
   "cell_type": "code",
   "execution_count": 35,
   "metadata": {},
   "outputs": [
    {
     "data": {
      "text/plain": [
       "0.3108805959499002"
      ]
     },
     "execution_count": 35,
     "metadata": {},
     "output_type": "execute_result"
    }
   ],
   "source": [
    "#dot product (skaliarine sandauga)\n",
    "np.random.randn(3).dot(np.random.randn(3))"
   ]
  },
  {
   "cell_type": "code",
   "execution_count": 36,
   "metadata": {},
   "outputs": [
    {
     "name": "stdout",
     "output_type": "stream",
     "text": [
      "[[2. 2. 2. 2. 2.]\n",
      " [2. 2. 2. 2. 2.]\n",
      " [2. 2. 2. 2. 2.]\n",
      " [2. 2. 2. 2. 2.]\n",
      " [2. 2. 2. 2. 2.]]\n"
     ]
    }
   ],
   "source": [
    "#Daugyba/ dalyba is skaiciaus (skaliaro)\n",
    "\n",
    "print(np.ones((5, 5,)) * 2)"
   ]
  },
  {
   "cell_type": "code",
   "execution_count": 40,
   "metadata": {},
   "outputs": [
    {
     "name": "stdout",
     "output_type": "stream",
     "text": [
      "[[0.5 0.5 0.5 0.5 0.5]\n",
      " [0.5 0.5 0.5 0.5 0.5]\n",
      " [0.5 0.5 0.5 0.5 0.5]\n",
      " [0.5 0.5 0.5 0.5 0.5]\n",
      " [0.5 0.5 0.5 0.5 0.5]]\n"
     ]
    }
   ],
   "source": [
    "print(np.ones((5, 5,)) / 2)"
   ]
  },
  {
   "cell_type": "code",
   "execution_count": 42,
   "metadata": {},
   "outputs": [
    {
     "data": {
      "text/plain": [
       "array([[1, 2, 3],\n",
       "       [4, 5, 6],\n",
       "       [7, 8, 9]])"
      ]
     },
     "execution_count": 42,
     "metadata": {},
     "output_type": "execute_result"
    }
   ],
   "source": [
    "#Matricu daugyba\n",
    "\n",
    "a = np.array([[1, 0, 0],\n",
    "              [0, 1, 0],\n",
    "              [0, 0, 1]])\n",
    "\n",
    "b = np.array([[1, 2, 3],\n",
    "              [4, 5, 6],\n",
    "              [7, 8, 9]])\n",
    "\n",
    "np.matmul(a, b)\n"
   ]
  },
  {
   "cell_type": "code",
   "execution_count": 44,
   "metadata": {},
   "outputs": [
    {
     "name": "stdout",
     "output_type": "stream",
     "text": [
      "(3, 5)\n",
      "(1, 3, 5)\n",
      "[[[1. 1. 1. 1. 1.]\n",
      "  [1. 1. 1. 1. 1.]\n",
      "  [1. 1. 1. 1. 1.]]]\n"
     ]
    }
   ],
   "source": [
    "#Naujos dimensijos pridėjimas\n",
    "\n",
    "a = np.ones((3, 5))\n",
    "\n",
    "print(a.shape)\n",
    "print(a[np.newaxis].shape)\n",
    "print(a[np.newaxis])"
   ]
  },
  {
   "cell_type": "code",
   "execution_count": 46,
   "metadata": {},
   "outputs": [
    {
     "name": "stdout",
     "output_type": "stream",
     "text": [
      "(20, 12, 10)\n",
      "(2400,)\n",
      "(2400,)\n"
     ]
    }
   ],
   "source": [
    "#Išskleidimas į vieną dimensiją\n",
    "\n",
    "a = np.zeros((20, 12, 10))\n",
    "\n",
    "print(a.shape)\n",
    "\n",
    "print(a.ravel().shape)\n",
    "print(a.reshape(-1).shape)"
   ]
  },
  {
   "cell_type": "markdown",
   "metadata": {},
   "source": [
    "# Matplotlib.pyplot atvaizdavimui"
   ]
  },
  {
   "cell_type": "code",
   "execution_count": 17,
   "metadata": {},
   "outputs": [],
   "source": [
    "x = np.linspace(0, 2*np.pi, 100) #100 elementų intervale nuo 0 iki 2*pi\n",
    "y = np.sin(x)\n",
    "\n",
    "\n",
    "x1 = np.linspace(-5, 5, 100)\n",
    "y1 = x1**2"
   ]
  },
  {
   "cell_type": "code",
   "execution_count": 18,
   "metadata": {},
   "outputs": [
    {
     "data": {
      "text/plain": [
       "[<matplotlib.lines.Line2D at 0x2a9d716ac08>]"
      ]
     },
     "execution_count": 18,
     "metadata": {},
     "output_type": "execute_result"
    },
    {
     "data": {
      "image/png": "[encoded data removed]",
      "text/plain": [
       "<Figure size 432x288 with 1 Axes>"
      ]
     },
     "metadata": {
      "needs_background": "light"
     },
     "output_type": "display_data"
    }
   ],
   "source": [
    "plt.plot(x, y)"
   ]
  },
  {
   "cell_type": "code",
   "execution_count": 19,
   "metadata": {},
   "outputs": [
    {
     "data": {
      "text/plain": [
       "[<matplotlib.lines.Line2D at 0x2a9d74c5f48>]"
      ]
     },
     "execution_count": 19,
     "metadata": {},
     "output_type": "execute_result"
    },
    {
     "data": {
      "image/png": "[encoded data removed]",
      "text/plain": [
       "<Figure size 432x288 with 1 Axes>"
      ]
     },
     "metadata": {
      "needs_background": "light"
     },
     "output_type": "display_data"
    }
   ],
   "source": [
    "plt.plot(x1, y1, color='red')"
   ]
  },
  {
   "cell_type": "code",
   "execution_count": 47,
   "metadata": {},
   "outputs": [
    {
     "data": {
      "text/plain": [
       "[<matplotlib.lines.Line2D at 0x2a9d7614e48>]"
      ]
     },
     "execution_count": 47,
     "metadata": {},
     "output_type": "execute_result"
    },
    {
     "data": {
      "image/png": "[encoded data removed]",
      "text/plain": [
       "<Figure size 432x288 with 2 Axes>"
      ]
     },
     "metadata": {
      "needs_background": "light"
     },
     "output_type": "display_data"
    }
   ],
   "source": [
    "fig, (ax0, ax1) = plt.subplots(2)\n",
    "fig.suptitle('Sin(X), and X^2 plots')\n",
    "ax0.plot(x, y, color='green')\n",
    "ax1.plot(x1, y1, color = 'red')"
   ]
  },
  {
   "cell_type": "code",
   "execution_count": 48,
   "metadata": {},
   "outputs": [
    {
     "data": {
      "text/plain": [
       "(array([2.000e+00, 1.000e+00, 6.000e+00, 2.300e+01, 4.300e+01, 1.180e+02,\n",
       "        2.130e+02, 3.500e+02, 5.780e+02, 7.980e+02, 1.051e+03, 1.294e+03,\n",
       "        1.252e+03, 1.187e+03, 1.022e+03, 8.350e+02, 5.700e+02, 3.300e+02,\n",
       "        1.710e+02, 9.500e+01, 3.300e+01, 1.800e+01, 8.000e+00, 0.000e+00,\n",
       "        2.000e+00]),\n",
       " array([-4.06180516, -3.73523136, -3.40865756, -3.08208376, -2.75550995,\n",
       "        -2.42893615, -2.10236235, -1.77578855, -1.44921475, -1.12264095,\n",
       "        -0.79606714, -0.46949334, -0.14291954,  0.18365426,  0.51022806,\n",
       "         0.83680186,  1.16337567,  1.48994947,  1.81652327,  2.14309707,\n",
       "         2.46967087,  2.79624467,  3.12281848,  3.44939228,  3.77596608,\n",
       "         4.10253988]),\n",
       " <BarContainer object of 25 artists>)"
      ]
     },
     "execution_count": 48,
     "metadata": {},
     "output_type": "execute_result"
    },
    {
     "data": {
      "image/png": "[encoded data removed]",
      "text/plain": [
       "<Figure size 432x288 with 1 Axes>"
      ]
     },
     "metadata": {
      "needs_background": "light"
     },
     "output_type": "display_data"
    }
   ],
   "source": [
    "x = np.random.randn(10000)\n",
    "plt.hist(x, bins = 25)"
   ]
  },
  {
   "cell_type": "markdown",
   "metadata": {},
   "source": [
    "## Užduotis\n",
    "\n",
    "1.Sukurti du mąsyvus :\n",
    "a - su atsitiktinėmis reikšmėmis, su forma (10, 10, 10). išskleisti į vienos dimensijos masyvą. \n",
    "b - su reikšmėmis iš intervalo (0, 1), turintį vieną dimensiją su 1000 elementų.\n",
    "\n",
    "2.Pavaizduoti du grafikus vieną šalia kito: kreivę, kurios x-ašis yra a, o y-ašis yra b ir a masyvo reikšmių histogramą. Grafikai turėtų turėti pavadinimą bei legendą.\n",
    "\n",
    "3.Paskaičiuoti a ir b dot product\n",
    "\n",
    "4.Paskaičiuoti a ir b sandaugą\n",
    "\n",
    "5.Paskaičiuoti a ir b sumą\n",
    "\n",
    "\n",
    "6.Sukurti funkciją, kuri masyvui pritaikytų funkciją 1/(1 + e^(-x)) ir grąžintų pakeistą masyvą\n",
    "\n",
    "7.Pritaikyti funkciją b masyvui (rezultatą išsaugoti naujame masyve)\n",
    "\n",
    "8.Nubrėžti gautų reikšmių grafiką\n",
    "\n",
    "9.Ką galite pasakyti apie šią funkciją?\n",
    "\n",
    "\n"
   ]
  },
  {
   "cell_type": "code",
   "execution_count": 85,
   "metadata": {},
   "outputs": [],
   "source": [
    "# 1\n",
    "a = np.random.randn(10, 10, 10)\n",
    "a = a.ravel()\n",
    "b = np.linspace(0, 1, 1000)"
   ]
  },
  {
   "cell_type": "code",
   "execution_count": 86,
   "metadata": {},
   "outputs": [
    {
     "data": {
      "text/plain": [
       "(array([ 2.,  3.,  2.,  1.,  5.,  6.,  8., 27., 18., 33., 30., 36., 53.,\n",
       "        65., 78., 71., 84., 69., 81., 57., 62., 52., 46., 32., 20., 22.,\n",
       "        14., 16.,  4.,  3.]),\n",
       " array([-3.15030395, -2.96205279, -2.77380163, -2.58555047, -2.39729931,\n",
       "        -2.20904815, -2.02079699, -1.83254583, -1.64429467, -1.45604352,\n",
       "        -1.26779236, -1.0795412 , -0.89129004, -0.70303888, -0.51478772,\n",
       "        -0.32653656, -0.1382854 ,  0.04996576,  0.23821691,  0.42646807,\n",
       "         0.61471923,  0.80297039,  0.99122155,  1.17947271,  1.36772387,\n",
       "         1.55597503,  1.74422619,  1.93247735,  2.1207285 ,  2.30897966,\n",
       "         2.49723082]),\n",
       " <BarContainer object of 30 artists>)"
      ]
     },
     "execution_count": 86,
     "metadata": {},
     "output_type": "execute_result"
    },
    {
     "data": {
      "image/png": "[encoded data removed]",
      "text/plain": [
       "<Figure size 432x288 with 2 Axes>"
      ]
     },
     "metadata": {
      "needs_background": "light"
     },
     "output_type": "display_data"
    }
   ],
   "source": [
    "# 2\n",
    "fig, (ax0, ax1) = plt.subplots(2)\n",
    "fig.suptitle('a ir b kreivė, bei a histograma')\n",
    "ax0.plot(a, b, color='red')\n",
    "ax1.hist(a, bins = 30)"
   ]
  },
  {
   "cell_type": "code",
   "execution_count": 62,
   "metadata": {},
   "outputs": [
    {
     "data": {
      "text/plain": [
       "-7.945534052753111"
      ]
     },
     "execution_count": 62,
     "metadata": {},
     "output_type": "execute_result"
    }
   ],
   "source": [
    "# 3\n",
    "skaliarine_sandauga = a.dot(b)"
   ]
  },
  {
   "cell_type": "code",
   "execution_count": 77,
   "metadata": {},
   "outputs": [],
   "source": [
    "sandauga = a * b\n",
    "matricu_sandauga = np.matmul(a, b)"
   ]
  },
  {
   "cell_type": "code",
   "execution_count": null,
   "metadata": {},
   "outputs": [],
   "source": [
    "sudetis = a + b"
   ]
  },
  {
   "cell_type": "code",
   "execution_count": 101,
   "metadata": {},
   "outputs": [],
   "source": [
    "def eksponentine(x):\n",
    "    return 1/(1 + np.e**(-x))"
   ]
  },
  {
   "cell_type": "code",
   "execution_count": 102,
   "metadata": {},
   "outputs": [],
   "source": [
    "b = np.linspace(-10, 10, 1000)"
   ]
  },
  {
   "cell_type": "code",
   "execution_count": 103,
   "metadata": {},
   "outputs": [],
   "source": [
    "c = eksponentine(b)"
   ]
  },
  {
   "cell_type": "code",
   "execution_count": 104,
   "metadata": {},
   "outputs": [
    {
     "name": "stdout",
     "output_type": "stream",
     "text": [
      "[4.53978687e-05 4.63158512e-05 4.72523952e-05 4.82078759e-05\n",
      " 4.91826763e-05 5.01771869e-05 5.11918062e-05 5.22269408e-05\n",
      " 5.32830055e-05 5.43604233e-05 5.54596260e-05 5.65810541e-05\n",
      " 5.77251568e-05 5.88923926e-05 6.00832291e-05 6.12981436e-05\n",
      " 6.25376227e-05 6.38021631e-05 6.50922714e-05 6.64084646e-05\n",
      " 6.77512700e-05 6.91212255e-05 7.05188801e-05 7.19447937e-05\n",
      " 7.33995376e-05 7.48836947e-05 7.63978594e-05 7.79426385e-05\n",
      " 7.95186509e-05 8.11265279e-05 8.27669137e-05 8.44404654e-05\n",
      " 8.61478535e-05 8.78897620e-05 8.96668888e-05 9.14799456e-05\n",
      " 9.33296589e-05 9.52167696e-05 9.71420337e-05 9.91062223e-05\n",
      " 1.01110122e-04 1.03154537e-04 1.05240284e-04 1.07368200e-04\n",
      " 1.09539136e-04 1.11753963e-04 1.14013568e-04 1.16318855e-04\n",
      " 1.18670749e-04 1.21070190e-04 1.23518141e-04 1.26015581e-04\n",
      " 1.28563510e-04 1.31162951e-04 1.33814942e-04 1.36520547e-04\n",
      " 1.39280849e-04 1.42096953e-04 1.44969988e-04 1.47901103e-04\n",
      " 1.50891473e-04 1.53942295e-04 1.57054791e-04 1.60230207e-04\n",
      " 1.63469815e-04 1.66774912e-04 1.70146821e-04 1.73586893e-04\n",
      " 1.77096504e-04 1.80677061e-04 1.84329997e-04 1.88056774e-04\n",
      " 1.91858884e-04 1.95737850e-04 1.99695224e-04 2.03732591e-04\n",
      " 2.07851567e-04 2.12053802e-04 2.16340976e-04 2.20714807e-04\n",
      " 2.25177044e-04 2.29729476e-04 2.34373922e-04 2.39112243e-04\n",
      " 2.43946335e-04 2.48878133e-04 2.53909610e-04 2.59042780e-04\n",
      " 2.64279698e-04 2.69622459e-04 2.75073201e-04 2.80634106e-04\n",
      " 2.86307398e-04 2.92095348e-04 2.98000271e-04 3.04024530e-04\n",
      " 3.10170536e-04 3.16440746e-04 3.22837671e-04 3.29363868e-04\n",
      " 3.36021949e-04 3.42814576e-04 3.49744467e-04 3.56814394e-04\n",
      " 3.64027184e-04 3.71385722e-04 3.78892952e-04 3.86551874e-04\n",
      " 3.94365552e-04 4.02337111e-04 4.10469738e-04 4.18766684e-04\n",
      " 4.27231268e-04 4.35866872e-04 4.44676950e-04 4.53665024e-04\n",
      " 4.62834685e-04 4.72189600e-04 4.81733507e-04 4.91470221e-04\n",
      " 5.01403633e-04 5.11537712e-04 5.21876509e-04 5.32424154e-04\n",
      " 5.43184862e-04 5.54162932e-04 5.65362748e-04 5.76788787e-04\n",
      " 5.88445610e-04 6.00337875e-04 6.12470331e-04 6.24847823e-04\n",
      " 6.37475294e-04 6.50357786e-04 6.63500442e-04 6.76908510e-04\n",
      " 6.90587341e-04 7.04542397e-04 7.18779247e-04 7.33303573e-04\n",
      " 7.48121172e-04 7.63237956e-04 7.78659956e-04 7.94393326e-04\n",
      " 8.10444342e-04 8.26819407e-04 8.43525051e-04 8.60567936e-04\n",
      " 8.77954860e-04 8.95692755e-04 9.13788692e-04 9.32249886e-04\n",
      " 9.51083694e-04 9.70297623e-04 9.89899330e-04 1.00989663e-03\n",
      " 1.03029748e-03 1.05111001e-03 1.07234252e-03 1.09400345e-03\n",
      " 1.11610144e-03 1.13864528e-03 1.16164395e-03 1.18510661e-03\n",
      " 1.20904258e-03 1.23346140e-03 1.25837277e-03 1.28378662e-03\n",
      " 1.30971305e-03 1.33616238e-03 1.36314511e-03 1.39067197e-03\n",
      " 1.41875391e-03 1.44740210e-03 1.47662790e-03 1.50644294e-03\n",
      " 1.53685906e-03 1.56788833e-03 1.59954309e-03 1.63183589e-03\n",
      " 1.66477956e-03 1.69838716e-03 1.73267204e-03 1.76764779e-03\n",
      " 1.80332829e-03 1.83972768e-03 1.87686040e-03 1.91474115e-03\n",
      " 1.95338497e-03 1.99280714e-03 2.03302329e-03 2.07404934e-03\n",
      " 2.11590154e-03 2.15859644e-03 2.20215094e-03 2.24658228e-03\n",
      " 2.29190801e-03 2.33814607e-03 2.38531473e-03 2.43343263e-03\n",
      " 2.48251877e-03 2.53259254e-03 2.58367371e-03 2.63578244e-03\n",
      " 2.68893930e-03 2.74316523e-03 2.79848164e-03 2.85491032e-03\n",
      " 2.91247350e-03 2.97119386e-03 3.03109453e-03 3.09219908e-03\n",
      " 3.15453155e-03 3.21811646e-03 3.28297881e-03 3.34914409e-03\n",
      " 3.41663830e-03 3.48548794e-03 3.55572004e-03 3.62736216e-03\n",
      " 3.70044239e-03 3.77498938e-03 3.85103236e-03 3.92860109e-03\n",
      " 4.00772595e-03 4.08843790e-03 4.17076851e-03 4.25474996e-03\n",
      " 4.34041507e-03 4.42779729e-03 4.51693073e-03 4.60785016e-03\n",
      " 4.70059102e-03 4.79518946e-03 4.89168232e-03 4.99010716e-03\n",
      " 5.09050226e-03 5.19290664e-03 5.29736010e-03 5.40390320e-03\n",
      " 5.51257726e-03 5.62342443e-03 5.73648767e-03 5.85181076e-03\n",
      " 5.96943831e-03 6.08941582e-03 6.21178964e-03 6.33660702e-03\n",
      " 6.46391613e-03 6.59376604e-03 6.72620677e-03 6.86128929e-03\n",
      " 6.99906557e-03 7.13958854e-03 7.28291214e-03 7.42909137e-03\n",
      " 7.57818225e-03 7.73024185e-03 7.88532835e-03 8.04350103e-03\n",
      " 8.20482027e-03 8.36934760e-03 8.53714573e-03 8.70827852e-03\n",
      " 8.88281104e-03 9.06080960e-03 9.24234173e-03 9.42747622e-03\n",
      " 9.61628318e-03 9.80883399e-03 1.00052014e-02 1.02054594e-02\n",
      " 1.04096835e-02 1.06179506e-02 1.08303389e-02 1.10469281e-02\n",
      " 1.12677993e-02 1.14930354e-02 1.17227204e-02 1.19569400e-02\n",
      " 1.21957816e-02 1.24393341e-02 1.26876878e-02 1.29409350e-02\n",
      " 1.31991695e-02 1.34624867e-02 1.37309839e-02 1.40047600e-02\n",
      " 1.42839158e-02 1.45685537e-02 1.48587781e-02 1.51546953e-02\n",
      " 1.54564133e-02 1.57640421e-02 1.60776936e-02 1.63974818e-02\n",
      " 1.67235226e-02 1.70559337e-02 1.73948353e-02 1.77403493e-02\n",
      " 1.80926000e-02 1.84517134e-02 1.88178182e-02 1.91910450e-02\n",
      " 1.95715265e-02 1.99593979e-02 2.03547967e-02 2.07578625e-02\n",
      " 2.11687373e-02 2.15875655e-02 2.20144940e-02 2.24496720e-02\n",
      " 2.28932511e-02 2.33453855e-02 2.38062318e-02 2.42759493e-02\n",
      " 2.47546996e-02 2.52426473e-02 2.57399592e-02 2.62468049e-02\n",
      " 2.67633568e-02 2.72897898e-02 2.78262817e-02 2.83730128e-02\n",
      " 2.89301664e-02 2.94979286e-02 3.00764881e-02 3.06660367e-02\n",
      " 3.12667689e-02 3.18788821e-02 3.25025767e-02 3.31380558e-02\n",
      " 3.37855258e-02 3.44451957e-02 3.51172776e-02 3.58019868e-02\n",
      " 3.64995412e-02 3.72101621e-02 3.79340735e-02 3.86715028e-02\n",
      " 3.94226800e-02 4.01878386e-02 4.09672148e-02 4.17610481e-02\n",
      " 4.25695809e-02 4.33930589e-02 4.42317304e-02 4.50858473e-02\n",
      " 4.59556642e-02 4.68414389e-02 4.77434321e-02 4.86619076e-02\n",
      " 4.95971322e-02 5.05493756e-02 5.15189107e-02 5.25060131e-02\n",
      " 5.35109613e-02 5.45340368e-02 5.55755240e-02 5.66357100e-02\n",
      " 5.77148846e-02 5.88133406e-02 5.99313732e-02 6.10692803e-02\n",
      " 6.22273626e-02 6.34059230e-02 6.46052671e-02 6.58257028e-02\n",
      " 6.70675403e-02 6.83310920e-02 6.96166727e-02 7.09245990e-02\n",
      " 7.22551897e-02 7.36087653e-02 7.49856484e-02 7.63861629e-02\n",
      " 7.78106348e-02 7.92593910e-02 8.07327601e-02 8.22310719e-02\n",
      " 8.37546572e-02 8.53038479e-02 8.68789765e-02 8.84803763e-02\n",
      " 9.01083811e-02 9.17633250e-02 9.34455423e-02 9.51553672e-02\n",
      " 9.68931340e-02 9.86591763e-02 1.00453827e-01 1.02277419e-01\n",
      " 1.04130284e-01 1.06012751e-01 1.07925150e-01 1.09867807e-01\n",
      " 1.11841049e-01 1.13845197e-01 1.15880573e-01 1.17947495e-01\n",
      " 1.20046279e-01 1.22177235e-01 1.24340674e-01 1.26536899e-01\n",
      " 1.28766211e-01 1.31028908e-01 1.33325280e-01 1.35655615e-01\n",
      " 1.38020194e-01 1.40419294e-01 1.42853185e-01 1.45322130e-01\n",
      " 1.47826387e-01 1.50366206e-01 1.52941831e-01 1.55553496e-01\n",
      " 1.58201429e-01 1.60885849e-01 1.63606967e-01 1.66364983e-01\n",
      " 1.69160089e-01 1.71992467e-01 1.74862289e-01 1.77769715e-01\n",
      " 1.80714895e-01 1.83697968e-01 1.86719061e-01 1.89778287e-01\n",
      " 1.92875749e-01 1.96011535e-01 1.99185722e-01 2.02398371e-01\n",
      " 2.05649530e-01 2.08939233e-01 2.12267497e-01 2.15634327e-01\n",
      " 2.19039709e-01 2.22483616e-01 2.25966004e-01 2.29486811e-01\n",
      " 2.33045960e-01 2.36643355e-01 2.40278883e-01 2.43952415e-01\n",
      " 2.47663801e-01 2.51412875e-01 2.55199449e-01 2.59023321e-01\n",
      " 2.62884266e-01 2.66782041e-01 2.70716383e-01 2.74687009e-01\n",
      " 2.78693618e-01 2.82735887e-01 2.86813473e-01 2.90926013e-01\n",
      " 2.95073124e-01 2.99254403e-01 3.03469424e-01 3.07717744e-01\n",
      " 3.11998897e-01 3.16312397e-01 3.20657738e-01 3.25034394e-01\n",
      " 3.29441818e-01 3.33879443e-01 3.38346683e-01 3.42842930e-01\n",
      " 3.47367558e-01 3.51919922e-01 3.56499357e-01 3.61105179e-01\n",
      " 3.65736686e-01 3.70393159e-01 3.75073858e-01 3.79778027e-01\n",
      " 3.84504896e-01 3.89253673e-01 3.94023553e-01 3.98813717e-01\n",
      " 4.03623326e-01 4.08451530e-01 4.13297465e-01 4.18160251e-01\n",
      " 4.23038997e-01 4.27932801e-01 4.32840745e-01 4.37761905e-01\n",
      " 4.42695343e-01 4.47640114e-01 4.52595261e-01 4.57559823e-01\n",
      " 4.62532828e-01 4.67513298e-01 4.72500251e-01 4.77492698e-01\n",
      " 4.82489646e-01 4.87490099e-01 4.92493057e-01 4.97497518e-01\n",
      " 5.02502482e-01 5.07506943e-01 5.12509901e-01 5.17510354e-01\n",
      " 5.22507302e-01 5.27499749e-01 5.32486702e-01 5.37467172e-01\n",
      " 5.42440177e-01 5.47404739e-01 5.52359886e-01 5.57304657e-01\n",
      " 5.62238095e-01 5.67159255e-01 5.72067199e-01 5.76961003e-01\n",
      " 5.81839749e-01 5.86702535e-01 5.91548470e-01 5.96376674e-01\n",
      " 6.01186283e-01 6.05976447e-01 6.10746327e-01 6.15495104e-01\n",
      " 6.20221973e-01 6.24926142e-01 6.29606841e-01 6.34263314e-01\n",
      " 6.38894821e-01 6.43500643e-01 6.48080078e-01 6.52632442e-01\n",
      " 6.57157070e-01 6.61653317e-01 6.66120557e-01 6.70558182e-01\n",
      " 6.74965606e-01 6.79342262e-01 6.83687603e-01 6.88001103e-01\n",
      " 6.92282256e-01 6.96530576e-01 7.00745597e-01 7.04926876e-01\n",
      " 7.09073987e-01 7.13186527e-01 7.17264113e-01 7.21306382e-01\n",
      " 7.25312991e-01 7.29283617e-01 7.33217959e-01 7.37115734e-01\n",
      " 7.40976679e-01 7.44800551e-01 7.48587125e-01 7.52336199e-01\n",
      " 7.56047585e-01 7.59721117e-01 7.63356645e-01 7.66954040e-01\n",
      " 7.70513189e-01 7.74033996e-01 7.77516384e-01 7.80960291e-01\n",
      " 7.84365673e-01 7.87732503e-01 7.91060767e-01 7.94350470e-01\n",
      " 7.97601629e-01 8.00814278e-01 8.03988465e-01 8.07124251e-01\n",
      " 8.10221713e-01 8.13280939e-01 8.16302032e-01 8.19285105e-01\n",
      " 8.22230285e-01 8.25137711e-01 8.28007533e-01 8.30839911e-01\n",
      " 8.33635017e-01 8.36393033e-01 8.39114151e-01 8.41798571e-01\n",
      " 8.44446504e-01 8.47058169e-01 8.49633794e-01 8.52173613e-01\n",
      " 8.54677870e-01 8.57146815e-01 8.59580706e-01 8.61979806e-01\n",
      " 8.64344385e-01 8.66674720e-01 8.68971092e-01 8.71233789e-01\n",
      " 8.73463101e-01 8.75659326e-01 8.77822765e-01 8.79953721e-01\n",
      " 8.82052505e-01 8.84119427e-01 8.86154803e-01 8.88158951e-01\n",
      " 8.90132193e-01 8.92074850e-01 8.93987249e-01 8.95869716e-01\n",
      " 8.97722581e-01 8.99546173e-01 9.01340824e-01 9.03106866e-01\n",
      " 9.04844633e-01 9.06554458e-01 9.08236675e-01 9.09891619e-01\n",
      " 9.11519624e-01 9.13121024e-01 9.14696152e-01 9.16245343e-01\n",
      " 9.17768928e-01 9.19267240e-01 9.20740609e-01 9.22189365e-01\n",
      " 9.23613837e-01 9.25014352e-01 9.26391235e-01 9.27744810e-01\n",
      " 9.29075401e-01 9.30383327e-01 9.31668908e-01 9.32932460e-01\n",
      " 9.34174297e-01 9.35394733e-01 9.36594077e-01 9.37772637e-01\n",
      " 9.38930720e-01 9.40068627e-01 9.41186659e-01 9.42285115e-01\n",
      " 9.43364290e-01 9.44424476e-01 9.45465963e-01 9.46489039e-01\n",
      " 9.47493987e-01 9.48481089e-01 9.49450624e-01 9.50402868e-01\n",
      " 9.51338092e-01 9.52256568e-01 9.53158561e-01 9.54044336e-01\n",
      " 9.54914153e-01 9.55768270e-01 9.56606941e-01 9.57430419e-01\n",
      " 9.58238952e-01 9.59032785e-01 9.59812161e-01 9.60577320e-01\n",
      " 9.61328497e-01 9.62065926e-01 9.62789838e-01 9.63500459e-01\n",
      " 9.64198013e-01 9.64882722e-01 9.65554804e-01 9.66214474e-01\n",
      " 9.66861944e-01 9.67497423e-01 9.68121118e-01 9.68733231e-01\n",
      " 9.69333963e-01 9.69923512e-01 9.70502071e-01 9.71069834e-01\n",
      " 9.71626987e-01 9.72173718e-01 9.72710210e-01 9.73236643e-01\n",
      " 9.73753195e-01 9.74260041e-01 9.74757353e-01 9.75245300e-01\n",
      " 9.75724051e-01 9.76193768e-01 9.76654615e-01 9.77106749e-01\n",
      " 9.77550328e-01 9.77985506e-01 9.78412434e-01 9.78831263e-01\n",
      " 9.79242138e-01 9.79645203e-01 9.80040602e-01 9.80428474e-01\n",
      " 9.80808955e-01 9.81182182e-01 9.81548287e-01 9.81907400e-01\n",
      " 9.82259651e-01 9.82605165e-01 9.82944066e-01 9.83276477e-01\n",
      " 9.83602518e-01 9.83922306e-01 9.84235958e-01 9.84543587e-01\n",
      " 9.84845305e-01 9.85141222e-01 9.85431446e-01 9.85716084e-01\n",
      " 9.85995240e-01 9.86269016e-01 9.86537513e-01 9.86800830e-01\n",
      " 9.87059065e-01 9.87312312e-01 9.87560666e-01 9.87804218e-01\n",
      " 9.88043060e-01 9.88277280e-01 9.88506965e-01 9.88732201e-01\n",
      " 9.88953072e-01 9.89169661e-01 9.89382049e-01 9.89590316e-01\n",
      " 9.89794541e-01 9.89994799e-01 9.90191166e-01 9.90383717e-01\n",
      " 9.90572524e-01 9.90757658e-01 9.90939190e-01 9.91117189e-01\n",
      " 9.91291721e-01 9.91462854e-01 9.91630652e-01 9.91795180e-01\n",
      " 9.91956499e-01 9.92114672e-01 9.92269758e-01 9.92421818e-01\n",
      " 9.92570909e-01 9.92717088e-01 9.92860411e-01 9.93000934e-01\n",
      " 9.93138711e-01 9.93273793e-01 9.93406234e-01 9.93536084e-01\n",
      " 9.93663393e-01 9.93788210e-01 9.93910584e-01 9.94030562e-01\n",
      " 9.94148189e-01 9.94263512e-01 9.94376576e-01 9.94487423e-01\n",
      " 9.94596097e-01 9.94702640e-01 9.94807093e-01 9.94909498e-01\n",
      " 9.95009893e-01 9.95108318e-01 9.95204811e-01 9.95299409e-01\n",
      " 9.95392150e-01 9.95483069e-01 9.95572203e-01 9.95659585e-01\n",
      " 9.95745250e-01 9.95829231e-01 9.95911562e-01 9.95992274e-01\n",
      " 9.96071399e-01 9.96148968e-01 9.96225011e-01 9.96299558e-01\n",
      " 9.96372638e-01 9.96444280e-01 9.96514512e-01 9.96583362e-01\n",
      " 9.96650856e-01 9.96717021e-01 9.96781884e-01 9.96845468e-01\n",
      " 9.96907801e-01 9.96968905e-01 9.97028806e-01 9.97087526e-01\n",
      " 9.97145090e-01 9.97201518e-01 9.97256835e-01 9.97311061e-01\n",
      " 9.97364218e-01 9.97416326e-01 9.97467407e-01 9.97517481e-01\n",
      " 9.97566567e-01 9.97614685e-01 9.97661854e-01 9.97708092e-01\n",
      " 9.97753418e-01 9.97797849e-01 9.97841404e-01 9.97884098e-01\n",
      " 9.97925951e-01 9.97966977e-01 9.98007193e-01 9.98046615e-01\n",
      " 9.98085259e-01 9.98123140e-01 9.98160272e-01 9.98196672e-01\n",
      " 9.98232352e-01 9.98267328e-01 9.98301613e-01 9.98335220e-01\n",
      " 9.98368164e-01 9.98400457e-01 9.98432112e-01 9.98463141e-01\n",
      " 9.98493557e-01 9.98523372e-01 9.98552598e-01 9.98581246e-01\n",
      " 9.98609328e-01 9.98636855e-01 9.98663838e-01 9.98690287e-01\n",
      " 9.98716213e-01 9.98741627e-01 9.98766539e-01 9.98790957e-01\n",
      " 9.98814893e-01 9.98838356e-01 9.98861355e-01 9.98883899e-01\n",
      " 9.98905997e-01 9.98927657e-01 9.98948890e-01 9.98969703e-01\n",
      " 9.98990103e-01 9.99010101e-01 9.99029702e-01 9.99048916e-01\n",
      " 9.99067750e-01 9.99086211e-01 9.99104307e-01 9.99122045e-01\n",
      " 9.99139432e-01 9.99156475e-01 9.99173181e-01 9.99189556e-01\n",
      " 9.99205607e-01 9.99221340e-01 9.99236762e-01 9.99251879e-01\n",
      " 9.99266696e-01 9.99281221e-01 9.99295458e-01 9.99309413e-01\n",
      " 9.99323091e-01 9.99336500e-01 9.99349642e-01 9.99362525e-01\n",
      " 9.99375152e-01 9.99387530e-01 9.99399662e-01 9.99411554e-01\n",
      " 9.99423211e-01 9.99434637e-01 9.99445837e-01 9.99456815e-01\n",
      " 9.99467576e-01 9.99478123e-01 9.99488462e-01 9.99498596e-01\n",
      " 9.99508530e-01 9.99518266e-01 9.99527810e-01 9.99537165e-01\n",
      " 9.99546335e-01 9.99555323e-01 9.99564133e-01 9.99572769e-01\n",
      " 9.99581233e-01 9.99589530e-01 9.99597663e-01 9.99605634e-01\n",
      " 9.99613448e-01 9.99621107e-01 9.99628614e-01 9.99635973e-01\n",
      " 9.99643186e-01 9.99650256e-01 9.99657185e-01 9.99663978e-01\n",
      " 9.99670636e-01 9.99677162e-01 9.99683559e-01 9.99689829e-01\n",
      " 9.99695975e-01 9.99702000e-01 9.99707905e-01 9.99713693e-01\n",
      " 9.99719366e-01 9.99724927e-01 9.99730378e-01 9.99735720e-01\n",
      " 9.99740957e-01 9.99746090e-01 9.99751122e-01 9.99756054e-01\n",
      " 9.99760888e-01 9.99765626e-01 9.99770271e-01 9.99774823e-01\n",
      " 9.99779285e-01 9.99783659e-01 9.99787946e-01 9.99792148e-01\n",
      " 9.99796267e-01 9.99800305e-01 9.99804262e-01 9.99808141e-01\n",
      " 9.99811943e-01 9.99815670e-01 9.99819323e-01 9.99822903e-01\n",
      " 9.99826413e-01 9.99829853e-01 9.99833225e-01 9.99836530e-01\n",
      " 9.99839770e-01 9.99842945e-01 9.99846058e-01 9.99849109e-01\n",
      " 9.99852099e-01 9.99855030e-01 9.99857903e-01 9.99860719e-01\n",
      " 9.99863479e-01 9.99866185e-01 9.99868837e-01 9.99871436e-01\n",
      " 9.99873984e-01 9.99876482e-01 9.99878930e-01 9.99881329e-01\n",
      " 9.99883681e-01 9.99885986e-01 9.99888246e-01 9.99890461e-01\n",
      " 9.99892632e-01 9.99894760e-01 9.99896845e-01 9.99898890e-01\n",
      " 9.99900894e-01 9.99902858e-01 9.99904783e-01 9.99906670e-01\n",
      " 9.99908520e-01 9.99910333e-01 9.99912110e-01 9.99913852e-01\n",
      " 9.99915560e-01 9.99917233e-01 9.99918873e-01 9.99920481e-01\n",
      " 9.99922057e-01 9.99923602e-01 9.99925116e-01 9.99926600e-01\n",
      " 9.99928055e-01 9.99929481e-01 9.99930879e-01 9.99932249e-01\n",
      " 9.99933592e-01 9.99934908e-01 9.99936198e-01 9.99937462e-01\n",
      " 9.99938702e-01 9.99939917e-01 9.99941108e-01 9.99942275e-01\n",
      " 9.99943419e-01 9.99944540e-01 9.99945640e-01 9.99946717e-01\n",
      " 9.99947773e-01 9.99948808e-01 9.99949823e-01 9.99950817e-01\n",
      " 9.99951792e-01 9.99952748e-01 9.99953684e-01 9.99954602e-01]\n"
     ]
    }
   ],
   "source": [
    "print(c)"
   ]
  },
  {
   "cell_type": "code",
   "execution_count": 105,
   "metadata": {},
   "outputs": [
    {
     "data": {
      "text/plain": [
       "[<matplotlib.lines.Line2D at 0x2a9da47a908>]"
      ]
     },
     "execution_count": 105,
     "metadata": {},
     "output_type": "execute_result"
    },
    {
     "data": {
      "image/png": "[encoded data removed]",
      "text/plain": [
       "<Figure size 432x288 with 1 Axes>"
      ]
     },
     "metadata": {
      "needs_background": "light"
     },
     "output_type": "display_data"
    }
   ],
   "source": [
    "plt.plot(b, c)"
   ]
  },
  {
   "cell_type": "code",
   "execution_count": 100,
   "metadata": {},
   "outputs": [
    {
     "data": {
      "text/plain": [
       "[<matplotlib.lines.Line2D at 0x2a9da421c88>]"
      ]
     },
     "execution_count": 100,
     "metadata": {},
     "output_type": "execute_result"
    },
    {
     "data": {
      "image/png": "[encoded data removed]",
      "text/plain": [
       "<Figure size 432x288 with 1 Axes>"
      ]
     },
     "metadata": {
      "needs_background": "light"
     },
     "output_type": "display_data"
    }
   ],
   "source": [
    "d = eksponentine(a)\n",
    "plt.plot(a, c)"
   ]
  },
  {
   "cell_type": "code",
   "execution_count": null,
   "metadata": {},
   "outputs": [],
   "source": []
  }
 ],
 "metadata": {
  "kernelspec": {
   "display_name": "Python 3",
   "language": "python",
   "name": "python3"
  },
  "language_info": {
   "codemirror_mode": {
    "name": "ipython",
    "version": 3
   },
   "file_extension": ".py",
   "mimetype": "text/x-python",
   "name": "python",
   "nbconvert_exporter": "python",
   "pygments_lexer": "ipython3",
   "version": "3.7.4"
  }
 },
 "nbformat": 4,
 "nbformat_minor": 4
}
