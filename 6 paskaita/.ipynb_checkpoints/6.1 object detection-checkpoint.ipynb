{
 "cells": [
  {
   "cell_type": "code",
   "execution_count": 2,
   "metadata": {},
   "outputs": [],
   "source": [
    "#Įsikeliame reikalingas bibliotekas\n",
    "import matplotlib.pyplot as plt\n",
    "import numpy as np\n",
    "from sklearn import datasets\n",
    "from sklearn.model_selection import train_test_split\n",
    "\n",
    "import keras\n",
    "\n",
    "from pylab import rcParams\n",
    "rcParams['figure.figsize'] = 10, 10"
   ]
  },
  {
   "cell_type": "code",
   "execution_count": 3,
   "metadata": {},
   "outputs": [],
   "source": [
    "#Įsikeliame duomenis\n",
    "\n",
    "(X_train, y_train), (X_test, y_test) =  keras.datasets.cifar10.load_data()"
   ]
  },
  {
   "cell_type": "code",
   "execution_count": 4,
   "metadata": {},
   "outputs": [],
   "source": [
    "# normalizuojame\n",
    "X_train = X_train / 255\n",
    "X_test = X_test / 255"
   ]
  },
  {
   "cell_type": "code",
   "execution_count": 5,
   "metadata": {},
   "outputs": [],
   "source": [
    "X_train, X_valid, y_train, y_valid = train_test_split(X_train, y_train, test_size=0.1, shuffle= True)"
   ]
  },
  {
   "cell_type": "code",
   "execution_count": 6,
   "metadata": {},
   "outputs": [],
   "source": [
    "y_train_one_hot = keras.utils.to_categorical(y_train, 10)\n",
    "y_valid_one_hot = keras.utils.to_categorical(y_valid, 10)\n",
    "y_test_one_hot = keras.utils.to_categorical(y_test, 10)"
   ]
  },
  {
   "cell_type": "code",
   "execution_count": 7,
   "metadata": {},
   "outputs": [
    {
     "name": "stdout",
     "output_type": "stream",
     "text": [
      "Model: \"sequential\"\n",
      "_________________________________________________________________\n",
      "Layer (type)                 Output Shape              Param #   \n",
      "=================================================================\n",
      "conv2d (Conv2D)              (None, 30, 30, 10)        280       \n",
      "_________________________________________________________________\n",
      "average_pooling2d (AveragePo (None, 15, 15, 10)        0         \n",
      "_________________________________________________________________\n",
      "conv2d_1 (Conv2D)            (None, 13, 13, 20)        1820      \n",
      "_________________________________________________________________\n",
      "average_pooling2d_1 (Average (None, 6, 6, 20)          0         \n",
      "_________________________________________________________________\n",
      "flatten (Flatten)            (None, 720)               0         \n",
      "_________________________________________________________________\n",
      "dense (Dense)                (None, 80)                57680     \n",
      "_________________________________________________________________\n",
      "dense_1 (Dense)              (None, 10)                810       \n",
      "=================================================================\n",
      "Total params: 60,590\n",
      "Trainable params: 60,590\n",
      "Non-trainable params: 0\n",
      "_________________________________________________________________\n"
     ]
    }
   ],
   "source": [
    "model = keras.models.Sequential()\n",
    "model.add(keras.layers.Conv2D(filters=10, kernel_size=(3, 3), input_shape=(32, 32, 3), activation='relu'))\n",
    "model.add(keras.layers.AveragePooling2D())\n",
    "model.add(keras.layers.Conv2D(filters=20, kernel_size=(3, 3), activation='relu'))\n",
    "model.add(keras.layers.AveragePooling2D())\n",
    "model.add(keras.layers.Flatten())\n",
    "model.add(keras.layers.Dense(80, activation='relu'))\n",
    "model.add(keras.layers.Dense(10, activation='softmax'))\n",
    "model.compile(loss='categorical_crossentropy', optimizer='adam', metrics=['accuracy'])\n",
    "model.summary()"
   ]
  },
  {
   "cell_type": "code",
   "execution_count": 8,
   "metadata": {},
   "outputs": [
    {
     "name": "stdout",
     "output_type": "stream",
     "text": [
      "Epoch 1/10\n",
      "1407/1407 [==============================] - 17s 12ms/step - loss: 1.6751 - accuracy: 0.3941 - val_loss: 1.4231 - val_accuracy: 0.4772\n",
      "Epoch 2/10\n",
      "1407/1407 [==============================] - 18s 13ms/step - loss: 1.3754 - accuracy: 0.5069 - val_loss: 1.3206 - val_accuracy: 0.5290\n",
      "Epoch 3/10\n",
      "1407/1407 [==============================] - 19s 13ms/step - loss: 1.2788 - accuracy: 0.5424 - val_loss: 1.2719 - val_accuracy: 0.5422\n",
      "Epoch 4/10\n",
      "1407/1407 [==============================] - 17s 12ms/step - loss: 1.2083 - accuracy: 0.5680 - val_loss: 1.2309 - val_accuracy: 0.5534\n",
      "Epoch 5/10\n",
      "1407/1407 [==============================] - 17s 12ms/step - loss: 1.1431 - accuracy: 0.5942 - val_loss: 1.1462 - val_accuracy: 0.5946\n",
      "Epoch 6/10\n",
      "1407/1407 [==============================] - 17s 12ms/step - loss: 1.0867 - accuracy: 0.6152 - val_loss: 1.1209 - val_accuracy: 0.6064\n",
      "Epoch 7/10\n",
      "1407/1407 [==============================] - 16s 11ms/step - loss: 1.0395 - accuracy: 0.6333 - val_loss: 1.0846 - val_accuracy: 0.6154\n",
      "Epoch 8/10\n",
      "1407/1407 [==============================] - 16s 11ms/step - loss: 0.9972 - accuracy: 0.6498 - val_loss: 1.0790 - val_accuracy: 0.6214\n",
      "Epoch 9/10\n",
      "1407/1407 [==============================] - 16s 11ms/step - loss: 0.9619 - accuracy: 0.6633 - val_loss: 1.0565 - val_accuracy: 0.6388\n",
      "Epoch 10/10\n",
      "1407/1407 [==============================] - 16s 12ms/step - loss: 0.9291 - accuracy: 0.6744 - val_loss: 1.0339 - val_accuracy: 0.6370\n"
     ]
    }
   ],
   "source": [
    "h = model.fit(X_train, y_train_one_hot, validation_data=(X_valid, y_valid_one_hot), epochs=10, batch_size=32)"
   ]
  },
  {
   "cell_type": "code",
   "execution_count": 9,
   "metadata": {},
   "outputs": [
    {
     "name": "stdout",
     "output_type": "stream",
     "text": [
      "313/313 [==============================] - 1s 4ms/step - loss: 1.0557 - accuracy: 0.6315\n"
     ]
    },
    {
     "data": {
      "text/plain": [
       "[1.055716872215271, 0.6315000057220459]"
      ]
     },
     "execution_count": 9,
     "metadata": {},
     "output_type": "execute_result"
    }
   ],
   "source": [
    "model.evaluate(X_test, y_test_one_hot)"
   ]
  },
  {
   "cell_type": "code",
   "execution_count": null,
   "metadata": {},
   "outputs": [],
   "source": [
    "# nupiesti confusion matrix\n",
    "# kia architektura"
   ]
  }
 ],
 "metadata": {
  "kernelspec": {
   "display_name": "Python 3",
   "language": "python",
   "name": "python3"
  },
  "language_info": {
   "codemirror_mode": {
    "name": "ipython",
    "version": 3
   },
   "file_extension": ".py",
   "mimetype": "text/x-python",
   "name": "python",
   "nbconvert_exporter": "python",
   "pygments_lexer": "ipython3",
   "version": "3.8.3"
  }
 },
 "nbformat": 4,
 "nbformat_minor": 4
}
